{
  "nbformat": 4,
  "nbformat_minor": 0,
  "metadata": {
    "colab": {
      "provenance": [],
      "authorship_tag": "ABX9TyMY+iAh2/T78S4m2lkvPHHe",
      "include_colab_link": true
    },
    "kernelspec": {
      "name": "python3",
      "display_name": "Python 3"
    },
    "language_info": {
      "name": "python"
    }
  },
  "cells": [
    {
      "cell_type": "markdown",
      "metadata": {
        "id": "view-in-github",
        "colab_type": "text"
      },
      "source": [
        "<a href=\"https://colab.research.google.com/github/liangli217/LLM_learning/blob/main/Agents_with_OpenAI_SDK.ipynb\" target=\"_parent\"><img src=\"https://colab.research.google.com/assets/colab-badge.svg\" alt=\"Open In Colab\"/></a>"
      ]
    },
    {
      "cell_type": "markdown",
      "source": [
        "<center><img src=\"https://drive.google.com/uc?export=view&id=1oCldVicFepwdYbPHcD8Ui4VeyQVJYgut\" height=\"400\"><center>"
      ],
      "metadata": {
        "id": "X1WvNLd4b5ZV"
      }
    },
    {
      "cell_type": "code",
      "source": [
        "!pip install openai-agents"
      ],
      "metadata": {
        "collapsed": true,
        "id": "lHj-KCSfce91"
      },
      "execution_count": null,
      "outputs": []
    },
    {
      "cell_type": "code",
      "source": [
        "from openai import OpenAI\n",
        "from typing import List, Optional, Dict, Any\n",
        "from dataclasses import dataclass\n",
        "from agents import Agent, Runner, function_tool\n",
        "import time, random, json"
      ],
      "metadata": {
        "id": "jo2bUVzPc1OJ"
      },
      "execution_count": 6,
      "outputs": []
    },
    {
      "cell_type": "code",
      "source": [
        "from google.colab import userdata\n",
        "api_key = userdata.get('OPENAI_API_KEY')\n",
        "import os\n",
        "os.environ['OPENAI_API_KEY'] = api_key\n",
        "\n",
        "#Proper client initialization\n",
        "client = OpenAI(api_key=os.environ.get('OPENAI_API_KEY'))"
      ],
      "metadata": {
        "id": "GnOb23oQcsir"
      },
      "execution_count": 7,
      "outputs": []
    },
    {
      "cell_type": "code",
      "source": [
        "model = \"gpt-4o\"\n",
        "user_prompt =\"What's the best performing ETF?\""
      ],
      "metadata": {
        "id": "7Ac7ObO2vcjh"
      },
      "execution_count": 8,
      "outputs": []
    },
    {
      "cell_type": "code",
      "source": [
        "class BaseLLM :\n",
        "\n",
        "  def __init__(self, model ):\n",
        "    self.model = model\n",
        "\n",
        "  def generate(self, user_prompt:str, max_tokens = 1000):\n",
        "\n",
        "    print(\"BaseLLM: making single API call...\")\n",
        "    start_time = time.time()\n",
        "    response = client.completions.create(\n",
        "        model=self.model,\n",
        "        max_tokens=max_tokens,\n",
        "        input =[{\"role\": \"user\", \"content\": user_prompt}]\n",
        "    )\n",
        "    end_time = time.time()\n",
        "\n",
        "    return {\n",
        "        \"content\": response.output_text,\n",
        "        \"tokens_used\": response.usage.total_tokens,\n",
        "        \"response_time\": end_time - start_time\n",
        "    }\n"
      ],
      "metadata": {
        "id": "XmCo7wzYvnpb"
      },
      "execution_count": null,
      "outputs": []
    },
    {
      "cell_type": "code",
      "source": [
        "base_llm = BaseLLM(model)\n",
        "llm_result = base_llm.generate(user_prompt)"
      ],
      "metadata": {
        "colab": {
          "base_uri": "https://localhost:8080/"
        },
        "id": "k4Pwf9U3w-wL",
        "outputId": "7d52ef8f-14c7-4fa7-a92c-cfe51aa0f198"
      },
      "execution_count": null,
      "outputs": [
        {
          "output_type": "stream",
          "name": "stdout",
          "text": [
            "BaseLLM: making single API call...\n"
          ]
        }
      ]
    },
    {
      "cell_type": "code",
      "source": [
        "print(\"\\n\" + \"=\"*50)\n",
        "print(\"BASE LLM:\",model)\n",
        "print(\"=\"*50)\n",
        "print(f\"Response:\")\n",
        "print(llm_result['content'])\n",
        "print(f\"Tokens: {llm_result['tokens_used']}, Time: {llm_result['response_time']:.2f}s\")"
      ],
      "metadata": {
        "colab": {
          "base_uri": "https://localhost:8080/"
        },
        "id": "dFka53_Hx8XP",
        "outputId": "88d5cb6c-8a44-42ac-b04e-b18980ae9f74"
      },
      "execution_count": null,
      "outputs": [
        {
          "output_type": "stream",
          "name": "stdout",
          "text": [
            "\n",
            "==================================================\n",
            "BASE LLM: gpt-4o\n",
            "==================================================\n",
            "Response:\n",
            "Determining the \"best\" performing ETF can depend on the specific time frame, market conditions, and what you're looking to achieve. Some ETFs may be top performers in the short term but may not be suitable for long-term investments. Common performance metrics include total return over specific periods or performance compared to a benchmark index.\n",
            "\n",
            "To find the current best-performing ETF, you would typically look at financial news websites or platforms like Morningstar, Bloomberg, or Yahoo Finance. They often have updated lists and reports on ETFs that are currently outperforming others. Remember, past performance doesn't guarantee future results, and it's important to consider factors like fees, investment strategy, and risk when evaluating an ETF.\n",
            "Tokens: 149, Time: 6.94s\n"
          ]
        }
      ]
    },
    {
      "cell_type": "code",
      "source": [
        "model = \"gpt-5\"\n",
        "user_prompt =\"What's the best performing ETF (US only), provide top 3 for the best performance in the YTD?\""
      ],
      "metadata": {
        "id": "HY6vfuWuyR2R"
      },
      "execution_count": null,
      "outputs": []
    },
    {
      "cell_type": "code",
      "source": [
        "base_llm = BaseLLM(model)\n",
        "llm_result = base_llm.generate(user_prompt)"
      ],
      "metadata": {
        "colab": {
          "base_uri": "https://localhost:8080/"
        },
        "id": "curPdeqhyTAV",
        "outputId": "0a83a067-aca4-494d-865f-6bb549eb79e4"
      },
      "execution_count": null,
      "outputs": [
        {
          "output_type": "stream",
          "name": "stdout",
          "text": [
            "BaseLLM: making single API call...\n"
          ]
        }
      ]
    },
    {
      "cell_type": "code",
      "source": [
        "print(\"\\n\" + \"=\"*50)\n",
        "print(\"BASE LLM:\",model)\n",
        "print(\"=\"*50)\n",
        "print(f\"Response:\")\n",
        "print(llm_result['content'])\n",
        "print(f\"Tokens: {llm_result['tokens_used']}, Time: {llm_result['response_time']:.2f}s\")"
      ],
      "metadata": {
        "colab": {
          "base_uri": "https://localhost:8080/"
        },
        "id": "KEY89ZDayX0y",
        "outputId": "616b449f-8fea-4f7c-ae88-167a9fc6953f"
      },
      "execution_count": null,
      "outputs": [
        {
          "output_type": "stream",
          "name": "stdout",
          "text": [
            "\n",
            "==================================================\n",
            "BASE LLM: gpt-4o\n",
            "==================================================\n",
            "Response:\n",
            "Buying a home in the U.S. is a multi-step process that typically involves the following stages:\n",
            "\n",
            "1. **Financial Preparation:**\n",
            "   - **Credit Score:** Check and improve your credit score if necessary.\n",
            "   - **Budget:** Determine how much you can afford, including down payment and monthly mortgage payments.\n",
            "   - **Pre-Approval:** Get pre-approved for a mortgage to understand your price range and prove to sellers you're serious.\n",
            "\n",
            "2. **Finding a Home:**\n",
            "   - **Real Estate Agent:** Hire a qualified real estate agent to guide you.\n",
            "   - **Home Search:** Identify your needs and wants in a home and start searching.\n",
            "   - **Visit Homes:** Tour potential homes to assess their condition and suitability.\n",
            "\n",
            "3. **Making an Offer:**\n",
            "   - **Offer Price:** Decide on the price based on market conditions and the home's value.\n",
            "   - **Negotiation:** Negotiate terms with the seller, which may include contingencies like inspections.\n",
            "\n",
            "4. **Due Diligence:**\n",
            "   - **Inspections:** Conduct a home inspection to check for any issues.\n",
            "   - **Appraisal:** The lender will require an appraisal to determine home value.\n",
            "   - **Title Search:** Ensure there are no legal issues with the property title.\n",
            "\n",
            "5. **Finalizing the Mortgage:**\n",
            "   - **Loan Application:** Submit a full mortgage application with your lender.\n",
            "   - **Conditions:** Satisfy any conditions required by the lender to secure the loan.\n",
            "\n",
            "6. **Closing Process:**\n",
            "   - **Closing Disclosure:** Review this document outlining loan terms and closing costs.\n",
            "   - **Closing Meeting:** Sign all necessary paperwork, including the mortgage and deed.\n",
            "   - **Payment:** Pay closing costs and the down payment.\n",
            "\n",
            "7. **Post-Closing:**\n",
            "   - **Move In:** Arrange for moving and address any immediate maintenance needs.\n",
            "   - **Utilities and Services:** Transfer or set up utilities and services in your name.\n",
            "\n",
            "Each step can vary based on state laws, local customs, and individual circumstances, so working with a knowledgeable real estate agent and possibly a real estate attorney can be beneficial.\n",
            "Tokens: 445, Time: 19.99s\n"
          ]
        }
      ]
    },
    {
      "cell_type": "markdown",
      "source": [
        "**Reasoning LLM**"
      ],
      "metadata": {
        "id": "lo7triZw0G2r"
      }
    },
    {
      "cell_type": "code",
      "source": [
        "class ReasoningLLM:\n",
        "\n",
        "  def __init__(self, base_llm: BaseLLM):\n",
        "    self.basellm = base_llm\n",
        "    self.conversation_history = []\n",
        "\n",
        "  def analyze_query(self, query: str):\n",
        "\n",
        "    analysis_prompt = f\"\"\"Analyze this query and determin the best approach to answer it comprehensively:\n",
        "    Query: \"{query}\"\n",
        "\n",
        "    Respond with:\n",
        "    1. Query type(factual, process comparion, etc.)\n",
        "    2. Key components to address\n",
        "    3. Suggested breakdown steps\n",
        "\n",
        "    Keep resposne concise and structured\n",
        "\n",
        "\n",
        "    \"\"\"\n",
        "\n",
        "    print(\"Reasoning LLM: Step 1 - Analzying query..\")\n",
        "    response = self.base_llm.generte(analysis_prompt)\n",
        "\n",
        "    return {\"analysis\": response[\"content\"], \"tokens\": response[\"tokens_used\"]}\n",
        "\n",
        "\n",
        "\n",
        "  def decompose_problem(self, query: str, analysis: str):\n",
        "    decomposition_prompt =f\"\"\"\n",
        "    Based on this analysis: {analysis}\n",
        "\n",
        "    Break down the query \"{query}\" into 3-4 specific sub-question that, when answered together,\n",
        "    will provide a comprehensive response. List only the questions, one per line.\n",
        "    \"\"\"\n",
        "\n",
        "    print(\"Reasoning LLM: Step 2- Decomposing problem...\")\n",
        "    response = self.base_llm.generate(decomposition_prompt)\n",
        "\n",
        "    questions = [q.strip() for q in response['content'].split('\\n') if q.strip() and '?' in q]\n",
        "    return questions[:4] # Limit to 4 questionsj\n",
        "\n",
        "\n",
        "  def answer_sub_questions(self, question: str) -> str:\n",
        "\n",
        "    focused_prompt = f\"\"\"\n",
        "    Answer this specific question about selecting top 3 ETF with precise, technical details:\n",
        "    {question}\n",
        "\n",
        "    Provide a clear, factual answer focusing only on this aspect.\n",
        "    \"\"\"\n",
        "\n",
        "    print(f\"ReasoiningLLM: Step 3 - Answering: {question[:50]}...\")\n",
        "    response = self.base_llm.generate(focused_prompt)\n",
        "    return response[\"content\"]\n",
        "\n",
        "\n",
        "  def verify_response(self, question: str, answer: str) -> Dict[str, Any]:\n",
        "    verification_prompt = f\"\"\"\n",
        "\n",
        "    Question: {question}\n",
        "    Answer: {answer}\n",
        "\n",
        "    Evaluate this answer on a scale of 1-10 for:\n",
        "    1. Accuracy\n",
        "    2. Completeness\n",
        "    3. Clarity\n",
        "\n",
        "    Respond with just three numbers and any critical missing information\n",
        "\n",
        "    \"\"\"\n",
        "\n",
        "    print(\"ReasoningLLM: Step 4- Verifying response...\")\n",
        "    response = self.base_llm.generate(verification_prompt)\n",
        "    return {\"verification\": response[\"content\"]}\n",
        "\n",
        "\n",
        "  def synthesie_final_response(self, query: str, qa_pairs: List[tuple]) -> str:\n",
        "      synthesis_prompt =f\"\"\"\n",
        "      Original question: {query}\n",
        "\n",
        "      Sub-questions and answers with verifications:\n",
        "\n",
        "        {chr(10).join([\n",
        "            f\"Q: {qa['question']}\\nA: {qa['answer']}\\nVerification: {qa['verification']}\\n\"\n",
        "            for qa in qa_pairs\n",
        "        ])}\n",
        "\n",
        "        Synthesize these into a well-structured, comprehensive answer to the original questions.\n",
        "        Use clear steps/sections and ensure logical flow.\n",
        "        \"\"\"\n",
        "\n",
        "      print(\"ReasoningLLM: Ste 5 - Synthesizing final response...\")\n",
        "      response = self.base_llm.generate(synthesis_prompt)\n",
        "      return response[\"content\"]\n",
        "\n",
        "\n",
        "\n",
        "  def reason(self, query: str) -> str:\n",
        "    print(f\"\\n ReasoningLLM: Processing '{query}\")\n",
        "    start_time = time.time()\n",
        "\n",
        "    # Step 1: analyze query\n",
        "    analysis = self.analyze_query(query)\n",
        "\n",
        "    # Step 2: decompose into sub-questions\n",
        "    sub_questions = self.decompose_problem(query, analysis[\"analysis\"])\n",
        "\n",
        "    # Step 3&4: Answer and verify each sub-question\n",
        "    qa_pairs = []\n",
        "\n",
        "    for question in sub_questions:\n",
        "      answer = self.answer_sub_questions(question)\n",
        "      verification = self.verify_response(question, answer)\n",
        "      qa_pairs.append({\"question\": question, \"answer\": answer, \"verification\": verification[\"verification\"]})\n",
        "\n",
        "    # Step 5: Synthesize\n",
        "\n",
        "    final_response = self.synthesie_final_response(query, qa_pairs)\n",
        "\n",
        "    end_time = time.time()\n",
        "\n",
        "\n",
        "    return {\n",
        "        \"response\": final_response,\n",
        "        \"reasoning_steps\": {\n",
        "            \"analysis\": analysis[\"analysis\"],\n",
        "            \"sub_questions\": sub_questions,\n",
        "            \"qa_pairs\": qa_pairs\n",
        "        },\n",
        "        \"processing_time\": end_time - start_time\n",
        "        }\n",
        "\n",
        "\n",
        "\n"
      ],
      "metadata": {
        "id": "5z1ma-qtzcaR"
      },
      "execution_count": null,
      "outputs": []
    },
    {
      "cell_type": "code",
      "source": [
        "user_prompt =\"what is the process of buying a home in the US?\""
      ],
      "metadata": {
        "id": "hUEtz7sL9DKN"
      },
      "execution_count": null,
      "outputs": []
    },
    {
      "cell_type": "code",
      "source": [
        "model = \"gpt-4o\"\n",
        "base_llm = BaseLLM(model)\n",
        "reasoning_llm = ReasoningLLM(base_llm)\n",
        "\n",
        "print(\"\\n\" + \"=\"*50)\n",
        "print(\"REASONING LLM:\",model)\n",
        "print(\"=\"*50)\n",
        "reasoning_result = reasoning_llm.reason(user_prompt)\n",
        "print(f\"Final Response:\")\n",
        "print(reasoning_result['response'])\n",
        "print(f\"Sub-questions explored: {len(reasoning_result['reasoning_steps']['sub_questions'])}\")\n",
        "print(f\"Time: {reasoning_result['processing_time']:.2f}s\")"
      ],
      "metadata": {
        "colab": {
          "base_uri": "https://localhost:8080/"
        },
        "id": "Wdoxvnlp7Jq-",
        "outputId": "8e37d371-aab6-4d64-ec1f-e49726ba8ae7"
      },
      "execution_count": null,
      "outputs": [
        {
          "output_type": "stream",
          "name": "stdout",
          "text": [
            "\n",
            "==================================================\n",
            "REASONING LLM: gpt-4o\n",
            "==================================================\n",
            "\n",
            " ReasoningLLM: Processing 'what is the process of buying a home in the US?\n",
            "Reasoning LLM: Step 1 - Analzying query..\n",
            "BaseLLM: making single API call...\n",
            "Reasoning LLM: Step 2- Decomposing problem...\n",
            "BaseLLM: making single API call...\n",
            "ReasoiningLLM: Step 3 - Answering: 1. What steps should I take before starting the ho...\n",
            "BaseLLM: making single API call...\n",
            "ReasoningLLM: Step 4- Verifying response...\n",
            "BaseLLM: making single API call...\n",
            "ReasoiningLLM: Step 3 - Answering: 2. How do I explore financing options and navigate...\n",
            "BaseLLM: making single API call...\n",
            "ReasoningLLM: Step 4- Verifying response...\n",
            "BaseLLM: making single API call...\n",
            "ReasoiningLLM: Step 3 - Answering: 3. What should I consider during the home search a...\n",
            "BaseLLM: making single API call...\n",
            "ReasoningLLM: Step 4- Verifying response...\n",
            "BaseLLM: making single API call...\n",
            "ReasoiningLLM: Step 3 - Answering: 4. What are the important steps in closing the dea...\n",
            "BaseLLM: making single API call...\n",
            "ReasoningLLM: Step 4- Verifying response...\n",
            "BaseLLM: making single API call...\n",
            "ReasoningLLM: Ste 5 - Synthesizing final response...\n",
            "BaseLLM: making single API call...\n",
            "Final Response:\n",
            "### Comprehensive Guide to Buying a Home in the US\n",
            "\n",
            "Buying a home in the US involves several critical steps, from preparing your finances to closing the deal. Here’s an overview of the process:\n",
            "\n",
            "#### Before You Start\n",
            "\n",
            "1. **Assess Financial Health:**\n",
            "   - **Credit Score:** Check and improve your credit score as it affects mortgage rates.\n",
            "   - **Debt-to-Income Ratio (DTI):** Calculate your DTI to understand your borrowing capacity.\n",
            "   - **Savings:** Ensure you have enough for a down payment, closing costs, and emergencies.\n",
            "\n",
            "2. **Set a Budget:**\n",
            "   - **Affordability:** Determine how much house you can afford based on your income and expenses.\n",
            "   - **Monthly Payments:** Consider mortgage payments, property taxes, insurance, and maintenance.\n",
            "\n",
            "3. **Research the Market:**\n",
            "   - **Neighborhoods:** Investigate different areas for amenities, schools, and safety.\n",
            "   - **Market Trends:** Understand current housing market conditions and price trends.\n",
            "\n",
            "4. **Assemble a Team:**\n",
            "   - **Professionals:** Consider hiring a real estate agent, lawyer, and home inspector.\n",
            "\n",
            "#### Exploring Financing and Mortgage Options\n",
            "\n",
            "1. **Research and Compare Mortgages:**\n",
            "   - **Types of Loans:** Understand fixed-rate vs. adjustable-rate mortgages (ARMs), and government-backed loans vs. conventional loans.\n",
            "   - **First-Time Homebuyer Programs:** Check eligibility for grants and special programs.\n",
            "\n",
            "2. **Get Pre-Approved:**\n",
            "   - **Documentation:** Submit tax returns, pay stubs, bank statements, and ID for pre-approval.\n",
            "   - **Lender Comparison:** Compare interest rates, loan terms, and fees from different lenders.\n",
            "\n",
            "3. **Choose the Right Loan:**\n",
            "   - **Select a Mortgage:** Pick the loan type and term that fits your financial situation.\n",
            "   - **Lock in Your Rate:** Secure your interest rate to protect against rate increases.\n",
            "\n",
            "#### Home Search and Making an Offer\n",
            "\n",
            "1. **Start Your Search:**\n",
            "   - **Checklist:** Consider factors like location, budget, home condition, and amenities.\n",
            "   - **Visit Properties:** Attend open houses and private showings.\n",
            "\n",
            "2. **Make an Offer:**\n",
            "   - **Negotiation:** Work with your real estate agent to make a competitive offer.\n",
            "   - **Contingencies:** Include necessary contingencies (inspections, financing, etc.).\n",
            "\n",
            "#### Closing the Deal\n",
            "\n",
            "1. **Final Approvals:**\n",
            "   - **Home Inspection and Appraisal:** Ensure the property’s condition and value.\n",
            "   - **Underwriting:** Complete the lender’s application review and provide additional documents if required.\n",
            "\n",
            "2. **Closing:**\n",
            "   - **Review Documents:** Carefully review the Closing Disclosure for final costs and terms.\n",
            "   - **Sign Papers:** Execute the necessary documentation and pay the closing costs.\n",
            "\n",
            "3. **Post-Closing:**\n",
            "   - **Set Up Payments:** Arrange mortgage payments and consider automatic drafts.\n",
            "   - **Record Keeping:** Keep track of all documents and transaction details for future reference.\n",
            "\n",
            "#### After Purchase Management\n",
            "\n",
            "1. **Home Maintenance:**\n",
            "   - **Regular Upkeep:** Create a maintenance schedule to keep the property in good condition.\n",
            "   - **Financial Planning:** Budget for ongoing costs like utilities, HOA fees, and repairs.\n",
            "\n",
            "2. **Insurance and Taxes:**\n",
            "   - **Insurance:** Review your homeowner’s insurance policy annually for adequate coverage.\n",
            "   - **Tax Benefits:** Explore tax deductions available for mortgage interest and property taxes.\n",
            "\n",
            "By following these steps and staying informed throughout the process, you can navigate the home-buying journey efficiently and make a purchase that suits your needs and financial situation.\n",
            "Sub-questions explored: 4\n",
            "Time: 66.54s\n"
          ]
        }
      ]
    },
    {
      "cell_type": "markdown",
      "source": [
        "**Simple Agent**"
      ],
      "metadata": {
        "id": "yjfMHfq7agG6"
      }
    },
    {
      "cell_type": "code",
      "source": [
        "from agents import (\n",
        "    Agent,\n",
        "    Runner,\n",
        "    WebSearchTool,\n",
        "    function_tool,\n",
        "    SQLiteSession,\n",
        "    ModelSettings,\n",
        "    FunctionTool\n",
        ")\n",
        "from agents.agent_output import AgentOutputSchemaBase\n",
        "from agents.mcp import MCPServerStreamableHttp\n",
        "from agents.exceptions import ModelBehaviorError\n",
        "from agents.items import ToolCallItem, ToolCallOutputItem\n"
      ],
      "metadata": {
        "id": "LPDMlig2a69z"
      },
      "execution_count": 14,
      "outputs": []
    },
    {
      "cell_type": "code",
      "source": [
        "model = \"gpt-4o\""
      ],
      "metadata": {
        "id": "ceZKPd68Elx8"
      },
      "execution_count": null,
      "outputs": []
    },
    {
      "cell_type": "code",
      "source": [
        "user_prompt =\"what is the process of buying a home in the US?\""
      ],
      "metadata": {
        "id": "TV8fMqdiGQZV"
      },
      "execution_count": null,
      "outputs": []
    },
    {
      "cell_type": "code",
      "source": [
        "class SimpleAgent:\n",
        "\n",
        "\n",
        "  def __init__(self, model, user_location=None, search_context_size=None, instructions=None):\n",
        "\n",
        "\n",
        "     # configure the web search tool\n",
        "      web_tool = WebSearchTool(\n",
        "          user_location = user_location,\n",
        "          search_context_size = search_context_size\n",
        "      )\n",
        "\n",
        "      if instructions is None:\n",
        "        instructions = (\n",
        "            \"You are a meticulous research agent. \"\n",
        "                \"Before answering, outline a brief plan with 3–4 sub-questions. \"\n",
        "                \"Use the web_search tool for up-to-date or factual details. \"\n",
        "                \"Perform at least TWO web_search calls across DIFFERENT reputable domains. \"\n",
        "                \"Cross-check key facts (dates, figures, definitions). \"\n",
        "                \"Then write a clear, structured answer with sections and practical recommendations. \"\n",
        "                \"Finish with a 'Sources' list (title + URL) covering the items you used.\"\n",
        "        )\n",
        "\n",
        "\n",
        "\n",
        "        self.agent = Agent(\n",
        "            name= \"SimpleAgent\",\n",
        "            instructions = instructions,\n",
        "            model = model,\n",
        "            tools = [web_tool]\n",
        "        )\n",
        "\n",
        "\n",
        "\n",
        "  def _research_prompt(self, query):\n",
        "    return f\"\"\"\n",
        "\n",
        "    Task: Answer the user's question comprehensively.\n",
        "\n",
        "    User question: {query}\n",
        "\n",
        "    Workflow you must follow:\n",
        "\n",
        "    1) **Plan**: List 3–4 concise sub-questions you will answer.\n",
        "    2) **Research**: Use `web_search` at least twice across different domains to gather facts.\n",
        "    3) **Synthesize**: Combine findings into a cohesive answer that is better than a generic LLM response.\n",
        "    4) **Verify**: Re-check critical claims and resolve conflicts if sources disagree.\n",
        "    5) **Present**: Write the final answer with these sections:\n",
        "      - Summary (2–4 sentences)\n",
        "      - Key Criteria / How to Choose\n",
        "      - Top Recommendations (with brief justifications)\n",
        "      - Smart Variations or Blends (if applicable)\n",
        "      - Practical Tips (actionable steps)\n",
        "      - Sources (bullet list: Title — URL)\n",
        "\n",
        "    Output format: Markdown.\n",
        "    If uncertainty remains, say what is uncertain and why.\n",
        "    \"\"\"\n",
        "\n",
        "\n",
        "  async def generate(self, query: str):\n",
        "\n",
        "    print(f\"SimpleAgent: Runnign with web_search for '{query}\")\n",
        "    start = time.time()\n",
        "\n",
        "    result = await Runner.run(self.agent, input = self._research_prompt(query))\n",
        "\n",
        "\n",
        "    end = time.time()\n",
        "\n",
        "    return {\n",
        "        \"response\": result.final_ouput,\n",
        "        \"processing_time\": end - start,\n",
        "        \"tools\": self.agent.tools\n",
        "    }"
      ],
      "metadata": {
        "id": "eDQTA2blaerh"
      },
      "execution_count": null,
      "outputs": []
    },
    {
      "cell_type": "code",
      "source": [
        "from IPython.display import HTML, Markdown"
      ],
      "metadata": {
        "id": "Fi5g1osLKOYk"
      },
      "execution_count": 9,
      "outputs": []
    },
    {
      "cell_type": "code",
      "source": [
        "  agent = SimpleAgent(model)\n",
        "  print(\"\\n\" + \"=\"*50)\n",
        "  print(\"AGENT:\",model)\n",
        "  print(\"=\"*50)\n",
        "  agent_result = await agent.generate(user_prompt)\n",
        "  print(f\"Final Response:\")\n",
        "  display(Markdown(agent_result['response']))\n",
        "  print(f\"Tools used: {len(agent_result['tools'])}\")\n",
        "  print(f\"Time: {agent_result['processing_time']:.2f}s\")"
      ],
      "metadata": {
        "colab": {
          "base_uri": "https://localhost:8080/",
          "height": 1000
        },
        "id": "u5Qt45JrEXpP",
        "outputId": "02621925-b8cb-4e4a-9d51-12f1e6ecb868"
      },
      "execution_count": null,
      "outputs": [
        {
          "output_type": "stream",
          "name": "stdout",
          "text": [
            "\n",
            "==================================================\n",
            "AGENT: gpt-4o\n",
            "==================================================\n",
            "SimpleAgent: Runnign with web_search for 'what is the process of buying a home in the US?\n",
            "Final Response:\n"
          ]
        },
        {
          "output_type": "display_data",
          "data": {
            "text/plain": [
              "<IPython.core.display.Markdown object>"
            ],
            "text/markdown": "Below is my structured response following your specified workflow.\n\n## Plan – Sub-questions to Answer\n\n1. **What are the main steps in the U.S. home-buying process?**  \n2. **What key criteria should buyers consider when choosing a home?**  \n3. **What top recommendations (e.g., contingencies, loans, professional support) can improve outcomes?**  \n4. **What practical, actionable tips help smooth the process?**  \n\n---\n\n## Research \n\n### First web search — general process and criteria  \n- Retrieved step-by-step guidance from HSBC, American Express, Quicken Loans, Zillow, Realtor.com, and First American Bank covering affordability, pre-approval, agent selection, inspections, appraisal, closing, etc. ([us.hsbc.com](https://www.us.hsbc.com/home-loans/10-steps-to-buying-your-own-home/?utm_source=openai))  \n\n### Second web search — specific recommendations and nuances  \n- Investopedia’s guide for single buyers highlighted financial thresholds, down payment norms, and recommendation for contingency planning ([investopedia.com](https://www.investopedia.com/guide-to-purchasing-a-home-on-your-own-11702851?utm_source=openai))  \n- Wall Street Journal article clarified earnest money norms and contingency importance ([wsj.com](https://www.wsj.com/buyside/personal-finance/what-is-earnest-money-55028b14?utm_source=openai))  \n- Chip Gaines’s “Big Four” inspection red flags emphasized which structural issues to watch for ([bhg.com](https://www.bhg.com/chip-gaines-home-buying-red-flags-8691444?utm_source=openai))  \n\n---\n\n## Verify  \n\nAcross sources, the home-buying steps are consistent: determine affordability → get pre-approved → choose agent → search → make offer (with contingencies) → inspections/appraisal → closing. Figures like earnest money (1–3%, sometimes flat $1,000) are aligned across WSJ, Quicken Loans, American Express. No significant conflicts detected.\n\n---\n\n## Final Answer\n\n### Summary  \nBuying a home in the U.S. follows a well-defined process: assess affordability, secure financing via pre-approval, enlist a real estate agent, search and tour properties, submit an offer with protective contingencies, conduct inspections and appraisal, and complete the purchase at closing. Key considerations include your budget, loan type, property condition, and working with trusted professionals.\n\n---\n\n### Key Criteria / How to Choose\n\n- **Affordability**: Focus on homes costing no more than 3–5× your annual income; ensure housing costs fall within 28–30% of gross income ([discover.com](https://www.discover.com/home-loans/mortgage/10-steps-to-buying-a-home/index.html?utm_source=openai)).  \n- **Down Payment & Costs**: Save for a down payment—ideally 20% to avoid PMI—but many first-timers put down 9% on average; also budget 2–7% of purchase price for closing ([investopedia.com](https://www.investopedia.com/guide-to-purchasing-a-home-on-your-own-11702851?utm_source=openai)).  \n- **Credit and DTI**: Maintain a credit score of at least ~620 and debt-to-income under 35–43% for better loan prospects ([investopedia.com](https://www.investopedia.com/guide-to-purchasing-a-home-on-your-own-11702851?utm_source=openai)).  \n- **Home Condition**: Look closely at roofing, electrical, plumbing, and foundation—Gaines calls these the “Big Four” red flags ([bhg.com](https://www.bhg.com/chip-gaines-home-buying-red-flags-8691444?utm_source=openai)).\n\n---\n\n### Top Recommendations\n\n- **Get Pre-approved—not just pre-qualified**: Pre-approval gives sellers confidence and clarifies your purchasing power (valid for 60–90 days) ([quickenloans.com](https://www.quickenloans.com/learn/steps-to-buying-a-house?utm_source=openai)).  \n- **Include key contingencies in offers**: Mortgage, inspection, and appraisal contingencies protect you if problems arise ([quickenloans.com](https://www.quickenloans.com/learn/steps-to-buying-a-house?utm_source=openai)).  \n- **Use earnest money strategically**: Typically 1–3% (or ~$1,000) as “good faith”; higher amounts may strengthen offers in competitive markets ([wsj.com](https://www.wsj.com/buyside/personal-finance/what-is-earnest-money-55028b14?utm_source=openai)).  \n- **Build a reliable professional team**: Agent, inspector, lender, attorney/title officer—each adds critical oversight and expertise ([investopedia.com](https://www.investopedia.com/guide-to-purchasing-a-home-on-your-own-11702851?utm_source=openai)).\n\n---\n\n### Smart Variations or Blends\n\n- **Loan Types**: Consider FHA loans (3.5% down), conventional, VA, or USDA depending on eligibility and trade-offs ([investopedia.com](https://www.investopedia.com/how-to-apply-for-an-fha-loan-8667663?utm_source=openai)).  \n- **Flexible Wish Lists**: Prioritize must-haves over nice-to-haves and remain open to compromise on less critical features ([zillow.com](https://www.zillow.com/learn/10-steps-to-buying-a-home//?utm_source=openai)).\n\n---\n\n### Practical Tips\n\n1. **Start with Budgeting**: Use affordability calculators and check your credit at the three bureaus; fix errors early ([chase.com](https://www.chase.com/personal/mortgage/education/buying-a-home/buy-home-initial-steps.html?utm_source=openai)).  \n2. **Pre-Approval Prep**: Gather documentation (ID, pay stubs, tax returns, bank statements, proof of assets) ([americanexpress.com](https://www.americanexpress.com/en-us/credit-cards/credit-intel/steps-to-buying-a-house/?utm_source=openai)).  \n3. **Partner with an Agent**: Preferably one familiar with your target neighborhood and well-reviewed ([zillow.com](https://www.zillow.com/learn/10-steps-to-buying-a-home//?utm_source=openai)).  \n4. **During Tours, Watch for the “Big Four” Issues**: Foundation, roof, plumbing, electrical—bring a checklist ([bhg.com](https://www.bhg.com/chip-gaines-home-buying-red-flags-8691444?utm_source=openai)).  \n5. **Use Contingencies Wisely**: Only waive after confident in inspection/appraisal to avoid losing earnest money ([wsj.com](https://www.wsj.com/buyside/personal-finance/what-is-earnest-money-55028b14?utm_source=openai)).  \n6. **Prepare for Closing**: Review Closing Disclosure early, arrange funds for down payment and closing costs (2–7%) ([realtor.com](https://www.realtor.com/advice/buy/10-step-guide-for-first-time-home-buyers/?utm_source=openai)).\n\n---\n\n### Sources\n\n- **10 Steps to Buying Your Own Home** — HSBC Bank USA  \n- **9 Steps to Consider When Buying a House** — American Express  \n- **How To Buy A House In 11 Simple Steps** — Quicken Loans  \n- **10 Most Important Steps to Buying a House** — Zillow  \n- **Steps to Buying a House for the First Time** — Realtor.com  \n- **Single and Ready to Buy: A Guide to Purchasing a Home on Your Own** — Investopedia  \n- **What Is Earnest Money in Home Buying, and How Much Do You Need?** — Wall Street Journal  \n- **Chip Gaines Says These Are the 'Big 4' Red Flags to Avoid When Buying a House** — Better Homes & Gardens  \n- **How to Apply for an FHA Loan** — Investopedia"
          },
          "metadata": {}
        },
        {
          "output_type": "stream",
          "name": "stdout",
          "text": [
            "Tools used: 1\n",
            "Time: 13.31s\n"
          ]
        }
      ]
    },
    {
      "cell_type": "code",
      "source": [
        "instructions = \"\"\"\n",
        "1) **Plan**: List 3–4 concise sub-questions you will answer.\n",
        "    2) **Research**: Use `web_search` at least twice across different domains to gather facts.\n",
        "    3) **Synthesize**: Combine findings into a cohesive answer that is better than a generic LLM response.\n",
        "    4) **Verify**: Re-check critical claims and resolve conflicts if sources disagree.\n",
        "    5) **Present**: Write the final answer with these sections:\n",
        "      - Summary (2–4 sentences)\n",
        "      - Key Criteria / How to Choose\n",
        "      - Top Recommendations (with brief justifications)\n",
        "      - Smart Variations or Blends (if applicable)\n",
        "      - Practical Tips (actionable steps)\n",
        "      - Sources (bullet list: Title — URL)\n",
        "      \"\"\""
      ],
      "metadata": {
        "id": "3AcSvJGVgZs1"
      },
      "execution_count": 18,
      "outputs": []
    },
    {
      "cell_type": "code",
      "source": [
        "model = \"gpt-4o\""
      ],
      "metadata": {
        "id": "KP1F6aZ8WBSX"
      },
      "execution_count": 6,
      "outputs": []
    },
    {
      "cell_type": "code",
      "source": [
        "search_agent = Agent(\n",
        "    name=\"Search agent\",\n",
        "    instructions = instructions,\n",
        "\n",
        "    model = model\n",
        ")\n"
      ],
      "metadata": {
        "id": "dS7H1isQdKpV"
      },
      "execution_count": 17,
      "outputs": []
    },
    {
      "cell_type": "code",
      "source": [
        "search_agent"
      ],
      "metadata": {
        "colab": {
          "base_uri": "https://localhost:8080/"
        },
        "id": "-WFrjkBEjt9V",
        "outputId": "c20a1d72-c200-45c4-974d-9762196cb64d"
      },
      "execution_count": 19,
      "outputs": [
        {
          "output_type": "execute_result",
          "data": {
            "text/plain": [
              "Agent(name='Search agent', handoff_description=None, tools=[], mcp_servers=[], mcp_config={}, instructions='\\n1) **Plan**: List 3–4 concise sub-questions you will answer.\\n    2) **Research**: Use `web_search` at least twice across different domains to gather facts.\\n    3) **Synthesize**: Combine findings into a cohesive answer that is better than a generic LLM response.\\n    4) **Verify**: Re-check critical claims and resolve conflicts if sources disagree.\\n    5) **Present**: Write the final answer with these sections:\\n      - Summary (2–4 sentences)\\n      - Key Criteria / How to Choose\\n      - Top Recommendations (with brief justifications)\\n      - Smart Variations or Blends (if applicable)\\n      - Practical Tips (actionable steps)\\n      - Sources (bullet list: Title — URL)\\n      ', prompt=None, handoffs=[], model='gpt-4o', model_settings=ModelSettings(temperature=None, top_p=None, frequency_penalty=None, presence_penalty=None, tool_choice=None, parallel_tool_calls=None, truncation=None, max_tokens=None, reasoning=None, verbosity=None, metadata=None, store=None, include_usage=None, response_include=None, top_logprobs=None, extra_query=None, extra_body=None, extra_headers=None, extra_args=None), input_guardrails=[], output_guardrails=[], output_type=None, hooks=None, tool_use_behavior='run_llm_again', reset_tool_choice=True)"
            ]
          },
          "metadata": {},
          "execution_count": 19
        }
      ]
    },
    {
      "cell_type": "code",
      "source": [
        "search_agent"
      ],
      "metadata": {
        "id": "nYfifPkNkBrt"
      },
      "execution_count": null,
      "outputs": []
    },
    {
      "cell_type": "code",
      "source": [
        "\n",
        "user_prompt =\"what is the process of buying a home in the US?\""
      ],
      "metadata": {
        "id": "a5gvNJ0glWiU"
      },
      "execution_count": 20,
      "outputs": []
    },
    {
      "cell_type": "code",
      "source": [
        "result = await Runner.run(search_agent, input = user_prompt)"
      ],
      "metadata": {
        "id": "-OIqP6RFlJQ-"
      },
      "execution_count": 21,
      "outputs": []
    },
    {
      "cell_type": "code",
      "source": [
        "display(Markdown(result.final_output))"
      ],
      "metadata": {
        "colab": {
          "base_uri": "https://localhost:8080/",
          "height": 790
        },
        "id": "ddzZ96rolZQE",
        "outputId": "e7ebdbac-9a5c-46bb-9c8d-29e4951ceeb0"
      },
      "execution_count": 22,
      "outputs": [
        {
          "output_type": "display_data",
          "data": {
            "text/plain": [
              "<IPython.core.display.Markdown object>"
            ],
            "text/markdown": "### Summary\n\nThe process of buying a home in the US involves several key steps: assessing finances, securing a mortgage, searching for a home, making an offer, conducting inspections, and closing the deal. Each stage requires careful planning and understanding of financial and legal obligations.\n\n### Key Criteria / How to Choose\n\n1. **Financial Readiness**: Evaluate your credit score, savings, and current debts to determine your budget and mortgage qualification.\n2. **Mortgage Pre-approval**: Get pre-approved for a mortgage to understand how much you can borrow and to strengthen your offers.\n3. **Home Search**: Consider location, size, price, and other personal preferences in your home search.\n4. **Inspection and Appraisal**: Ensure the property is in good condition and properly valued.\n5. **Negotiation Skills**: Be prepared to negotiate the price, repair requests, and closing terms.\n\n### Top Recommendations\n\n- **Financial Preparation**: Start by checking your credit score and saving for a down payment and closing costs.\n- **Real Estate Agent**: Hire a professional real estate agent for guidance and access to listings.\n- **Home Offers**: Make competitive offers based on market research and appraisal results.\n- **Legal and Administrative Requirements**: Understand the paperwork involved in the process, including the purchase agreement and title transfer.\n\n### Smart Variations or Blends\n\n- **Mortgage Options**: Consider a mix of fixed-rate and adjustable-rate mortgages based on your financial situation and market conditions.\n- **Home Types**: Blend preferences by considering options like single-family homes, condos, or townhouses.\n\n### Practical Tips\n\n- **Financial Documentation**: Keep your financial documents organized and ready for lender review.\n- **Research Neighborhoods**: Explore different neighborhoods to ensure they meet your lifestyle and investment goals.\n- **Home Inspection**: Always have a professional inspection before proceeding with a purchase.\n- **Closing Costs**: Plan for additional costs that may arise during the closing process, such as fees for appraisals, inspections, and legal services.\n\n### Sources\n\n- HUD.gov: \"Buying a Home\" — [hud.gov](https://www.hud.gov/topics/buying_a_home)\n- Investopedia: \"First-Time Homebuyer Guide\" — [investopedia.com](https://www.investopedia.com/mortgage/preapproval-vs-prequalification-4767014)\n- Zillow: \"Buying a Home: Step-by-Step Guide\" — [zillow.com](https://www.zillow.com/home-buying-guide/)\n- NerdWallet: \"Steps to Buying a Home: A Guide for First-Time Homebuyers\" — [nerdwallet.com](https://www.nerdwallet.com/article/mortgages/how-to-buy-a-house)"
          },
          "metadata": {}
        }
      ]
    },
    {
      "cell_type": "markdown",
      "source": [
        "Using async and await:\n",
        "with async and await, we can run both tasks concurrently using the asyncio library"
      ],
      "metadata": {
        "id": "8LCedROiZ_Lk"
      }
    },
    {
      "cell_type": "code",
      "source": [
        "import asyncio"
      ],
      "metadata": {
        "id": "DvOu2u35Ocz4"
      },
      "execution_count": 20,
      "outputs": []
    },
    {
      "cell_type": "code",
      "source": [
        "import time\n",
        "\n",
        "def task(name):\n",
        "    print(f\"Starting {name}\")\n",
        "    time.sleep(2)\n",
        "    print(f\"Finished {name}\")\n",
        "\n",
        "def main():\n",
        "    task(\"A\")\n",
        "    task(\"B\")\n",
        "\n",
        "main()"
      ],
      "metadata": {
        "colab": {
          "base_uri": "https://localhost:8080/"
        },
        "id": "ZyK3l8epcz_D",
        "outputId": "0a1d4c12-693e-47ae-d651-05b750a488b9"
      },
      "execution_count": 1,
      "outputs": [
        {
          "output_type": "stream",
          "name": "stdout",
          "text": [
            "Starting A\n",
            "Finished A\n",
            "Starting B\n",
            "Finished B\n"
          ]
        }
      ]
    },
    {
      "cell_type": "code",
      "source": [
        "# Use async when defining an aynchronous function\n",
        "async def fetch_data():\n",
        "    print(\"Fetching data...\")\n",
        "    await asyncio.sleep(2)\n",
        "    print(\"Data fetched.\")"
      ],
      "metadata": {
        "id": "r-6R5MkStkwt"
      },
      "execution_count": 21,
      "outputs": []
    },
    {
      "cell_type": "code",
      "source": [
        "# if you call it directly,, it just returns a coroutine object.\n",
        "fetch_data()"
      ],
      "metadata": {
        "colab": {
          "base_uri": "https://localhost:8080/"
        },
        "id": "dc97-EQMPAoB",
        "outputId": "12aaf919-dd40-4836-d0e9-cb3dddecedd5"
      },
      "execution_count": 22,
      "outputs": [
        {
          "output_type": "execute_result",
          "data": {
            "text/plain": [
              "<coroutine object fetch_data at 0x78fe0a728640>"
            ]
          },
          "metadata": {},
          "execution_count": 22
        }
      ]
    },
    {
      "cell_type": "code",
      "source": [
        "# You can only use await inside an async def\n",
        "\n",
        "async def main():\n",
        "    await fetch_data()\n"
      ],
      "metadata": {
        "id": "1tB4CVwlPTa-"
      },
      "execution_count": 23,
      "outputs": []
    },
    {
      "cell_type": "markdown",
      "source": [
        "**Tools**"
      ],
      "metadata": {
        "id": "9SXmhoLaY95J"
      }
    },
    {
      "cell_type": "code",
      "source": [
        "PAVLOS_FUN_FACTS = [\n",
        "    \"Mozzarella is the most consumed cheese in the U.S., largely due to pizza.\",\n",
        "    \"Gruyère and Emmental are classics for fondue thanks to their smooth melt.\",\n",
        "    \"Aging boosts sharpness; 12-month cheddar has nuttier, deeper flavors.\",\n",
        "    \"High-moisture cheeses (young gouda, fontina, jack) melt especially evenly.\",\n",
        "    \"Rind-on bries are edible; the rind adds mushroomy, earthy notes.\",\n",
        "    \"Salt helps control moisture and rind formation during cheesemaking.\",\n",
        "    \"Browned spots on grilled cheese = Maillard reaction (not caramelization).\",\n",
        "    \"American slices are engineered to melt at lower temperatures.\",\n",
        "    \"Fresh cheeses (ricotta, chèvre) soften but don’t stretch like mozzarella.\",\n",
        "    \"Taleggio’s washed rind brings savory depth and melts well.\",\n",
        "]"
      ],
      "metadata": {
        "id": "CQvv4N-5Y_O7"
      },
      "execution_count": 1,
      "outputs": []
    },
    {
      "cell_type": "code",
      "source": [
        "def pavlos_fun_fact():\n",
        "  return {\n",
        "      'fact': random.choice(PAVLOS_FUN_FACTS),\n",
        "      \"gathered-at\": int(time.time())\n",
        "  }"
      ],
      "metadata": {
        "id": "xTKfOXmWHW0J"
      },
      "execution_count": 3,
      "outputs": []
    },
    {
      "cell_type": "code",
      "source": [
        "@function_tool()\n",
        "async def pavlos_fun_fact_tool():\n",
        "  return pavlos_fun_fact()\n",
        "\n",
        "\n",
        "# Test tool\n",
        "print(pavlos_fun_fact())\n",
        "print(pavlos_fun_fact())\n",
        "print(pavlos_fun_fact())"
      ],
      "metadata": {
        "colab": {
          "base_uri": "https://localhost:8080/"
        },
        "id": "Gsqd5gMGK_wq",
        "outputId": "91914db7-5453-4486-e3c3-41ff04732a98"
      },
      "execution_count": 14,
      "outputs": [
        {
          "output_type": "stream",
          "name": "stdout",
          "text": [
            "{'fact': 'American slices are engineered to melt at lower temperatures.', 'gathered-at': 1760470178}\n",
            "{'fact': 'Fresh cheeses (ricotta, chèvre) soften but don’t stretch like mozzarella.', 'gathered-at': 1760470178}\n",
            "{'fact': 'Fresh cheeses (ricotta, chèvre) soften but don’t stretch like mozzarella.', 'gathered-at': 1760470178}\n"
          ]
        }
      ]
    },
    {
      "cell_type": "code",
      "source": [
        "# System Prompt\n",
        "system_prompt = \"\"\"You are a culinary expert specializing in cheese and comfort foods.\n",
        "When recommending cheeses, consider:\n",
        "- Melting properties and optimal temperatures\n",
        "- Flavor profiles (mild to sharp)\n",
        "- Availability in typical grocery stores\n",
        "- Practical cooking techniques\n",
        "\n",
        "Be specific, practical, and explain your reasoning.\n",
        "\n",
        "Call the pavlos_fun_fact_tool tool 2–3 times and add facts to your response.\"\"\""
      ],
      "metadata": {
        "id": "Vb71UINeLohQ"
      },
      "execution_count": 12,
      "outputs": []
    },
    {
      "cell_type": "code",
      "source": [
        "# Build an agent that uses \"pavlos_fun_fact_tool\"\n",
        "\n",
        "culinary_expert_agent = Agent(\n",
        "    name=\"Culinary Expert\",\n",
        "    instructions = system_prompt,\n",
        "    model = model,\n",
        "    tools = [pavlos_fun_fact_tool],\n",
        "\n",
        ")"
      ],
      "metadata": {
        "id": "-h1yoPxlL22_"
      },
      "execution_count": 15,
      "outputs": []
    },
    {
      "cell_type": "code",
      "source": [
        "# Define the LLM model and question\n",
        "model = \"gpt-4o\"\n",
        "user_prompt = \"What's the best cheese for a grilled cheese sandwich?\""
      ],
      "metadata": {
        "id": "9-L3M1APNFSr"
      },
      "execution_count": 17,
      "outputs": []
    },
    {
      "cell_type": "code",
      "source": [
        "print(\"\\n\" + \"=\"*50)\n",
        "print(\"Culinary Expert Agent (with fun facts tool call):\",model)\n",
        "print(\"=\"*50)\n",
        "agent_result = await Runner.run(culinary_expert_agent, input=user_prompt)\n",
        "print(f\"Final Response:\")\n",
        "display(Markdown(agent_result.final_output))"
      ],
      "metadata": {
        "colab": {
          "base_uri": "https://localhost:8080/",
          "height": 823
        },
        "id": "y2ZMugQpM7mB",
        "outputId": "894bda51-4394-4609-884c-9c0efed3350a"
      },
      "execution_count": 18,
      "outputs": [
        {
          "output_type": "stream",
          "name": "stdout",
          "text": [
            "\n",
            "==================================================\n",
            "Culinary Expert Agent (with fun facts tool call): gpt-4o\n",
            "==================================================\n",
            "Final Response:\n"
          ]
        },
        {
          "output_type": "display_data",
          "data": {
            "text/plain": [
              "<IPython.core.display.Markdown object>"
            ],
            "text/markdown": "For a grilled cheese sandwich, the best choices are cheeses with excellent melting properties and a delightful flavor profile. Here are some recommendations:\n\n1. **Cheddar:**\n   - **Melting Properties:** Cheddar melts beautifully, becoming gooey and rich. It’s best when used at medium temperatures, around 150-160°F (65-70°C).\n   - **Flavor Profile:** It ranges from mild to sharp, allowing for versatility. Sharp cheddar adds a deeper flavor.\n   - **Availability:** Easily available in most grocery stores.\n   - **Technique:** Grate the cheese for even melting.\n\n2. **Mozzarella:**\n   - **Melting Properties:** Mozzarella has a stretchy melt, perfect for that classic cheese pull.\n   - **Flavor Profile:** Mild and milky, suitable for blending with sharper cheeses.\n   - **Availability:** Readily found in stores.\n   - **Technique:** Fresh mozzarella can be sliced or shredded.\n\n3. **Gouda:**\n   - **Melting Properties:** High-moisture gouda melts exceptionally evenly, providing a creamy texture.\n   - **Flavor Profile:** Mild and nutty, with aged versions offering more robust flavors.\n   - **Availability:** Accessible in most cheese sections.\n   - **Technique:** Slice thinly to ensure it melts properly.\n\n4. **Fontina:**\n   - **Melting Properties:** Known for its superb melt with a creamy consistency.\n   - **Flavor Profile:** A gentle butteriness with a hint of earthiness.\n   - **Availability:** Generally available in well-stocked grocery stores.\n   - **Technique:** Use thin slices for the best results.\n\n5. **Taleggio:**\n   - **Melting Properties:** Its high moisture content allows it to melt smoothly.\n   - **Flavor Profile:** It has a washed rind that offers a savory depth.\n   - **Availability:** Might be found in specialty stores.\n   - **Technique:** Pair with milder cheeses for a balanced sandwich.\n\n### Fun Facts:\n- Fresh cheeses like ricotta and chèvre soften rather than stretch.\n- High-moisture cheeses, such as young gouda and fontina, melt especially evenly.\n- Taleggio’s washed rind brings savory depth and it melts well.\n\nFor a flavorful and creamy grilled cheese, consider blending two or more cheeses, like sharp cheddar with mozzarella, to achieve a balance of taste and texture."
          },
          "metadata": {}
        }
      ]
    },
    {
      "cell_type": "markdown",
      "source": [
        "**MCP**"
      ],
      "metadata": {
        "id": "wkwPpYXwQ0kf"
      }
    },
    {
      "cell_type": "code",
      "source": [
        "# MCP Server\n",
        "pavlos_mcp_url = \"https://pavlos-fun-facts.dlops.io/mcp\""
      ],
      "metadata": {
        "id": "Y4a4hEqbQFDJ"
      },
      "execution_count": null,
      "outputs": []
    },
    {
      "cell_type": "code",
      "source": [
        "async def run_agent(query: str):\n",
        "  async with AsyncExitStack() as stack:\n",
        "    mcp_severs= []\n",
        "\n",
        "    mcp_server = await  stack.enter_async_context(\n",
        "        MCPServerStreammableHttp(\n",
        "            name=\"Pavlos FastMCP\",\n",
        "            params = {\"url\": pavlos_mcp_url},\n",
        "            cache_tools_list= True,\n",
        "            max_retry_attempts = 3,\n",
        "            client_session_timeout_seconds = 180,\n",
        "\n",
        "        )\n",
        "    )"
      ],
      "metadata": {
        "id": "I4KTfQTsRDMj"
      },
      "execution_count": 24,
      "outputs": []
    }
  ]
}