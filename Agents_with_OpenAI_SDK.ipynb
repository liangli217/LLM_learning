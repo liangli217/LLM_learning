{
  "nbformat": 4,
  "nbformat_minor": 0,
  "metadata": {
    "colab": {
      "provenance": [],
      "authorship_tag": "ABX9TyMVNBXQ26uYrVHqOMiMsj/F",
      "include_colab_link": true
    },
    "kernelspec": {
      "name": "python3",
      "display_name": "Python 3"
    },
    "language_info": {
      "name": "python"
    }
  },
  "cells": [
    {
      "cell_type": "markdown",
      "metadata": {
        "id": "view-in-github",
        "colab_type": "text"
      },
      "source": [
        "<a href=\"https://colab.research.google.com/github/liangli217/LLM_learning/blob/main/Agents_with_OpenAI_SDK.ipynb\" target=\"_parent\"><img src=\"https://colab.research.google.com/assets/colab-badge.svg\" alt=\"Open In Colab\"/></a>"
      ]
    },
    {
      "cell_type": "markdown",
      "source": [
        "<center><img src=\"https://drive.google.com/uc?export=view&id=1oCldVicFepwdYbPHcD8Ui4VeyQVJYgut\" height=\"400\"><center>"
      ],
      "metadata": {
        "id": "X1WvNLd4b5ZV"
      }
    },
    {
      "cell_type": "code",
      "source": [
        "!pip install openai-agents"
      ],
      "metadata": {
        "colab": {
          "base_uri": "https://localhost:8080/"
        },
        "collapsed": true,
        "id": "lHj-KCSfce91",
        "outputId": "ea7aadfa-5499-40be-d90f-850f8523b55b"
      },
      "execution_count": 2,
      "outputs": [
        {
          "output_type": "stream",
          "name": "stdout",
          "text": [
            "Collecting openai-agents\n",
            "  Downloading openai_agents-0.3.3-py3-none-any.whl.metadata (12 kB)\n",
            "Collecting griffe<2,>=1.5.6 (from openai-agents)\n",
            "  Downloading griffe-1.14.0-py3-none-any.whl.metadata (5.1 kB)\n",
            "Requirement already satisfied: mcp<2,>=1.11.0 in /usr/local/lib/python3.12/dist-packages (from openai-agents) (1.15.0)\n",
            "Requirement already satisfied: openai<2,>=1.107.1 in /usr/local/lib/python3.12/dist-packages (from openai-agents) (1.109.1)\n",
            "Requirement already satisfied: pydantic<3,>=2.10 in /usr/local/lib/python3.12/dist-packages (from openai-agents) (2.11.9)\n",
            "Requirement already satisfied: requests<3,>=2.0 in /usr/local/lib/python3.12/dist-packages (from openai-agents) (2.32.4)\n",
            "Collecting types-requests<3,>=2.0 (from openai-agents)\n",
            "  Downloading types_requests-2.32.4.20250913-py3-none-any.whl.metadata (2.0 kB)\n",
            "Requirement already satisfied: typing-extensions<5,>=4.12.2 in /usr/local/lib/python3.12/dist-packages (from openai-agents) (4.15.0)\n",
            "Collecting colorama>=0.4 (from griffe<2,>=1.5.6->openai-agents)\n",
            "  Downloading colorama-0.4.6-py2.py3-none-any.whl.metadata (17 kB)\n",
            "Requirement already satisfied: anyio>=4.5 in /usr/local/lib/python3.12/dist-packages (from mcp<2,>=1.11.0->openai-agents) (4.11.0)\n",
            "Requirement already satisfied: httpx-sse>=0.4 in /usr/local/lib/python3.12/dist-packages (from mcp<2,>=1.11.0->openai-agents) (0.4.1)\n",
            "Requirement already satisfied: httpx>=0.27.1 in /usr/local/lib/python3.12/dist-packages (from mcp<2,>=1.11.0->openai-agents) (0.28.1)\n",
            "Requirement already satisfied: jsonschema>=4.20.0 in /usr/local/lib/python3.12/dist-packages (from mcp<2,>=1.11.0->openai-agents) (4.25.1)\n",
            "Requirement already satisfied: pydantic-settings>=2.5.2 in /usr/local/lib/python3.12/dist-packages (from mcp<2,>=1.11.0->openai-agents) (2.11.0)\n",
            "Requirement already satisfied: python-multipart>=0.0.9 in /usr/local/lib/python3.12/dist-packages (from mcp<2,>=1.11.0->openai-agents) (0.0.20)\n",
            "Requirement already satisfied: sse-starlette>=1.6.1 in /usr/local/lib/python3.12/dist-packages (from mcp<2,>=1.11.0->openai-agents) (3.0.2)\n",
            "Requirement already satisfied: starlette>=0.27 in /usr/local/lib/python3.12/dist-packages (from mcp<2,>=1.11.0->openai-agents) (0.48.0)\n",
            "Requirement already satisfied: uvicorn>=0.31.1 in /usr/local/lib/python3.12/dist-packages (from mcp<2,>=1.11.0->openai-agents) (0.37.0)\n",
            "Requirement already satisfied: distro<2,>=1.7.0 in /usr/local/lib/python3.12/dist-packages (from openai<2,>=1.107.1->openai-agents) (1.9.0)\n",
            "Requirement already satisfied: jiter<1,>=0.4.0 in /usr/local/lib/python3.12/dist-packages (from openai<2,>=1.107.1->openai-agents) (0.11.0)\n",
            "Requirement already satisfied: sniffio in /usr/local/lib/python3.12/dist-packages (from openai<2,>=1.107.1->openai-agents) (1.3.1)\n",
            "Requirement already satisfied: tqdm>4 in /usr/local/lib/python3.12/dist-packages (from openai<2,>=1.107.1->openai-agents) (4.67.1)\n",
            "Requirement already satisfied: annotated-types>=0.6.0 in /usr/local/lib/python3.12/dist-packages (from pydantic<3,>=2.10->openai-agents) (0.7.0)\n",
            "Requirement already satisfied: pydantic-core==2.33.2 in /usr/local/lib/python3.12/dist-packages (from pydantic<3,>=2.10->openai-agents) (2.33.2)\n",
            "Requirement already satisfied: typing-inspection>=0.4.0 in /usr/local/lib/python3.12/dist-packages (from pydantic<3,>=2.10->openai-agents) (0.4.2)\n",
            "Requirement already satisfied: charset_normalizer<4,>=2 in /usr/local/lib/python3.12/dist-packages (from requests<3,>=2.0->openai-agents) (3.4.3)\n",
            "Requirement already satisfied: idna<4,>=2.5 in /usr/local/lib/python3.12/dist-packages (from requests<3,>=2.0->openai-agents) (3.10)\n",
            "Requirement already satisfied: urllib3<3,>=1.21.1 in /usr/local/lib/python3.12/dist-packages (from requests<3,>=2.0->openai-agents) (2.5.0)\n",
            "Requirement already satisfied: certifi>=2017.4.17 in /usr/local/lib/python3.12/dist-packages (from requests<3,>=2.0->openai-agents) (2025.8.3)\n",
            "Requirement already satisfied: httpcore==1.* in /usr/local/lib/python3.12/dist-packages (from httpx>=0.27.1->mcp<2,>=1.11.0->openai-agents) (1.0.9)\n",
            "Requirement already satisfied: h11>=0.16 in /usr/local/lib/python3.12/dist-packages (from httpcore==1.*->httpx>=0.27.1->mcp<2,>=1.11.0->openai-agents) (0.16.0)\n",
            "Requirement already satisfied: attrs>=22.2.0 in /usr/local/lib/python3.12/dist-packages (from jsonschema>=4.20.0->mcp<2,>=1.11.0->openai-agents) (25.3.0)\n",
            "Requirement already satisfied: jsonschema-specifications>=2023.03.6 in /usr/local/lib/python3.12/dist-packages (from jsonschema>=4.20.0->mcp<2,>=1.11.0->openai-agents) (2025.9.1)\n",
            "Requirement already satisfied: referencing>=0.28.4 in /usr/local/lib/python3.12/dist-packages (from jsonschema>=4.20.0->mcp<2,>=1.11.0->openai-agents) (0.36.2)\n",
            "Requirement already satisfied: rpds-py>=0.7.1 in /usr/local/lib/python3.12/dist-packages (from jsonschema>=4.20.0->mcp<2,>=1.11.0->openai-agents) (0.27.1)\n",
            "Requirement already satisfied: python-dotenv>=0.21.0 in /usr/local/lib/python3.12/dist-packages (from pydantic-settings>=2.5.2->mcp<2,>=1.11.0->openai-agents) (1.1.1)\n",
            "Requirement already satisfied: click>=7.0 in /usr/local/lib/python3.12/dist-packages (from uvicorn>=0.31.1->mcp<2,>=1.11.0->openai-agents) (8.3.0)\n",
            "Downloading openai_agents-0.3.3-py3-none-any.whl (210 kB)\n",
            "\u001b[2K   \u001b[90m━━━━━━━━━━━━━━━━━━━━━━━━━━━━━━━━━━━━━━━━\u001b[0m \u001b[32m210.9/210.9 kB\u001b[0m \u001b[31m4.5 MB/s\u001b[0m eta \u001b[36m0:00:00\u001b[0m\n",
            "\u001b[?25hDownloading griffe-1.14.0-py3-none-any.whl (144 kB)\n",
            "\u001b[2K   \u001b[90m━━━━━━━━━━━━━━━━━━━━━━━━━━━━━━━━━━━━━━━━\u001b[0m \u001b[32m144.4/144.4 kB\u001b[0m \u001b[31m15.2 MB/s\u001b[0m eta \u001b[36m0:00:00\u001b[0m\n",
            "\u001b[?25hDownloading types_requests-2.32.4.20250913-py3-none-any.whl (20 kB)\n",
            "Downloading colorama-0.4.6-py2.py3-none-any.whl (25 kB)\n",
            "Installing collected packages: types-requests, colorama, griffe, openai-agents\n",
            "Successfully installed colorama-0.4.6 griffe-1.14.0 openai-agents-0.3.3 types-requests-2.32.4.20250913\n"
          ]
        }
      ]
    },
    {
      "cell_type": "code",
      "source": [
        "from openai import OpenAI\n",
        "from typing import List, Optional, Dict, Any\n",
        "from dataclasses import dataclass\n",
        "from agents import Agent, Runner, function_tool\n",
        "import time, random, json"
      ],
      "metadata": {
        "id": "jo2bUVzPc1OJ"
      },
      "execution_count": 39,
      "outputs": []
    },
    {
      "cell_type": "code",
      "source": [
        "from google.colab import userdata\n",
        "api_key = userdata.get('OPENAI_API_KEY')\n",
        "import os\n",
        "os.environ['OPENAI_API_KEY'] = api_key\n",
        "\n",
        "#Proper client initialization\n",
        "client = OpenAI(api_key=os.environ.get('OPENAI_API_KEY'))"
      ],
      "metadata": {
        "id": "GnOb23oQcsir"
      },
      "execution_count": 5,
      "outputs": []
    },
    {
      "cell_type": "code",
      "source": [
        "model = \"gpt-4o\"\n",
        "user_prompt =\"What's the best performing ETF?\""
      ],
      "metadata": {
        "id": "7Ac7ObO2vcjh"
      },
      "execution_count": 14,
      "outputs": []
    },
    {
      "cell_type": "code",
      "source": [
        "class BaseLLM :\n",
        "\n",
        "  def __init__(self, model ):\n",
        "    self.model = model\n",
        "\n",
        "  def generate(self, user_prompt:str, max_tokens = 1000):\n",
        "\n",
        "    print(\"BaseLLM: making single API call...\")\n",
        "    start_time = time.time()\n",
        "    response = client.completions.create(\n",
        "        model=self.model,\n",
        "        max_tokens=max_tokens,\n",
        "        input =[{\"role\": \"user\", \"content\": user_prompt}]\n",
        "    )\n",
        "    end_time = time.time()\n",
        "\n",
        "    return {\n",
        "        \"content\": response.output_text,\n",
        "        \"tokens_used\": response.usage.total_tokens,\n",
        "        \"response_time\": end_time - start_time\n",
        "    }\n",
        ""
      ],
      "metadata": {
        "id": "XmCo7wzYvnpb"
      },
      "execution_count": 22,
      "outputs": []
    },
    {
      "cell_type": "code",
      "source": [
        "base_llm = BaseLLM(model)\n",
        "llm_result = base_llm.generate(user_prompt)"
      ],
      "metadata": {
        "colab": {
          "base_uri": "https://localhost:8080/"
        },
        "id": "k4Pwf9U3w-wL",
        "outputId": "7d52ef8f-14c7-4fa7-a92c-cfe51aa0f198"
      },
      "execution_count": 23,
      "outputs": [
        {
          "output_type": "stream",
          "name": "stdout",
          "text": [
            "BaseLLM: making single API call...\n"
          ]
        }
      ]
    },
    {
      "cell_type": "code",
      "source": [
        "print(\"\\n\" + \"=\"*50)\n",
        "print(\"BASE LLM:\",model)\n",
        "print(\"=\"*50)\n",
        "print(f\"Response:\")\n",
        "print(llm_result['content'])\n",
        "print(f\"Tokens: {llm_result['tokens_used']}, Time: {llm_result['response_time']:.2f}s\")"
      ],
      "metadata": {
        "colab": {
          "base_uri": "https://localhost:8080/"
        },
        "id": "dFka53_Hx8XP",
        "outputId": "88d5cb6c-8a44-42ac-b04e-b18980ae9f74"
      },
      "execution_count": 27,
      "outputs": [
        {
          "output_type": "stream",
          "name": "stdout",
          "text": [
            "\n",
            "==================================================\n",
            "BASE LLM: gpt-4o\n",
            "==================================================\n",
            "Response:\n",
            "Determining the \"best\" performing ETF can depend on the specific time frame, market conditions, and what you're looking to achieve. Some ETFs may be top performers in the short term but may not be suitable for long-term investments. Common performance metrics include total return over specific periods or performance compared to a benchmark index.\n",
            "\n",
            "To find the current best-performing ETF, you would typically look at financial news websites or platforms like Morningstar, Bloomberg, or Yahoo Finance. They often have updated lists and reports on ETFs that are currently outperforming others. Remember, past performance doesn't guarantee future results, and it's important to consider factors like fees, investment strategy, and risk when evaluating an ETF.\n",
            "Tokens: 149, Time: 6.94s\n"
          ]
        }
      ]
    },
    {
      "cell_type": "code",
      "source": [
        "model = \"gpt-5\"\n",
        "user_prompt =\"What's the best performing ETF (US only), provide top 3 for the best performance in the YTD?\""
      ],
      "metadata": {
        "id": "HY6vfuWuyR2R"
      },
      "execution_count": 34,
      "outputs": []
    },
    {
      "cell_type": "code",
      "source": [
        "base_llm = BaseLLM(model)\n",
        "llm_result = base_llm.generate(user_prompt)"
      ],
      "metadata": {
        "colab": {
          "base_uri": "https://localhost:8080/"
        },
        "id": "curPdeqhyTAV",
        "outputId": "0a83a067-aca4-494d-865f-6bb549eb79e4"
      },
      "execution_count": 50,
      "outputs": [
        {
          "output_type": "stream",
          "name": "stdout",
          "text": [
            "BaseLLM: making single API call...\n"
          ]
        }
      ]
    },
    {
      "cell_type": "code",
      "source": [
        "print(\"\\n\" + \"=\"*50)\n",
        "print(\"BASE LLM:\",model)\n",
        "print(\"=\"*50)\n",
        "print(f\"Response:\")\n",
        "print(llm_result['content'])\n",
        "print(f\"Tokens: {llm_result['tokens_used']}, Time: {llm_result['response_time']:.2f}s\")"
      ],
      "metadata": {
        "colab": {
          "base_uri": "https://localhost:8080/"
        },
        "id": "KEY89ZDayX0y",
        "outputId": "616b449f-8fea-4f7c-ae88-167a9fc6953f"
      },
      "execution_count": 51,
      "outputs": [
        {
          "output_type": "stream",
          "name": "stdout",
          "text": [
            "\n",
            "==================================================\n",
            "BASE LLM: gpt-4o\n",
            "==================================================\n",
            "Response:\n",
            "Buying a home in the U.S. is a multi-step process that typically involves the following stages:\n",
            "\n",
            "1. **Financial Preparation:**\n",
            "   - **Credit Score:** Check and improve your credit score if necessary.\n",
            "   - **Budget:** Determine how much you can afford, including down payment and monthly mortgage payments.\n",
            "   - **Pre-Approval:** Get pre-approved for a mortgage to understand your price range and prove to sellers you're serious.\n",
            "\n",
            "2. **Finding a Home:**\n",
            "   - **Real Estate Agent:** Hire a qualified real estate agent to guide you.\n",
            "   - **Home Search:** Identify your needs and wants in a home and start searching.\n",
            "   - **Visit Homes:** Tour potential homes to assess their condition and suitability.\n",
            "\n",
            "3. **Making an Offer:**\n",
            "   - **Offer Price:** Decide on the price based on market conditions and the home's value.\n",
            "   - **Negotiation:** Negotiate terms with the seller, which may include contingencies like inspections.\n",
            "\n",
            "4. **Due Diligence:**\n",
            "   - **Inspections:** Conduct a home inspection to check for any issues.\n",
            "   - **Appraisal:** The lender will require an appraisal to determine home value.\n",
            "   - **Title Search:** Ensure there are no legal issues with the property title.\n",
            "\n",
            "5. **Finalizing the Mortgage:**\n",
            "   - **Loan Application:** Submit a full mortgage application with your lender.\n",
            "   - **Conditions:** Satisfy any conditions required by the lender to secure the loan.\n",
            "\n",
            "6. **Closing Process:**\n",
            "   - **Closing Disclosure:** Review this document outlining loan terms and closing costs.\n",
            "   - **Closing Meeting:** Sign all necessary paperwork, including the mortgage and deed.\n",
            "   - **Payment:** Pay closing costs and the down payment.\n",
            "\n",
            "7. **Post-Closing:**\n",
            "   - **Move In:** Arrange for moving and address any immediate maintenance needs.\n",
            "   - **Utilities and Services:** Transfer or set up utilities and services in your name.\n",
            "\n",
            "Each step can vary based on state laws, local customs, and individual circumstances, so working with a knowledgeable real estate agent and possibly a real estate attorney can be beneficial.\n",
            "Tokens: 445, Time: 19.99s\n"
          ]
        }
      ]
    },
    {
      "cell_type": "markdown",
      "source": [
        "**Reasoning LLM**"
      ],
      "metadata": {
        "id": "lo7triZw0G2r"
      }
    },
    {
      "cell_type": "code",
      "source": [
        "class ReasoningLLM:\n",
        "\n",
        "  def __init__(self, base_llm: BaseLLM):\n",
        "    self.base_llm = base_llm\n",
        "    self.conversation_history = []\n",
        "\n",
        "  def analyze_query(self, query: str):\n",
        "\n",
        "    analysis_prompt = f\"\"\"Analyze this query and determin the best approach to answer it comprehensively:\n",
        "    Query: \"{query}\"\n",
        "\n",
        "    Respond with:\n",
        "    1. Query type(factual, process comparion, etc.)\n",
        "    2. Key components to address\n",
        "    3. Suggested breakdown steps\n",
        "\n",
        "    Keep resposne concise and structured\n",
        "\n",
        "\n",
        "    \"\"\"\n",
        "\n",
        "    print(\"Reasoning LLM: Step 1 - Analzying query..\")\n",
        "    response = self.base_llm.generate(analysis_prompt)\n",
        "\n",
        "    return {\"analysis\": response[\"content\"], \"tokens\": response[\"tokens_used\"]}\n",
        "\n",
        "\n",
        "\n",
        "  def decompose_problem(self, query: str, analysis: str):\n",
        "    decomposition_prompt =f\"\"\"\n",
        "    Based on this analysis: {analysis}\n",
        "\n",
        "    Break down the query \"{query}\" into 3-4 specific sub-question that, when answered together,\n",
        "    will provide a comprehensive response. List only the questions, one per line.\n",
        "    \"\"\"\n",
        "\n",
        "    print(\"Reasoning LLM: Step 2- Decomposing problem...\")\n",
        "    response = self.base_llm.generate(decomposition_prompt)\n",
        "\n",
        "    questions = [q.strip() for q in response['content'].split('\\n') if q.strip() and '?' in q]\n",
        "    return questions[:4] # Limit to 4 questionsj\n",
        "\n",
        "\n",
        "  def answer_sub_questions(self, question: str) -> str:\n",
        "\n",
        "    focused_prompt = f\"\"\"\n",
        "    Answer this specific question about selecting top 3 ETF with precise, technical details:\n",
        "    {question}\n",
        "\n",
        "    Provide a clear, factual answer focusing only on this aspect.\n",
        "    \"\"\"\n",
        "\n",
        "    print(f\"ReasoiningLLM: Step 3 - Answering: {question[:50]}...\")\n",
        "    response = self.base_llm.generate(focused_prompt)\n",
        "    return response[\"content\"]\n",
        "\n",
        "\n",
        "  def verify_response(self, question: str, answer: str) -> Dict[str, Any]:\n",
        "    verification_prompt = f\"\"\"\n",
        "\n",
        "    Question: {question}\n",
        "    Answer: {answer}\n",
        "\n",
        "    Evaluate this answer on a scale of 1-10 for:\n",
        "    1. Accuracy\n",
        "    2. Completeness\n",
        "    3. Clarity\n",
        "\n",
        "    Respond with just three numbers and any critical missing information\n",
        "\n",
        "    \"\"\"\n",
        "\n",
        "    print(\"ReasoningLLM: Step 4- Verifying response...\")\n",
        "    response = self.base_llm.generate(verification_prompt)\n",
        "    return {\"verification\": response[\"content\"]}\n",
        "\n",
        "\n",
        "  def synthesie_final_response(self, query: str, qa_pairs: List[tuple]) -> str:\n",
        "      synthesis_prompt =f\"\"\"\n",
        "      Original question: {query}\n",
        "\n",
        "      Sub-questions and answers with verifications:\n",
        "\n",
        "        {chr(10).join([\n",
        "            f\"Q: {qa['question']}\\nA: {qa['answer']}\\nVerification: {qa['verification']}\\n\"\n",
        "            for qa in qa_pairs\n",
        "        ])}\n",
        "\n",
        "        Synthesize these into a well-structured, comprehensive answer to the original questions.\n",
        "        Use clear steps/sections and ensure logical flow.\n",
        "        \"\"\"\n",
        "\n",
        "      print(\"ReasoningLLM: Ste 5 - Synthesizing final response...\")\n",
        "      response = self.base_llm.generate(synthesis_prompt)\n",
        "      return response[\"content\"]\n",
        "\n",
        "\n",
        "\n",
        "  def reason(self, query: str) -> str:\n",
        "    print(f\"\\n ReasoningLLM: Processing '{query}\")\n",
        "    start_time = time.time()\n",
        "\n",
        "    # Step 1: analyze query\n",
        "    analysis = self.analyze_query(query)\n",
        "\n",
        "    # Step 2: decompose into sub-questions\n",
        "    sub_questions = self.decompose_problem(query, analysis[\"analysis\"])\n",
        "\n",
        "    # Step 3&4: Answer and verify each sub-question\n",
        "    qa_pairs = []\n",
        "\n",
        "    for question in sub_questions:\n",
        "      answer = self.answer_sub_questions(question)\n",
        "      verification = self.verify_response(question, answer)\n",
        "      qa_pairs.append({\"question\": question, \"answer\": answer, \"verification\": verification[\"verification\"]})\n",
        "\n",
        "    # Step 5: Synthesize\n",
        "\n",
        "    final_response = self.synthesie_final_response(query, qa_pairs)\n",
        "\n",
        "    end_time = time.time()\n",
        "\n",
        "\n",
        "    return {\n",
        "        \"response\": final_response,\n",
        "        \"reasoning_steps\": {\n",
        "            \"analysis\": analysis[\"analysis\"],\n",
        "            \"sub_questions\": sub_questions,\n",
        "            \"qa_pairs\": qa_pairs\n",
        "        },\n",
        "        \"processing_time\": end_time - start_time\n",
        "        }"
      ],
      "metadata": {
        "id": "5z1ma-qtzcaR"
      },
      "execution_count": 44,
      "outputs": []
    },
    {
      "cell_type": "code",
      "source": [
        "user_prompt =\"what is the process of buying a home in the US?\""
      ],
      "metadata": {
        "id": "hUEtz7sL9DKN"
      },
      "execution_count": 49,
      "outputs": []
    },
    {
      "cell_type": "code",
      "source": [
        "model = \"gpt-4o\"\n",
        "base_llm = BaseLLM(model)\n",
        "reasoning_llm = ReasoningLLM(base_llm)\n",
        "\n",
        "print(\"\\n\" + \"=\"*50)\n",
        "print(\"REASONING LLM:\",model)\n",
        "print(\"=\"*50)\n",
        "reasoning_result = reasoning_llm.reason(user_prompt)\n",
        "print(f\"Final Response:\")\n",
        "print(reasoning_result['response'])\n",
        "print(f\"Sub-questions explored: {len(reasoning_result['reasoning_steps']['sub_questions'])}\")\n",
        "print(f\"Time: {reasoning_result['processing_time']:.2f}s\")"
      ],
      "metadata": {
        "colab": {
          "base_uri": "https://localhost:8080/"
        },
        "id": "Wdoxvnlp7Jq-",
        "outputId": "8e37d371-aab6-4d64-ec1f-e49726ba8ae7"
      },
      "execution_count": 48,
      "outputs": [
        {
          "output_type": "stream",
          "name": "stdout",
          "text": [
            "\n",
            "==================================================\n",
            "REASONING LLM: gpt-4o\n",
            "==================================================\n",
            "\n",
            " ReasoningLLM: Processing 'what is the process of buying a home in the US?\n",
            "Reasoning LLM: Step 1 - Analzying query..\n",
            "BaseLLM: making single API call...\n",
            "Reasoning LLM: Step 2- Decomposing problem...\n",
            "BaseLLM: making single API call...\n",
            "ReasoiningLLM: Step 3 - Answering: 1. What steps should I take before starting the ho...\n",
            "BaseLLM: making single API call...\n",
            "ReasoningLLM: Step 4- Verifying response...\n",
            "BaseLLM: making single API call...\n",
            "ReasoiningLLM: Step 3 - Answering: 2. How do I explore financing options and navigate...\n",
            "BaseLLM: making single API call...\n",
            "ReasoningLLM: Step 4- Verifying response...\n",
            "BaseLLM: making single API call...\n",
            "ReasoiningLLM: Step 3 - Answering: 3. What should I consider during the home search a...\n",
            "BaseLLM: making single API call...\n",
            "ReasoningLLM: Step 4- Verifying response...\n",
            "BaseLLM: making single API call...\n",
            "ReasoiningLLM: Step 3 - Answering: 4. What are the important steps in closing the dea...\n",
            "BaseLLM: making single API call...\n",
            "ReasoningLLM: Step 4- Verifying response...\n",
            "BaseLLM: making single API call...\n",
            "ReasoningLLM: Ste 5 - Synthesizing final response...\n",
            "BaseLLM: making single API call...\n",
            "Final Response:\n",
            "### Comprehensive Guide to Buying a Home in the US\n",
            "\n",
            "Buying a home in the US involves several critical steps, from preparing your finances to closing the deal. Here’s an overview of the process:\n",
            "\n",
            "#### Before You Start\n",
            "\n",
            "1. **Assess Financial Health:**\n",
            "   - **Credit Score:** Check and improve your credit score as it affects mortgage rates.\n",
            "   - **Debt-to-Income Ratio (DTI):** Calculate your DTI to understand your borrowing capacity.\n",
            "   - **Savings:** Ensure you have enough for a down payment, closing costs, and emergencies.\n",
            "\n",
            "2. **Set a Budget:**\n",
            "   - **Affordability:** Determine how much house you can afford based on your income and expenses.\n",
            "   - **Monthly Payments:** Consider mortgage payments, property taxes, insurance, and maintenance.\n",
            "\n",
            "3. **Research the Market:**\n",
            "   - **Neighborhoods:** Investigate different areas for amenities, schools, and safety.\n",
            "   - **Market Trends:** Understand current housing market conditions and price trends.\n",
            "\n",
            "4. **Assemble a Team:**\n",
            "   - **Professionals:** Consider hiring a real estate agent, lawyer, and home inspector.\n",
            "\n",
            "#### Exploring Financing and Mortgage Options\n",
            "\n",
            "1. **Research and Compare Mortgages:**\n",
            "   - **Types of Loans:** Understand fixed-rate vs. adjustable-rate mortgages (ARMs), and government-backed loans vs. conventional loans.\n",
            "   - **First-Time Homebuyer Programs:** Check eligibility for grants and special programs.\n",
            "\n",
            "2. **Get Pre-Approved:**\n",
            "   - **Documentation:** Submit tax returns, pay stubs, bank statements, and ID for pre-approval.\n",
            "   - **Lender Comparison:** Compare interest rates, loan terms, and fees from different lenders.\n",
            "\n",
            "3. **Choose the Right Loan:**\n",
            "   - **Select a Mortgage:** Pick the loan type and term that fits your financial situation.\n",
            "   - **Lock in Your Rate:** Secure your interest rate to protect against rate increases.\n",
            "\n",
            "#### Home Search and Making an Offer\n",
            "\n",
            "1. **Start Your Search:**\n",
            "   - **Checklist:** Consider factors like location, budget, home condition, and amenities.\n",
            "   - **Visit Properties:** Attend open houses and private showings.\n",
            "\n",
            "2. **Make an Offer:**\n",
            "   - **Negotiation:** Work with your real estate agent to make a competitive offer.\n",
            "   - **Contingencies:** Include necessary contingencies (inspections, financing, etc.).\n",
            "\n",
            "#### Closing the Deal\n",
            "\n",
            "1. **Final Approvals:**\n",
            "   - **Home Inspection and Appraisal:** Ensure the property’s condition and value.\n",
            "   - **Underwriting:** Complete the lender’s application review and provide additional documents if required.\n",
            "\n",
            "2. **Closing:**\n",
            "   - **Review Documents:** Carefully review the Closing Disclosure for final costs and terms.\n",
            "   - **Sign Papers:** Execute the necessary documentation and pay the closing costs.\n",
            "\n",
            "3. **Post-Closing:**\n",
            "   - **Set Up Payments:** Arrange mortgage payments and consider automatic drafts.\n",
            "   - **Record Keeping:** Keep track of all documents and transaction details for future reference.\n",
            "\n",
            "#### After Purchase Management\n",
            "\n",
            "1. **Home Maintenance:**\n",
            "   - **Regular Upkeep:** Create a maintenance schedule to keep the property in good condition.\n",
            "   - **Financial Planning:** Budget for ongoing costs like utilities, HOA fees, and repairs.\n",
            "\n",
            "2. **Insurance and Taxes:**\n",
            "   - **Insurance:** Review your homeowner’s insurance policy annually for adequate coverage.\n",
            "   - **Tax Benefits:** Explore tax deductions available for mortgage interest and property taxes.\n",
            "\n",
            "By following these steps and staying informed throughout the process, you can navigate the home-buying journey efficiently and make a purchase that suits your needs and financial situation.\n",
            "Sub-questions explored: 4\n",
            "Time: 66.54s\n"
          ]
        }
      ]
    }
  ]
}