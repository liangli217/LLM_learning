{
  "nbformat": 4,
  "nbformat_minor": 0,
  "metadata": {
    "colab": {
      "provenance": [],
      "authorship_tag": "ABX9TyOovXYEtlQJ5+HvfUj+qGep",
      "include_colab_link": true
    },
    "kernelspec": {
      "name": "python3",
      "display_name": "Python 3"
    },
    "language_info": {
      "name": "python"
    }
  },
  "cells": [
    {
      "cell_type": "markdown",
      "metadata": {
        "id": "view-in-github",
        "colab_type": "text"
      },
      "source": [
        "<a href=\"https://colab.research.google.com/github/liangli217/LLM_learning/blob/main/Base_model_to_assistant_model.ipynb\" target=\"_parent\"><img src=\"https://colab.research.google.com/assets/colab-badge.svg\" alt=\"Open In Colab\"/></a>"
      ]
    },
    {
      "cell_type": "markdown",
      "source": [
        "Base models in the wild\n",
        "\n",
        "*   OpenAI GPT-2 (2019): 1.6 billion parameters trained on 100 billiong tokens\n",
        "*   Llama3 (2024): 405 billion parameters trained on 15 trillion tokens\n",
        "\n",
        "\n"
      ],
      "metadata": {
        "id": "jEjfbVGTdAVT"
      }
    },
    {
      "cell_type": "markdown",
      "source": [
        "What is a release of a model?\n",
        "\n",
        "\n",
        "1.   The code for running the Transformer (e.g. 200 lines of code in Python)\n",
        "2.   The parameters of the Transmer (e.g. 1.6 billion parameters)\n",
        "\n"
      ],
      "metadata": {
        "id": "19rI0STXdor2"
      }
    },
    {
      "cell_type": "code",
      "source": [
        "from google.colab import userdata\n",
        "from openai import OpenAI\n"
      ],
      "metadata": {
        "id": "YBEtf36PdlhW"
      },
      "execution_count": null,
      "outputs": []
    },
    {
      "cell_type": "code",
      "source": [
        "openai_key = userdata.get('OPENAI_API_KEY')\n",
        "\n",
        "# Initialize the OpenAI client\n",
        "client = OpenAI(api_key=openai_key)"
      ],
      "metadata": {
        "id": "-aVaiVCDgdbM"
      },
      "execution_count": null,
      "outputs": []
    },
    {
      "cell_type": "markdown",
      "source": [
        "**GPT 2 model using HuggingFace transformers**\n",
        "\n",
        "\n"
      ],
      "metadata": {
        "id": "8NpY_V4jiCen"
      }
    },
    {
      "cell_type": "code",
      "source": [
        "from transformers import GPT2LMHeadModel, GPT2Tokenizer\n",
        "import torch\n",
        "\n",
        "model = GPT2LMHeadModel.from_pretrained(\"gpt2\")\n",
        "tokenizer = GPT2Tokenizer.from_pretrained(\"gpt2\")\n",
        "\n",
        "prompt = \"Explain the concept of quantum entanglement in simple terms.\"\n",
        "inputs = tokenizer(prompt, return_tensors=\"pt\")\n",
        "outputs = model.generate(inputs[\"input_ids\"], max_length=100, temperature=0.7)\n",
        "\n",
        "print(tokenizer.decode(outputs[0], skip_special_tokens=True))"
      ],
      "metadata": {
        "id": "kwK1mHDQgvS-"
      },
      "execution_count": null,
      "outputs": []
    },
    {
      "cell_type": "markdown",
      "source": [
        "**Llama 3.1 405B base model from Hyperbolic (good for base model)**\n"
      ],
      "metadata": {
        "id": "DDqWb9mFmmuJ"
      }
    },
    {
      "cell_type": "markdown",
      "source": [
        "https://app.hyperbolic.ai/models/llama31-405b-base-bf-16"
      ],
      "metadata": {
        "id": "-tREAE11mko_"
      }
    },
    {
      "cell_type": "markdown",
      "source": [
        "**Post-training data (conversations)**"
      ],
      "metadata": {
        "id": "2J_W8e0Hsqag"
      }
    },
    {
      "cell_type": "markdown",
      "source": [
        "InstructGPT: Training language models to follow instructions\n",
        "with human feedback\n",
        "\n",
        "https://arxiv.org/pdf/2203.02155\n",
        "\n",
        "\n"
      ],
      "metadata": {
        "id": "A8ceP2Y16gmM"
      }
    },
    {
      "cell_type": "markdown",
      "source": [
        "Knowledge in the parameters == Vague recollection\n",
        "\n",
        "Knowledge in the tokens of the context window == working memory"
      ],
      "metadata": {
        "id": "TgMBAIv2d1P_"
      }
    },
    {
      "cell_type": "markdown",
      "source": [
        "**Reinforcement Learning**\n",
        "DeepSeek-R1 directly apply RL to the base model."
      ],
      "metadata": {
        "id": "spk_SqwpB-za"
      }
    },
    {
      "cell_type": "markdown",
      "source": [
        "https://arxiv.org/pdf/2501.12948\n",
        "\n",
        "From DeepSeek, \"It underscors the power and beauty of reinforcement learning: rather than explicitly teaching the model on how to solve a problem, we simply provide it with the right incentives, and it autonomously develops advanced problem-solving strategies.\""
      ],
      "metadata": {
        "id": "biVzsQb-EK9W"
      }
    },
    {
      "cell_type": "markdown",
      "source": [
        "**Reinforcement learning from human feedback**"
      ],
      "metadata": {
        "id": "NsIL6SQZFTEe"
      }
    },
    {
      "cell_type": "markdown",
      "source": [
        "RLHF approach:\n",
        "\n",
        "Step 1:\n",
        "\n",
        "Teake 1000 prompts, get 5 rollouts, order them from best to worst\n",
        "\n",
        "Step 2:\n",
        "\n",
        "Train a neural net simulator of human preferences (\"reward model\")\n",
        "\n",
        "Step 3:\n",
        "\n",
        "Run RL as usual, but using the simulator instead of actual humans"
      ],
      "metadata": {
        "id": "j9r3M2ePT40Q"
      }
    },
    {
      "cell_type": "markdown",
      "source": [
        "**RLHF upside & downside**\n",
        "\n",
        "\n",
        "\n",
        "*   We can run RL in arbitary domains, even the unverifiable ones. This (empirically) improves the performance of the mdoel, possibly due to the \"discriminator -generator gap\". In many cases, it is much easier to discriminate than to generate.\n",
        "\n",
        "*   But RLHF discovers ways to \"game\" the model\n",
        "\n"
      ],
      "metadata": {
        "id": "CI_2uy_YenTf"
      }
    }
  ]
}