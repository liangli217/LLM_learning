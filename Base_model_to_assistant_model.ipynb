{
  "nbformat": 4,
  "nbformat_minor": 0,
  "metadata": {
    "colab": {
      "provenance": [],
      "authorship_tag": "ABX9TyMFXtqyBEuYwWpLNttxLzPZ",
      "include_colab_link": true
    },
    "kernelspec": {
      "name": "python3",
      "display_name": "Python 3"
    },
    "language_info": {
      "name": "python"
    }
  },
  "cells": [
    {
      "cell_type": "markdown",
      "metadata": {
        "id": "view-in-github",
        "colab_type": "text"
      },
      "source": [
        "<a href=\"https://colab.research.google.com/github/liangli217/LLM_learning/blob/main/Base_model_to_assistant_model.ipynb\" target=\"_parent\"><img src=\"https://colab.research.google.com/assets/colab-badge.svg\" alt=\"Open In Colab\"/></a>"
      ]
    },
    {
      "cell_type": "markdown",
      "source": [
        "Base models in the wild\n",
        "\n",
        "*   OpenAI GPT-2 (2019): 1.6 billion parameters trained on 100 billiong tokens\n",
        "*   Llama3 (2024): 405 billion parameters trained on 15 trillion tokens\n",
        "\n",
        "\n"
      ],
      "metadata": {
        "id": "jEjfbVGTdAVT"
      }
    },
    {
      "cell_type": "markdown",
      "source": [
        "What is a release of a model?\n",
        "\n",
        "\n",
        "1.   The code for running the Transformer (e.g. 200 lines of code in Python)\n",
        "2.   The parameters of the Transmer (e.g. 1.6 billion parameters)\n",
        "\n"
      ],
      "metadata": {
        "id": "19rI0STXdor2"
      }
    },
    {
      "cell_type": "code",
      "source": [
        "from google.colab import userdata\n",
        "from openai import OpenAI\n"
      ],
      "metadata": {
        "id": "YBEtf36PdlhW"
      },
      "execution_count": 1,
      "outputs": []
    },
    {
      "cell_type": "code",
      "source": [
        "openai_key = userdata.get('OPENAI_API_KEY')\n",
        "\n",
        "# Initialize the OpenAI client\n",
        "client = OpenAI(api_key=openai_key)"
      ],
      "metadata": {
        "id": "-aVaiVCDgdbM"
      },
      "execution_count": 4,
      "outputs": []
    },
    {
      "cell_type": "markdown",
      "source": [
        "**GPT 2 model using HuggingFace transformers**\n",
        "\n",
        "\n"
      ],
      "metadata": {
        "id": "8NpY_V4jiCen"
      }
    },
    {
      "cell_type": "code",
      "source": [
        "from transformers import GPT2LMHeadModel, GPT2Tokenizer\n",
        "import torch\n",
        "\n",
        "model = GPT2LMHeadModel.from_pretrained(\"gpt2\")\n",
        "tokenizer = GPT2Tokenizer.from_pretrained(\"gpt2\")\n",
        "\n",
        "prompt = \"Explain the concept of quantum entanglement in simple terms.\"\n",
        "inputs = tokenizer(prompt, return_tensors=\"pt\")\n",
        "outputs = model.generate(inputs[\"input_ids\"], max_length=100, temperature=0.7)\n",
        "\n",
        "print(tokenizer.decode(outputs[0], skip_special_tokens=True))"
      ],
      "metadata": {
        "id": "kwK1mHDQgvS-"
      },
      "execution_count": null,
      "outputs": []
    },
    {
      "cell_type": "markdown",
      "source": [
        "**Llama 3.1 405B base model from Hyperbolic (good for base model)**\n"
      ],
      "metadata": {
        "id": "DDqWb9mFmmuJ"
      }
    },
    {
      "cell_type": "markdown",
      "source": [
        "https://app.hyperbolic.ai/models/llama31-405b-base-bf-16"
      ],
      "metadata": {
        "id": "-tREAE11mko_"
      }
    },
    {
      "cell_type": "markdown",
      "source": [
        "**Post-training data (conversations)**"
      ],
      "metadata": {
        "id": "2J_W8e0Hsqag"
      }
    },
    {
      "cell_type": "markdown",
      "source": [
        "InstructGPT: Training language models to follow instructions\n",
        "with human feedback\n",
        "\n",
        "https://arxiv.org/pdf/2203.02155\n",
        "\n",
        "\n"
      ],
      "metadata": {
        "id": "A8ceP2Y16gmM"
      }
    },
    {
      "cell_type": "code",
      "source": [],
      "metadata": {
        "id": "YWzmihjq6rHk"
      },
      "execution_count": null,
      "outputs": []
    }
  ]
}