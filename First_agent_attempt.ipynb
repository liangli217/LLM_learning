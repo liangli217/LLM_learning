{
  "nbformat": 4,
  "nbformat_minor": 0,
  "metadata": {
    "colab": {
      "provenance": [],
      "authorship_tag": "ABX9TyPmFuDvwS20rjYu8eHWo4T5",
      "include_colab_link": true
    },
    "kernelspec": {
      "name": "python3",
      "display_name": "Python 3"
    },
    "language_info": {
      "name": "python"
    },
    "widgets": {
      "application/vnd.jupyter.widget-state+json": {
        "a270c89d928f4ae98c7df36ec93008ee": {
          "model_module": "@jupyter-widgets/controls",
          "model_name": "VBoxModel",
          "model_module_version": "1.5.0",
          "state": {
            "_dom_classes": [],
            "_model_module": "@jupyter-widgets/controls",
            "_model_module_version": "1.5.0",
            "_model_name": "VBoxModel",
            "_view_count": null,
            "_view_module": "@jupyter-widgets/controls",
            "_view_module_version": "1.5.0",
            "_view_name": "VBoxView",
            "box_style": "",
            "children": [],
            "layout": "IPY_MODEL_9d82c0a0e9d8459799a0f3fda0a9e22f"
          }
        },
        "00f76725ed1343f19af3c7081325e5e5": {
          "model_module": "@jupyter-widgets/controls",
          "model_name": "HTMLModel",
          "model_module_version": "1.5.0",
          "state": {
            "_dom_classes": [],
            "_model_module": "@jupyter-widgets/controls",
            "_model_module_version": "1.5.0",
            "_model_name": "HTMLModel",
            "_view_count": null,
            "_view_module": "@jupyter-widgets/controls",
            "_view_module_version": "1.5.0",
            "_view_name": "HTMLView",
            "description": "",
            "description_tooltip": null,
            "layout": "IPY_MODEL_fb0440b26fbc499eacc878fea569d668",
            "placeholder": "​",
            "style": "IPY_MODEL_898eb68b849a4565a032c93c5b9226aa",
            "value": "<center> <img\nsrc=https://huggingface.co/front/assets/huggingface_logo-noborder.svg\nalt='Hugging Face'> <br> Copy a token from <a\nhref=\"https://huggingface.co/settings/tokens\" target=\"_blank\">your Hugging Face\ntokens page</a> and paste it below. <br> Immediately click login after copying\nyour token or it might be stored in plain text in this notebook file. </center>"
          }
        },
        "ce0cd9ccb22948f68c0e51e240b3811f": {
          "model_module": "@jupyter-widgets/controls",
          "model_name": "PasswordModel",
          "model_module_version": "1.5.0",
          "state": {
            "_dom_classes": [],
            "_model_module": "@jupyter-widgets/controls",
            "_model_module_version": "1.5.0",
            "_model_name": "PasswordModel",
            "_view_count": null,
            "_view_module": "@jupyter-widgets/controls",
            "_view_module_version": "1.5.0",
            "_view_name": "PasswordView",
            "continuous_update": true,
            "description": "Token:",
            "description_tooltip": null,
            "disabled": false,
            "layout": "IPY_MODEL_5aa3dbd81ddf474b8a5317ed564e8b86",
            "placeholder": "​",
            "style": "IPY_MODEL_c1b7f8afaa7a44b2ae076eaeeee78a6e",
            "value": ""
          }
        },
        "5d658e4047ba4e6c8f405772223f866a": {
          "model_module": "@jupyter-widgets/controls",
          "model_name": "CheckboxModel",
          "model_module_version": "1.5.0",
          "state": {
            "_dom_classes": [],
            "_model_module": "@jupyter-widgets/controls",
            "_model_module_version": "1.5.0",
            "_model_name": "CheckboxModel",
            "_view_count": null,
            "_view_module": "@jupyter-widgets/controls",
            "_view_module_version": "1.5.0",
            "_view_name": "CheckboxView",
            "description": "Add token as git credential?",
            "description_tooltip": null,
            "disabled": false,
            "indent": true,
            "layout": "IPY_MODEL_750e11b71be5458cbcd01abd8c43a738",
            "style": "IPY_MODEL_c294abac8a094d569ae5aa694f5cb224",
            "value": true
          }
        },
        "cc64731eddc14e63beef68441b688af5": {
          "model_module": "@jupyter-widgets/controls",
          "model_name": "ButtonModel",
          "model_module_version": "1.5.0",
          "state": {
            "_dom_classes": [],
            "_model_module": "@jupyter-widgets/controls",
            "_model_module_version": "1.5.0",
            "_model_name": "ButtonModel",
            "_view_count": null,
            "_view_module": "@jupyter-widgets/controls",
            "_view_module_version": "1.5.0",
            "_view_name": "ButtonView",
            "button_style": "",
            "description": "Login",
            "disabled": false,
            "icon": "",
            "layout": "IPY_MODEL_8701c5d3544f4d1f913a2daa0716e607",
            "style": "IPY_MODEL_d630b478e71a47bb9761bf02d17de46d",
            "tooltip": ""
          }
        },
        "05b4a69bd9b34f888c6f8870fd9eb265": {
          "model_module": "@jupyter-widgets/controls",
          "model_name": "HTMLModel",
          "model_module_version": "1.5.0",
          "state": {
            "_dom_classes": [],
            "_model_module": "@jupyter-widgets/controls",
            "_model_module_version": "1.5.0",
            "_model_name": "HTMLModel",
            "_view_count": null,
            "_view_module": "@jupyter-widgets/controls",
            "_view_module_version": "1.5.0",
            "_view_name": "HTMLView",
            "description": "",
            "description_tooltip": null,
            "layout": "IPY_MODEL_8badb33655834dffa7f24686e01b28bf",
            "placeholder": "​",
            "style": "IPY_MODEL_77acda9f57994e7abbbea102353e50f3",
            "value": "\n<b>Pro Tip:</b> If you don't already have one, you can create a dedicated\n'notebooks' token with 'write' access, that you can then easily reuse for all\nnotebooks. </center>"
          }
        },
        "9d82c0a0e9d8459799a0f3fda0a9e22f": {
          "model_module": "@jupyter-widgets/base",
          "model_name": "LayoutModel",
          "model_module_version": "1.2.0",
          "state": {
            "_model_module": "@jupyter-widgets/base",
            "_model_module_version": "1.2.0",
            "_model_name": "LayoutModel",
            "_view_count": null,
            "_view_module": "@jupyter-widgets/base",
            "_view_module_version": "1.2.0",
            "_view_name": "LayoutView",
            "align_content": null,
            "align_items": "center",
            "align_self": null,
            "border": null,
            "bottom": null,
            "display": "flex",
            "flex": null,
            "flex_flow": "column",
            "grid_area": null,
            "grid_auto_columns": null,
            "grid_auto_flow": null,
            "grid_auto_rows": null,
            "grid_column": null,
            "grid_gap": null,
            "grid_row": null,
            "grid_template_areas": null,
            "grid_template_columns": null,
            "grid_template_rows": null,
            "height": null,
            "justify_content": null,
            "justify_items": null,
            "left": null,
            "margin": null,
            "max_height": null,
            "max_width": null,
            "min_height": null,
            "min_width": null,
            "object_fit": null,
            "object_position": null,
            "order": null,
            "overflow": null,
            "overflow_x": null,
            "overflow_y": null,
            "padding": null,
            "right": null,
            "top": null,
            "visibility": null,
            "width": "50%"
          }
        },
        "fb0440b26fbc499eacc878fea569d668": {
          "model_module": "@jupyter-widgets/base",
          "model_name": "LayoutModel",
          "model_module_version": "1.2.0",
          "state": {
            "_model_module": "@jupyter-widgets/base",
            "_model_module_version": "1.2.0",
            "_model_name": "LayoutModel",
            "_view_count": null,
            "_view_module": "@jupyter-widgets/base",
            "_view_module_version": "1.2.0",
            "_view_name": "LayoutView",
            "align_content": null,
            "align_items": null,
            "align_self": null,
            "border": null,
            "bottom": null,
            "display": null,
            "flex": null,
            "flex_flow": null,
            "grid_area": null,
            "grid_auto_columns": null,
            "grid_auto_flow": null,
            "grid_auto_rows": null,
            "grid_column": null,
            "grid_gap": null,
            "grid_row": null,
            "grid_template_areas": null,
            "grid_template_columns": null,
            "grid_template_rows": null,
            "height": null,
            "justify_content": null,
            "justify_items": null,
            "left": null,
            "margin": null,
            "max_height": null,
            "max_width": null,
            "min_height": null,
            "min_width": null,
            "object_fit": null,
            "object_position": null,
            "order": null,
            "overflow": null,
            "overflow_x": null,
            "overflow_y": null,
            "padding": null,
            "right": null,
            "top": null,
            "visibility": null,
            "width": null
          }
        },
        "898eb68b849a4565a032c93c5b9226aa": {
          "model_module": "@jupyter-widgets/controls",
          "model_name": "DescriptionStyleModel",
          "model_module_version": "1.5.0",
          "state": {
            "_model_module": "@jupyter-widgets/controls",
            "_model_module_version": "1.5.0",
            "_model_name": "DescriptionStyleModel",
            "_view_count": null,
            "_view_module": "@jupyter-widgets/base",
            "_view_module_version": "1.2.0",
            "_view_name": "StyleView",
            "description_width": ""
          }
        },
        "5aa3dbd81ddf474b8a5317ed564e8b86": {
          "model_module": "@jupyter-widgets/base",
          "model_name": "LayoutModel",
          "model_module_version": "1.2.0",
          "state": {
            "_model_module": "@jupyter-widgets/base",
            "_model_module_version": "1.2.0",
            "_model_name": "LayoutModel",
            "_view_count": null,
            "_view_module": "@jupyter-widgets/base",
            "_view_module_version": "1.2.0",
            "_view_name": "LayoutView",
            "align_content": null,
            "align_items": null,
            "align_self": null,
            "border": null,
            "bottom": null,
            "display": null,
            "flex": null,
            "flex_flow": null,
            "grid_area": null,
            "grid_auto_columns": null,
            "grid_auto_flow": null,
            "grid_auto_rows": null,
            "grid_column": null,
            "grid_gap": null,
            "grid_row": null,
            "grid_template_areas": null,
            "grid_template_columns": null,
            "grid_template_rows": null,
            "height": null,
            "justify_content": null,
            "justify_items": null,
            "left": null,
            "margin": null,
            "max_height": null,
            "max_width": null,
            "min_height": null,
            "min_width": null,
            "object_fit": null,
            "object_position": null,
            "order": null,
            "overflow": null,
            "overflow_x": null,
            "overflow_y": null,
            "padding": null,
            "right": null,
            "top": null,
            "visibility": null,
            "width": null
          }
        },
        "c1b7f8afaa7a44b2ae076eaeeee78a6e": {
          "model_module": "@jupyter-widgets/controls",
          "model_name": "DescriptionStyleModel",
          "model_module_version": "1.5.0",
          "state": {
            "_model_module": "@jupyter-widgets/controls",
            "_model_module_version": "1.5.0",
            "_model_name": "DescriptionStyleModel",
            "_view_count": null,
            "_view_module": "@jupyter-widgets/base",
            "_view_module_version": "1.2.0",
            "_view_name": "StyleView",
            "description_width": ""
          }
        },
        "750e11b71be5458cbcd01abd8c43a738": {
          "model_module": "@jupyter-widgets/base",
          "model_name": "LayoutModel",
          "model_module_version": "1.2.0",
          "state": {
            "_model_module": "@jupyter-widgets/base",
            "_model_module_version": "1.2.0",
            "_model_name": "LayoutModel",
            "_view_count": null,
            "_view_module": "@jupyter-widgets/base",
            "_view_module_version": "1.2.0",
            "_view_name": "LayoutView",
            "align_content": null,
            "align_items": null,
            "align_self": null,
            "border": null,
            "bottom": null,
            "display": null,
            "flex": null,
            "flex_flow": null,
            "grid_area": null,
            "grid_auto_columns": null,
            "grid_auto_flow": null,
            "grid_auto_rows": null,
            "grid_column": null,
            "grid_gap": null,
            "grid_row": null,
            "grid_template_areas": null,
            "grid_template_columns": null,
            "grid_template_rows": null,
            "height": null,
            "justify_content": null,
            "justify_items": null,
            "left": null,
            "margin": null,
            "max_height": null,
            "max_width": null,
            "min_height": null,
            "min_width": null,
            "object_fit": null,
            "object_position": null,
            "order": null,
            "overflow": null,
            "overflow_x": null,
            "overflow_y": null,
            "padding": null,
            "right": null,
            "top": null,
            "visibility": null,
            "width": null
          }
        },
        "c294abac8a094d569ae5aa694f5cb224": {
          "model_module": "@jupyter-widgets/controls",
          "model_name": "DescriptionStyleModel",
          "model_module_version": "1.5.0",
          "state": {
            "_model_module": "@jupyter-widgets/controls",
            "_model_module_version": "1.5.0",
            "_model_name": "DescriptionStyleModel",
            "_view_count": null,
            "_view_module": "@jupyter-widgets/base",
            "_view_module_version": "1.2.0",
            "_view_name": "StyleView",
            "description_width": ""
          }
        },
        "8701c5d3544f4d1f913a2daa0716e607": {
          "model_module": "@jupyter-widgets/base",
          "model_name": "LayoutModel",
          "model_module_version": "1.2.0",
          "state": {
            "_model_module": "@jupyter-widgets/base",
            "_model_module_version": "1.2.0",
            "_model_name": "LayoutModel",
            "_view_count": null,
            "_view_module": "@jupyter-widgets/base",
            "_view_module_version": "1.2.0",
            "_view_name": "LayoutView",
            "align_content": null,
            "align_items": null,
            "align_self": null,
            "border": null,
            "bottom": null,
            "display": null,
            "flex": null,
            "flex_flow": null,
            "grid_area": null,
            "grid_auto_columns": null,
            "grid_auto_flow": null,
            "grid_auto_rows": null,
            "grid_column": null,
            "grid_gap": null,
            "grid_row": null,
            "grid_template_areas": null,
            "grid_template_columns": null,
            "grid_template_rows": null,
            "height": null,
            "justify_content": null,
            "justify_items": null,
            "left": null,
            "margin": null,
            "max_height": null,
            "max_width": null,
            "min_height": null,
            "min_width": null,
            "object_fit": null,
            "object_position": null,
            "order": null,
            "overflow": null,
            "overflow_x": null,
            "overflow_y": null,
            "padding": null,
            "right": null,
            "top": null,
            "visibility": null,
            "width": null
          }
        },
        "d630b478e71a47bb9761bf02d17de46d": {
          "model_module": "@jupyter-widgets/controls",
          "model_name": "ButtonStyleModel",
          "model_module_version": "1.5.0",
          "state": {
            "_model_module": "@jupyter-widgets/controls",
            "_model_module_version": "1.5.0",
            "_model_name": "ButtonStyleModel",
            "_view_count": null,
            "_view_module": "@jupyter-widgets/base",
            "_view_module_version": "1.2.0",
            "_view_name": "StyleView",
            "button_color": null,
            "font_weight": ""
          }
        },
        "8badb33655834dffa7f24686e01b28bf": {
          "model_module": "@jupyter-widgets/base",
          "model_name": "LayoutModel",
          "model_module_version": "1.2.0",
          "state": {
            "_model_module": "@jupyter-widgets/base",
            "_model_module_version": "1.2.0",
            "_model_name": "LayoutModel",
            "_view_count": null,
            "_view_module": "@jupyter-widgets/base",
            "_view_module_version": "1.2.0",
            "_view_name": "LayoutView",
            "align_content": null,
            "align_items": null,
            "align_self": null,
            "border": null,
            "bottom": null,
            "display": null,
            "flex": null,
            "flex_flow": null,
            "grid_area": null,
            "grid_auto_columns": null,
            "grid_auto_flow": null,
            "grid_auto_rows": null,
            "grid_column": null,
            "grid_gap": null,
            "grid_row": null,
            "grid_template_areas": null,
            "grid_template_columns": null,
            "grid_template_rows": null,
            "height": null,
            "justify_content": null,
            "justify_items": null,
            "left": null,
            "margin": null,
            "max_height": null,
            "max_width": null,
            "min_height": null,
            "min_width": null,
            "object_fit": null,
            "object_position": null,
            "order": null,
            "overflow": null,
            "overflow_x": null,
            "overflow_y": null,
            "padding": null,
            "right": null,
            "top": null,
            "visibility": null,
            "width": null
          }
        },
        "77acda9f57994e7abbbea102353e50f3": {
          "model_module": "@jupyter-widgets/controls",
          "model_name": "DescriptionStyleModel",
          "model_module_version": "1.5.0",
          "state": {
            "_model_module": "@jupyter-widgets/controls",
            "_model_module_version": "1.5.0",
            "_model_name": "DescriptionStyleModel",
            "_view_count": null,
            "_view_module": "@jupyter-widgets/base",
            "_view_module_version": "1.2.0",
            "_view_name": "StyleView",
            "description_width": ""
          }
        },
        "d9a218a0aba4410d97dc96daf74a2385": {
          "model_module": "@jupyter-widgets/controls",
          "model_name": "LabelModel",
          "model_module_version": "1.5.0",
          "state": {
            "_dom_classes": [],
            "_model_module": "@jupyter-widgets/controls",
            "_model_module_version": "1.5.0",
            "_model_name": "LabelModel",
            "_view_count": null,
            "_view_module": "@jupyter-widgets/controls",
            "_view_module_version": "1.5.0",
            "_view_name": "LabelView",
            "description": "",
            "description_tooltip": null,
            "layout": "IPY_MODEL_bc53278c000e4129b58dfbeb124d6389",
            "placeholder": "​",
            "style": "IPY_MODEL_2103191a3f05463fbfbcb26666141ad4",
            "value": "Connecting..."
          }
        },
        "bc53278c000e4129b58dfbeb124d6389": {
          "model_module": "@jupyter-widgets/base",
          "model_name": "LayoutModel",
          "model_module_version": "1.2.0",
          "state": {
            "_model_module": "@jupyter-widgets/base",
            "_model_module_version": "1.2.0",
            "_model_name": "LayoutModel",
            "_view_count": null,
            "_view_module": "@jupyter-widgets/base",
            "_view_module_version": "1.2.0",
            "_view_name": "LayoutView",
            "align_content": null,
            "align_items": null,
            "align_self": null,
            "border": null,
            "bottom": null,
            "display": null,
            "flex": null,
            "flex_flow": null,
            "grid_area": null,
            "grid_auto_columns": null,
            "grid_auto_flow": null,
            "grid_auto_rows": null,
            "grid_column": null,
            "grid_gap": null,
            "grid_row": null,
            "grid_template_areas": null,
            "grid_template_columns": null,
            "grid_template_rows": null,
            "height": null,
            "justify_content": null,
            "justify_items": null,
            "left": null,
            "margin": null,
            "max_height": null,
            "max_width": null,
            "min_height": null,
            "min_width": null,
            "object_fit": null,
            "object_position": null,
            "order": null,
            "overflow": null,
            "overflow_x": null,
            "overflow_y": null,
            "padding": null,
            "right": null,
            "top": null,
            "visibility": null,
            "width": null
          }
        },
        "2103191a3f05463fbfbcb26666141ad4": {
          "model_module": "@jupyter-widgets/controls",
          "model_name": "DescriptionStyleModel",
          "model_module_version": "1.5.0",
          "state": {
            "_model_module": "@jupyter-widgets/controls",
            "_model_module_version": "1.5.0",
            "_model_name": "DescriptionStyleModel",
            "_view_count": null,
            "_view_module": "@jupyter-widgets/base",
            "_view_module_version": "1.2.0",
            "_view_name": "StyleView",
            "description_width": ""
          }
        }
      }
    }
  },
  "cells": [
    {
      "cell_type": "markdown",
      "metadata": {
        "id": "view-in-github",
        "colab_type": "text"
      },
      "source": [
        "<a href=\"https://colab.research.google.com/github/liangli217/LLM_learning/blob/main/First_agent_attempt.ipynb\" target=\"_parent\"><img src=\"https://colab.research.google.com/assets/colab-badge.svg\" alt=\"Open In Colab\"/></a>"
      ]
    },
    {
      "cell_type": "code",
      "source": [
        "! pip install smolagents"
      ],
      "metadata": {
        "colab": {
          "base_uri": "https://localhost:8080/"
        },
        "id": "LsO8XbcnYqbo",
        "outputId": "74897c5f-41f2-415e-b4f4-86607aacd86a"
      },
      "execution_count": null,
      "outputs": [
        {
          "output_type": "stream",
          "name": "stdout",
          "text": [
            "Collecting smolagents\n",
            "  Downloading smolagents-1.14.0-py3-none-any.whl.metadata (15 kB)\n",
            "Requirement already satisfied: huggingface-hub>=0.28.0 in /usr/local/lib/python3.11/dist-packages (from smolagents) (0.30.2)\n",
            "Requirement already satisfied: requests>=2.32.3 in /usr/local/lib/python3.11/dist-packages (from smolagents) (2.32.3)\n",
            "Requirement already satisfied: rich>=13.9.4 in /usr/local/lib/python3.11/dist-packages (from smolagents) (13.9.4)\n",
            "Requirement already satisfied: jinja2>=3.1.4 in /usr/local/lib/python3.11/dist-packages (from smolagents) (3.1.6)\n",
            "Requirement already satisfied: pillow>=11.0.0 in /usr/local/lib/python3.11/dist-packages (from smolagents) (11.2.1)\n",
            "Collecting markdownify>=0.14.1 (from smolagents)\n",
            "  Downloading markdownify-1.1.0-py3-none-any.whl.metadata (9.1 kB)\n",
            "Collecting duckduckgo-search>=6.3.7 (from smolagents)\n",
            "  Downloading duckduckgo_search-8.0.1-py3-none-any.whl.metadata (16 kB)\n",
            "Collecting python-dotenv (from smolagents)\n",
            "  Downloading python_dotenv-1.1.0-py3-none-any.whl.metadata (24 kB)\n",
            "Requirement already satisfied: click>=8.1.8 in /usr/local/lib/python3.11/dist-packages (from duckduckgo-search>=6.3.7->smolagents) (8.1.8)\n",
            "Collecting primp>=0.15.0 (from duckduckgo-search>=6.3.7->smolagents)\n",
            "  Downloading primp-0.15.0-cp38-abi3-manylinux_2_17_x86_64.manylinux2014_x86_64.whl.metadata (13 kB)\n",
            "Requirement already satisfied: lxml>=5.3.0 in /usr/local/lib/python3.11/dist-packages (from duckduckgo-search>=6.3.7->smolagents) (5.4.0)\n",
            "Requirement already satisfied: filelock in /usr/local/lib/python3.11/dist-packages (from huggingface-hub>=0.28.0->smolagents) (3.18.0)\n",
            "Requirement already satisfied: fsspec>=2023.5.0 in /usr/local/lib/python3.11/dist-packages (from huggingface-hub>=0.28.0->smolagents) (2025.3.2)\n",
            "Requirement already satisfied: packaging>=20.9 in /usr/local/lib/python3.11/dist-packages (from huggingface-hub>=0.28.0->smolagents) (24.2)\n",
            "Requirement already satisfied: pyyaml>=5.1 in /usr/local/lib/python3.11/dist-packages (from huggingface-hub>=0.28.0->smolagents) (6.0.2)\n",
            "Requirement already satisfied: tqdm>=4.42.1 in /usr/local/lib/python3.11/dist-packages (from huggingface-hub>=0.28.0->smolagents) (4.67.1)\n",
            "Requirement already satisfied: typing-extensions>=3.7.4.3 in /usr/local/lib/python3.11/dist-packages (from huggingface-hub>=0.28.0->smolagents) (4.13.2)\n",
            "Requirement already satisfied: MarkupSafe>=2.0 in /usr/local/lib/python3.11/dist-packages (from jinja2>=3.1.4->smolagents) (3.0.2)\n",
            "Requirement already satisfied: beautifulsoup4<5,>=4.9 in /usr/local/lib/python3.11/dist-packages (from markdownify>=0.14.1->smolagents) (4.13.4)\n",
            "Requirement already satisfied: six<2,>=1.15 in /usr/local/lib/python3.11/dist-packages (from markdownify>=0.14.1->smolagents) (1.17.0)\n",
            "Requirement already satisfied: charset-normalizer<4,>=2 in /usr/local/lib/python3.11/dist-packages (from requests>=2.32.3->smolagents) (3.4.1)\n",
            "Requirement already satisfied: idna<4,>=2.5 in /usr/local/lib/python3.11/dist-packages (from requests>=2.32.3->smolagents) (3.10)\n",
            "Requirement already satisfied: urllib3<3,>=1.21.1 in /usr/local/lib/python3.11/dist-packages (from requests>=2.32.3->smolagents) (2.4.0)\n",
            "Requirement already satisfied: certifi>=2017.4.17 in /usr/local/lib/python3.11/dist-packages (from requests>=2.32.3->smolagents) (2025.1.31)\n",
            "Requirement already satisfied: markdown-it-py>=2.2.0 in /usr/local/lib/python3.11/dist-packages (from rich>=13.9.4->smolagents) (3.0.0)\n",
            "Requirement already satisfied: pygments<3.0.0,>=2.13.0 in /usr/local/lib/python3.11/dist-packages (from rich>=13.9.4->smolagents) (2.19.1)\n",
            "Requirement already satisfied: soupsieve>1.2 in /usr/local/lib/python3.11/dist-packages (from beautifulsoup4<5,>=4.9->markdownify>=0.14.1->smolagents) (2.7)\n",
            "Requirement already satisfied: mdurl~=0.1 in /usr/local/lib/python3.11/dist-packages (from markdown-it-py>=2.2.0->rich>=13.9.4->smolagents) (0.1.2)\n",
            "Downloading smolagents-1.14.0-py3-none-any.whl (114 kB)\n",
            "\u001b[2K   \u001b[90m━━━━━━━━━━━━━━━━━━━━━━━━━━━━━━━━━━━━━━━━\u001b[0m \u001b[32m114.5/114.5 kB\u001b[0m \u001b[31m5.5 MB/s\u001b[0m eta \u001b[36m0:00:00\u001b[0m\n",
            "\u001b[?25hDownloading duckduckgo_search-8.0.1-py3-none-any.whl (18 kB)\n",
            "Downloading markdownify-1.1.0-py3-none-any.whl (13 kB)\n",
            "Downloading python_dotenv-1.1.0-py3-none-any.whl (20 kB)\n",
            "Downloading primp-0.15.0-cp38-abi3-manylinux_2_17_x86_64.manylinux2014_x86_64.whl (3.3 MB)\n",
            "\u001b[2K   \u001b[90m━━━━━━━━━━━━━━━━━━━━━━━━━━━━━━━━━━━━━━━━\u001b[0m \u001b[32m3.3/3.3 MB\u001b[0m \u001b[31m22.8 MB/s\u001b[0m eta \u001b[36m0:00:00\u001b[0m\n",
            "\u001b[?25hInstalling collected packages: python-dotenv, primp, markdownify, duckduckgo-search, smolagents\n",
            "Successfully installed duckduckgo-search-8.0.1 markdownify-1.1.0 primp-0.15.0 python-dotenv-1.1.0 smolagents-1.14.0\n"
          ]
        }
      ]
    },
    {
      "cell_type": "code",
      "source": [
        "from smolagents import CodeAgent, DuckDuckGoSearchTool, FinalAnswerTool, HfApiModel, load_tool, tool\n",
        "import datetime\n",
        "import requests"
      ],
      "metadata": {
        "id": "WOxljDwlYpn9"
      },
      "execution_count": null,
      "outputs": []
    },
    {
      "cell_type": "code",
      "source": [
        "from huggingface_hub import notebook_login\n",
        "\n",
        "notebook_login()"
      ],
      "metadata": {
        "colab": {
          "base_uri": "https://localhost:8080/",
          "height": 52,
          "referenced_widgets": [
            "a270c89d928f4ae98c7df36ec93008ee",
            "00f76725ed1343f19af3c7081325e5e5",
            "ce0cd9ccb22948f68c0e51e240b3811f",
            "5d658e4047ba4e6c8f405772223f866a",
            "cc64731eddc14e63beef68441b688af5",
            "05b4a69bd9b34f888c6f8870fd9eb265",
            "9d82c0a0e9d8459799a0f3fda0a9e22f",
            "fb0440b26fbc499eacc878fea569d668",
            "898eb68b849a4565a032c93c5b9226aa",
            "5aa3dbd81ddf474b8a5317ed564e8b86",
            "c1b7f8afaa7a44b2ae076eaeeee78a6e",
            "750e11b71be5458cbcd01abd8c43a738",
            "c294abac8a094d569ae5aa694f5cb224",
            "8701c5d3544f4d1f913a2daa0716e607",
            "d630b478e71a47bb9761bf02d17de46d",
            "8badb33655834dffa7f24686e01b28bf",
            "77acda9f57994e7abbbea102353e50f3",
            "d9a218a0aba4410d97dc96daf74a2385",
            "bc53278c000e4129b58dfbeb124d6389",
            "2103191a3f05463fbfbcb26666141ad4"
          ]
        },
        "id": "0Iu7UxuCfDDe",
        "outputId": "b8facacd-e4c0-4b30-8499-6a5e3a58604b"
      },
      "execution_count": 17,
      "outputs": [
        {
          "output_type": "display_data",
          "data": {
            "text/plain": [
              "VBox(children=(HTML(value='<center> <img\\nsrc=https://huggingface.co/front/assets/huggingface_logo-noborder.sv…"
            ],
            "application/vnd.jupyter.widget-view+json": {
              "version_major": 2,
              "version_minor": 0,
              "model_id": "a270c89d928f4ae98c7df36ec93008ee"
            }
          },
          "metadata": {}
        },
        {
          "output_type": "stream",
          "name": "stderr",
          "text": [
            "Note: Environment variable`HF_TOKEN` is set and is the current active token independently from the token you've just configured.\n",
            "WARNING:huggingface_hub._login:Note: Environment variable`HF_TOKEN` is set and is the current active token independently from the token you've just configured.\n"
          ]
        }
      ]
    },
    {
      "cell_type": "code",
      "source": [
        "model = HfApiModel(\n",
        "max_tokens=2096,\n",
        "temperature=0.5,\n",
        "# model_id='Qwen/Qwen2.5-Coder-32B-Instruct',# it is possible that this model may be overloaded,\n",
        "model_id =\"meta-llama/llama-3.3-70B-Instruct\",\n",
        "custom_role_conversions=None,\n",
        ")\n"
      ],
      "metadata": {
        "id": "teQO53-dZZRH"
      },
      "execution_count": 18,
      "outputs": []
    },
    {
      "cell_type": "code",
      "source": [
        "from smolagents import CodeAgent, DuckDuckGoSearchTool, HfApiModel\n",
        "\n",
        "agent = CodeAgent(tools=[DuckDuckGoSearchTool()], model=model, additional_authorized_imports= ['requests'])\n",
        "\n"
      ],
      "metadata": {
        "id": "5ssIJLRHZcnE"
      },
      "execution_count": 19,
      "outputs": []
    },
    {
      "cell_type": "code",
      "source": [
        "agent.run(\"what year should I have bought bitcoin to invest $1000 and now I have $100000 dollars?\")"
      ],
      "metadata": {
        "colab": {
          "base_uri": "https://localhost:8080/",
          "height": 1000
        },
        "id": "2BZ-2LgSHCCx",
        "outputId": "3bd41d1e-1843-421e-8e74-7d7b1a02d321"
      },
      "execution_count": 20,
      "outputs": [
        {
          "output_type": "display_data",
          "data": {
            "text/plain": [
              "\u001b[38;2;212;183;2m╭─\u001b[0m\u001b[38;2;212;183;2m───────────────────────────────────────────────────\u001b[0m\u001b[38;2;212;183;2m \u001b[0m\u001b[1;38;2;212;183;2mNew run\u001b[0m\u001b[38;2;212;183;2m \u001b[0m\u001b[38;2;212;183;2m───────────────────────────────────────────────────\u001b[0m\u001b[38;2;212;183;2m─╮\u001b[0m\n",
              "\u001b[38;2;212;183;2m│\u001b[0m                                                                                                                 \u001b[38;2;212;183;2m│\u001b[0m\n",
              "\u001b[38;2;212;183;2m│\u001b[0m \u001b[1mwhat year should I have bought bitcoin to invest $1000 and now I have $100000 dollars?\u001b[0m                          \u001b[38;2;212;183;2m│\u001b[0m\n",
              "\u001b[38;2;212;183;2m│\u001b[0m                                                                                                                 \u001b[38;2;212;183;2m│\u001b[0m\n",
              "\u001b[38;2;212;183;2m╰─\u001b[0m\u001b[38;2;212;183;2m HfApiModel - meta-llama/llama-3.3-70B-Instruct \u001b[0m\u001b[38;2;212;183;2m───────────────────────────────────────────────────────────────\u001b[0m\u001b[38;2;212;183;2m─╯\u001b[0m\n"
            ],
            "text/html": [
              "<pre style=\"white-space:pre;overflow-x:auto;line-height:normal;font-family:Menlo,'DejaVu Sans Mono',consolas,'Courier New',monospace\"><span style=\"color: #d4b702; text-decoration-color: #d4b702\">╭──────────────────────────────────────────────────── </span><span style=\"color: #d4b702; text-decoration-color: #d4b702; font-weight: bold\">New run</span><span style=\"color: #d4b702; text-decoration-color: #d4b702\"> ────────────────────────────────────────────────────╮</span>\n",
              "<span style=\"color: #d4b702; text-decoration-color: #d4b702\">│</span>                                                                                                                 <span style=\"color: #d4b702; text-decoration-color: #d4b702\">│</span>\n",
              "<span style=\"color: #d4b702; text-decoration-color: #d4b702\">│</span> <span style=\"font-weight: bold\">what year should I have bought bitcoin to invest $1000 and now I have $100000 dollars?</span>                          <span style=\"color: #d4b702; text-decoration-color: #d4b702\">│</span>\n",
              "<span style=\"color: #d4b702; text-decoration-color: #d4b702\">│</span>                                                                                                                 <span style=\"color: #d4b702; text-decoration-color: #d4b702\">│</span>\n",
              "<span style=\"color: #d4b702; text-decoration-color: #d4b702\">╰─ HfApiModel - meta-llama/llama-3.3-70B-Instruct ────────────────────────────────────────────────────────────────╯</span>\n",
              "</pre>\n"
            ]
          },
          "metadata": {}
        },
        {
          "output_type": "display_data",
          "data": {
            "text/plain": [
              "\u001b[38;2;212;183;2m━━━━━━━━━━━━━━━━━━━━━━━━━━━━━━━━━━━━━━━━━━━━━━━━━━━━━ \u001b[0m\u001b[1mStep \u001b[0m\u001b[1;36m1\u001b[0m\u001b[38;2;212;183;2m ━━━━━━━━━━━━━━━━━━━━━━━━━━━━━━━━━━━━━━━━━━━━━━━━━━━━━━\u001b[0m\n"
            ],
            "text/html": [
              "<pre style=\"white-space:pre;overflow-x:auto;line-height:normal;font-family:Menlo,'DejaVu Sans Mono',consolas,'Courier New',monospace\"><span style=\"color: #d4b702; text-decoration-color: #d4b702\">━━━━━━━━━━━━━━━━━━━━━━━━━━━━━━━━━━━━━━━━━━━━━━━━━━━━━ </span><span style=\"font-weight: bold\">Step </span><span style=\"color: #008080; text-decoration-color: #008080; font-weight: bold\">1</span><span style=\"color: #d4b702; text-decoration-color: #d4b702\"> ━━━━━━━━━━━━━━━━━━━━━━━━━━━━━━━━━━━━━━━━━━━━━━━━━━━━━━</span>\n",
              "</pre>\n"
            ]
          },
          "metadata": {}
        },
        {
          "output_type": "display_data",
          "data": {
            "text/plain": [
              " ─ \u001b[1mExecuting parsed code:\u001b[0m ──────────────────────────────────────────────────────────────────────────────────────── \n",
              "  \u001b[38;2;248;248;242;48;2;39;40;34minitial_investment\u001b[0m\u001b[38;2;248;248;242;48;2;39;40;34m \u001b[0m\u001b[38;2;255;70;137;48;2;39;40;34m=\u001b[0m\u001b[38;2;248;248;242;48;2;39;40;34m \u001b[0m\u001b[38;2;174;129;255;48;2;39;40;34m1000\u001b[0m\u001b[48;2;39;40;34m                                                                                      \u001b[0m  \n",
              "  \u001b[38;2;248;248;242;48;2;39;40;34mfinal_value\u001b[0m\u001b[38;2;248;248;242;48;2;39;40;34m \u001b[0m\u001b[38;2;255;70;137;48;2;39;40;34m=\u001b[0m\u001b[38;2;248;248;242;48;2;39;40;34m \u001b[0m\u001b[38;2;174;129;255;48;2;39;40;34m100000\u001b[0m\u001b[48;2;39;40;34m                                                                                           \u001b[0m  \n",
              "  \u001b[38;2;248;248;242;48;2;39;40;34mmultiplier\u001b[0m\u001b[38;2;248;248;242;48;2;39;40;34m \u001b[0m\u001b[38;2;255;70;137;48;2;39;40;34m=\u001b[0m\u001b[38;2;248;248;242;48;2;39;40;34m \u001b[0m\u001b[38;2;248;248;242;48;2;39;40;34mfinal_value\u001b[0m\u001b[38;2;248;248;242;48;2;39;40;34m \u001b[0m\u001b[38;2;255;70;137;48;2;39;40;34m/\u001b[0m\u001b[38;2;248;248;242;48;2;39;40;34m \u001b[0m\u001b[38;2;248;248;242;48;2;39;40;34minitial_investment\u001b[0m\u001b[48;2;39;40;34m                                                                  \u001b[0m  \n",
              "  \u001b[38;2;248;248;242;48;2;39;40;34mprint\u001b[0m\u001b[38;2;248;248;242;48;2;39;40;34m(\u001b[0m\u001b[38;2;230;219;116;48;2;39;40;34m\"\u001b[0m\u001b[38;2;230;219;116;48;2;39;40;34mMultiplier:\u001b[0m\u001b[38;2;230;219;116;48;2;39;40;34m\"\u001b[0m\u001b[38;2;248;248;242;48;2;39;40;34m,\u001b[0m\u001b[38;2;248;248;242;48;2;39;40;34m \u001b[0m\u001b[38;2;248;248;242;48;2;39;40;34mmultiplier\u001b[0m\u001b[38;2;248;248;242;48;2;39;40;34m)\u001b[0m\u001b[48;2;39;40;34m                                                                               \u001b[0m  \n",
              " ───────────────────────────────────────────────────────────────────────────────────────────────────────────────── \n"
            ],
            "text/html": [
              "<pre style=\"white-space:pre;overflow-x:auto;line-height:normal;font-family:Menlo,'DejaVu Sans Mono',consolas,'Courier New',monospace\"> ─ <span style=\"font-weight: bold\">Executing parsed code:</span> ──────────────────────────────────────────────────────────────────────────────────────── \n",
              "  <span style=\"color: #f8f8f2; text-decoration-color: #f8f8f2; background-color: #272822\">initial_investment </span><span style=\"color: #ff4689; text-decoration-color: #ff4689; background-color: #272822\">=</span><span style=\"color: #f8f8f2; text-decoration-color: #f8f8f2; background-color: #272822\"> </span><span style=\"color: #ae81ff; text-decoration-color: #ae81ff; background-color: #272822\">1000</span><span style=\"background-color: #272822\">                                                                                      </span>  \n",
              "  <span style=\"color: #f8f8f2; text-decoration-color: #f8f8f2; background-color: #272822\">final_value </span><span style=\"color: #ff4689; text-decoration-color: #ff4689; background-color: #272822\">=</span><span style=\"color: #f8f8f2; text-decoration-color: #f8f8f2; background-color: #272822\"> </span><span style=\"color: #ae81ff; text-decoration-color: #ae81ff; background-color: #272822\">100000</span><span style=\"background-color: #272822\">                                                                                           </span>  \n",
              "  <span style=\"color: #f8f8f2; text-decoration-color: #f8f8f2; background-color: #272822\">multiplier </span><span style=\"color: #ff4689; text-decoration-color: #ff4689; background-color: #272822\">=</span><span style=\"color: #f8f8f2; text-decoration-color: #f8f8f2; background-color: #272822\"> final_value </span><span style=\"color: #ff4689; text-decoration-color: #ff4689; background-color: #272822\">/</span><span style=\"color: #f8f8f2; text-decoration-color: #f8f8f2; background-color: #272822\"> initial_investment</span><span style=\"background-color: #272822\">                                                                  </span>  \n",
              "  <span style=\"color: #f8f8f2; text-decoration-color: #f8f8f2; background-color: #272822\">print(</span><span style=\"color: #e6db74; text-decoration-color: #e6db74; background-color: #272822\">\"Multiplier:\"</span><span style=\"color: #f8f8f2; text-decoration-color: #f8f8f2; background-color: #272822\">, multiplier)</span><span style=\"background-color: #272822\">                                                                               </span>  \n",
              " ───────────────────────────────────────────────────────────────────────────────────────────────────────────────── \n",
              "</pre>\n"
            ]
          },
          "metadata": {}
        },
        {
          "output_type": "display_data",
          "data": {
            "text/plain": [
              "\u001b[1mExecution logs:\u001b[0m\n",
              "Multiplier: 100.0\n",
              "\n",
              "Out: None\n"
            ],
            "text/html": [
              "<pre style=\"white-space:pre;overflow-x:auto;line-height:normal;font-family:Menlo,'DejaVu Sans Mono',consolas,'Courier New',monospace\"><span style=\"font-weight: bold\">Execution logs:</span>\n",
              "Multiplier: 100.0\n",
              "\n",
              "Out: None\n",
              "</pre>\n"
            ]
          },
          "metadata": {}
        },
        {
          "output_type": "display_data",
          "data": {
            "text/plain": [
              "\u001b[2m[Step 1: Duration 0.20 seconds| Input tokens: 2,044 | Output tokens: 113]\u001b[0m\n"
            ],
            "text/html": [
              "<pre style=\"white-space:pre;overflow-x:auto;line-height:normal;font-family:Menlo,'DejaVu Sans Mono',consolas,'Courier New',monospace\"><span style=\"color: #7f7f7f; text-decoration-color: #7f7f7f\">[Step 1: Duration 0.20 seconds| Input tokens: 2,044 | Output tokens: 113]</span>\n",
              "</pre>\n"
            ]
          },
          "metadata": {}
        },
        {
          "output_type": "display_data",
          "data": {
            "text/plain": [
              "\u001b[38;2;212;183;2m━━━━━━━━━━━━━━━━━━━━━━━━━━━━━━━━━━━━━━━━━━━━━━━━━━━━━ \u001b[0m\u001b[1mStep \u001b[0m\u001b[1;36m2\u001b[0m\u001b[38;2;212;183;2m ━━━━━━━━━━━━━━━━━━━━━━━━━━━━━━━━━━━━━━━━━━━━━━━━━━━━━━\u001b[0m\n"
            ],
            "text/html": [
              "<pre style=\"white-space:pre;overflow-x:auto;line-height:normal;font-family:Menlo,'DejaVu Sans Mono',consolas,'Courier New',monospace\"><span style=\"color: #d4b702; text-decoration-color: #d4b702\">━━━━━━━━━━━━━━━━━━━━━━━━━━━━━━━━━━━━━━━━━━━━━━━━━━━━━ </span><span style=\"font-weight: bold\">Step </span><span style=\"color: #008080; text-decoration-color: #008080; font-weight: bold\">2</span><span style=\"color: #d4b702; text-decoration-color: #d4b702\"> ━━━━━━━━━━━━━━━━━━━━━━━━━━━━━━━━━━━━━━━━━━━━━━━━━━━━━━</span>\n",
              "</pre>\n"
            ]
          },
          "metadata": {}
        },
        {
          "output_type": "display_data",
          "data": {
            "text/plain": [
              " ─ \u001b[1mExecuting parsed code:\u001b[0m ──────────────────────────────────────────────────────────────────────────────────────── \n",
              "  \u001b[38;2;248;248;242;48;2;39;40;34mquery\u001b[0m\u001b[38;2;248;248;242;48;2;39;40;34m \u001b[0m\u001b[38;2;255;70;137;48;2;39;40;34m=\u001b[0m\u001b[38;2;248;248;242;48;2;39;40;34m \u001b[0m\u001b[38;2;230;219;116;48;2;39;40;34m\"\u001b[0m\u001b[38;2;230;219;116;48;2;39;40;34mhistorical bitcoin price\u001b[0m\u001b[38;2;230;219;116;48;2;39;40;34m\"\u001b[0m\u001b[48;2;39;40;34m                                                                             \u001b[0m  \n",
              "  \u001b[38;2;248;248;242;48;2;39;40;34mresult\u001b[0m\u001b[38;2;248;248;242;48;2;39;40;34m \u001b[0m\u001b[38;2;255;70;137;48;2;39;40;34m=\u001b[0m\u001b[38;2;248;248;242;48;2;39;40;34m \u001b[0m\u001b[38;2;248;248;242;48;2;39;40;34mweb_search\u001b[0m\u001b[38;2;248;248;242;48;2;39;40;34m(\u001b[0m\u001b[38;2;248;248;242;48;2;39;40;34mquery\u001b[0m\u001b[38;2;248;248;242;48;2;39;40;34m)\u001b[0m\u001b[48;2;39;40;34m                                                                                     \u001b[0m  \n",
              "  \u001b[38;2;248;248;242;48;2;39;40;34mprint\u001b[0m\u001b[38;2;248;248;242;48;2;39;40;34m(\u001b[0m\u001b[38;2;248;248;242;48;2;39;40;34mresult\u001b[0m\u001b[38;2;248;248;242;48;2;39;40;34m)\u001b[0m\u001b[48;2;39;40;34m                                                                                                  \u001b[0m  \n",
              " ───────────────────────────────────────────────────────────────────────────────────────────────────────────────── \n"
            ],
            "text/html": [
              "<pre style=\"white-space:pre;overflow-x:auto;line-height:normal;font-family:Menlo,'DejaVu Sans Mono',consolas,'Courier New',monospace\"> ─ <span style=\"font-weight: bold\">Executing parsed code:</span> ──────────────────────────────────────────────────────────────────────────────────────── \n",
              "  <span style=\"color: #f8f8f2; text-decoration-color: #f8f8f2; background-color: #272822\">query </span><span style=\"color: #ff4689; text-decoration-color: #ff4689; background-color: #272822\">=</span><span style=\"color: #f8f8f2; text-decoration-color: #f8f8f2; background-color: #272822\"> </span><span style=\"color: #e6db74; text-decoration-color: #e6db74; background-color: #272822\">\"historical bitcoin price\"</span><span style=\"background-color: #272822\">                                                                             </span>  \n",
              "  <span style=\"color: #f8f8f2; text-decoration-color: #f8f8f2; background-color: #272822\">result </span><span style=\"color: #ff4689; text-decoration-color: #ff4689; background-color: #272822\">=</span><span style=\"color: #f8f8f2; text-decoration-color: #f8f8f2; background-color: #272822\"> web_search(query)</span><span style=\"background-color: #272822\">                                                                                     </span>  \n",
              "  <span style=\"color: #f8f8f2; text-decoration-color: #f8f8f2; background-color: #272822\">print(result)</span><span style=\"background-color: #272822\">                                                                                                  </span>  \n",
              " ───────────────────────────────────────────────────────────────────────────────────────────────────────────────── \n",
              "</pre>\n"
            ]
          },
          "metadata": {}
        },
        {
          "output_type": "display_data",
          "data": {
            "text/plain": [
              "\u001b[1mExecution logs:\u001b[0m\n",
              "## Search Results\n",
              "\n",
              "[Bitcoin USD (BTC-USD) Price History & Historical Data - Yahoo \n",
              "Finance](https://finance.yahoo.com/quote/BTC-USD/history/)\n",
              "Discover historical prices of Bitcoin USD (BTC-USD) on Yahoo Finance. View daily, weekly or monthly formats.\n",
              "\n",
              "[Bitcoin Historical Data - Investing.com](https://www.investing.com/crypto/bitcoin/historical-data)\n",
              "Historical data for the Bitcoin prices - Bitcoin price history viewable in daily, weekly or monthly time intervals.\n",
              "\n",
              "[Bitcoin Price History Chart (2009, 2010 to 2024) - Bitbo Calendar](https://calendar.bitbo.io/price/)\n",
              "Explore the historical price of Bitcoin from its inception in 2009 to 2024. See how Bitcoin evolved from a few \n",
              "cents to thousands of dollars and learn about the major events and milestones that shaped its value.\n",
              "\n",
              "[Bitcoin Price History and Historical Data | \n",
              "CoinMarketCap](https://coinmarketcap.com/currencies/bitcoin/historical-data/)\n",
              "Check the Bitcoin price history from each day since it was listed on CoinMarketCap. Fiat currency selection. BTC \n",
              "closing prices. Daily, weekly and monthly price data. Free download available.\n",
              "\n",
              "[Bitcoin USD (Historical Data) - CoinGecko](https://www.coingecko.com/en/coins/bitcoin/historical_data)\n",
              "Get historical prices of Bitcoin (BTC) in USD.\n",
              "\n",
              "[Bitcoin Price History Chart + Historical Events \n",
              "2009-2025](https://99bitcoins.com/cryptocurrency/bitcoin/historical-price/)\n",
              "Bitcoin's price graph since it began in 2009 until today. Complete with BTC ATH & historical events and how they \n",
              "affected Bitcoin's price.\n",
              "\n",
              "[Bitcoin BTC (BTC-USD) Live Price, News, Chart & Price History - Yahoo \n",
              "...](https://beta.finance.yahoo.com/quote/BTC-USD/)\n",
              "Find the live Bitcoin USD (BTC-USD) price, history, news and other vital information to help with your \n",
              "cryptocurrency trading and investing.\n",
              "\n",
              "[Bitcoin (BTC) Price History & Download Bitcoin Historical Data in CSV \n",
              "...](https://www.bitget.com/price/bitcoin/historical-data)\n",
              "The latest online schedule of Bitcoin (BTC) historical prices, download free historical data in CSV for Bitcoin at \n",
              "daily intervals to facilitate your investment decisions.View daily, weekly, monthly or last 24 hours, last 10 years\n",
              "dataset going back to the time Bitcoin USD shares were issued.\n",
              "\n",
              "[Bitcoin (BTC) Historical Data | CoinCodex](https://coincodex.com/crypto/bitcoin/historical-data/)\n",
              "Historical data for Bitcoin (BTC). Export open, high, low, close and more data for Bitcoin.\n",
              "\n",
              "[Bitcoin (BTC) Historical Prices | CoinLore](https://www.coinlore.com/coin/bitcoin/historical-data)\n",
              "Bitcoin (BTC) Price history, daily, monthly and yearly historical stats, chart, returns, highs/lows, events, market\n",
              "cap and CSV OHLC data.\n",
              "\n",
              "Out: None\n"
            ],
            "text/html": [
              "<pre style=\"white-space:pre;overflow-x:auto;line-height:normal;font-family:Menlo,'DejaVu Sans Mono',consolas,'Courier New',monospace\"><span style=\"font-weight: bold\">Execution logs:</span>\n",
              "## Search Results\n",
              "\n",
              "[Bitcoin USD (BTC-USD) Price History &amp; Historical Data - Yahoo \n",
              "Finance](https://finance.yahoo.com/quote/BTC-USD/history/)\n",
              "Discover historical prices of Bitcoin USD (BTC-USD) on Yahoo Finance. View daily, weekly or monthly formats.\n",
              "\n",
              "[Bitcoin Historical Data - Investing.com](https://www.investing.com/crypto/bitcoin/historical-data)\n",
              "Historical data for the Bitcoin prices - Bitcoin price history viewable in daily, weekly or monthly time intervals.\n",
              "\n",
              "[Bitcoin Price History Chart (2009, 2010 to 2024) - Bitbo Calendar](https://calendar.bitbo.io/price/)\n",
              "Explore the historical price of Bitcoin from its inception in 2009 to 2024. See how Bitcoin evolved from a few \n",
              "cents to thousands of dollars and learn about the major events and milestones that shaped its value.\n",
              "\n",
              "[Bitcoin Price History and Historical Data | \n",
              "CoinMarketCap](https://coinmarketcap.com/currencies/bitcoin/historical-data/)\n",
              "Check the Bitcoin price history from each day since it was listed on CoinMarketCap. Fiat currency selection. BTC \n",
              "closing prices. Daily, weekly and monthly price data. Free download available.\n",
              "\n",
              "[Bitcoin USD (Historical Data) - CoinGecko](https://www.coingecko.com/en/coins/bitcoin/historical_data)\n",
              "Get historical prices of Bitcoin (BTC) in USD.\n",
              "\n",
              "[Bitcoin Price History Chart + Historical Events \n",
              "2009-2025](https://99bitcoins.com/cryptocurrency/bitcoin/historical-price/)\n",
              "Bitcoin's price graph since it began in 2009 until today. Complete with BTC ATH &amp; historical events and how they \n",
              "affected Bitcoin's price.\n",
              "\n",
              "[Bitcoin BTC (BTC-USD) Live Price, News, Chart &amp; Price History - Yahoo \n",
              "...](https://beta.finance.yahoo.com/quote/BTC-USD/)\n",
              "Find the live Bitcoin USD (BTC-USD) price, history, news and other vital information to help with your \n",
              "cryptocurrency trading and investing.\n",
              "\n",
              "[Bitcoin (BTC) Price History &amp; Download Bitcoin Historical Data in CSV \n",
              "...](https://www.bitget.com/price/bitcoin/historical-data)\n",
              "The latest online schedule of Bitcoin (BTC) historical prices, download free historical data in CSV for Bitcoin at \n",
              "daily intervals to facilitate your investment decisions.View daily, weekly, monthly or last 24 hours, last 10 years\n",
              "dataset going back to the time Bitcoin USD shares were issued.\n",
              "\n",
              "[Bitcoin (BTC) Historical Data | CoinCodex](https://coincodex.com/crypto/bitcoin/historical-data/)\n",
              "Historical data for Bitcoin (BTC). Export open, high, low, close and more data for Bitcoin.\n",
              "\n",
              "[Bitcoin (BTC) Historical Prices | CoinLore](https://www.coinlore.com/coin/bitcoin/historical-data)\n",
              "Bitcoin (BTC) Price history, daily, monthly and yearly historical stats, chart, returns, highs/lows, events, market\n",
              "cap and CSV OHLC data.\n",
              "\n",
              "Out: None\n",
              "</pre>\n"
            ]
          },
          "metadata": {}
        },
        {
          "output_type": "display_data",
          "data": {
            "text/plain": [
              "\u001b[2m[Step 2: Duration 0.94 seconds| Input tokens: 4,297 | Output tokens: 199]\u001b[0m\n"
            ],
            "text/html": [
              "<pre style=\"white-space:pre;overflow-x:auto;line-height:normal;font-family:Menlo,'DejaVu Sans Mono',consolas,'Courier New',monospace\"><span style=\"color: #7f7f7f; text-decoration-color: #7f7f7f\">[Step 2: Duration 0.94 seconds| Input tokens: 4,297 | Output tokens: 199]</span>\n",
              "</pre>\n"
            ]
          },
          "metadata": {}
        },
        {
          "output_type": "display_data",
          "data": {
            "text/plain": [
              "\u001b[38;2;212;183;2m━━━━━━━━━━━━━━━━━━━━━━━━━━━━━━━━━━━━━━━━━━━━━━━━━━━━━ \u001b[0m\u001b[1mStep \u001b[0m\u001b[1;36m3\u001b[0m\u001b[38;2;212;183;2m ━━━━━━━━━━━━━━━━━━━━━━━━━━━━━━━━━━━━━━━━━━━━━━━━━━━━━━\u001b[0m\n"
            ],
            "text/html": [
              "<pre style=\"white-space:pre;overflow-x:auto;line-height:normal;font-family:Menlo,'DejaVu Sans Mono',consolas,'Courier New',monospace\"><span style=\"color: #d4b702; text-decoration-color: #d4b702\">━━━━━━━━━━━━━━━━━━━━━━━━━━━━━━━━━━━━━━━━━━━━━━━━━━━━━ </span><span style=\"font-weight: bold\">Step </span><span style=\"color: #008080; text-decoration-color: #008080; font-weight: bold\">3</span><span style=\"color: #d4b702; text-decoration-color: #d4b702\"> ━━━━━━━━━━━━━━━━━━━━━━━━━━━━━━━━━━━━━━━━━━━━━━━━━━━━━━</span>\n",
              "</pre>\n"
            ]
          },
          "metadata": {}
        },
        {
          "output_type": "display_data",
          "data": {
            "text/plain": [
              " ─ \u001b[1mExecuting parsed code:\u001b[0m ──────────────────────────────────────────────────────────────────────────────────────── \n",
              "  \u001b[38;2;248;248;242;48;2;39;40;34mquery\u001b[0m\u001b[38;2;248;248;242;48;2;39;40;34m \u001b[0m\u001b[38;2;255;70;137;48;2;39;40;34m=\u001b[0m\u001b[38;2;248;248;242;48;2;39;40;34m \u001b[0m\u001b[38;2;230;219;116;48;2;39;40;34m\"\u001b[0m\u001b[38;2;230;219;116;48;2;39;40;34mcurrent bitcoin price\u001b[0m\u001b[38;2;230;219;116;48;2;39;40;34m\"\u001b[0m\u001b[48;2;39;40;34m                                                                                \u001b[0m  \n",
              "  \u001b[38;2;248;248;242;48;2;39;40;34mresult\u001b[0m\u001b[38;2;248;248;242;48;2;39;40;34m \u001b[0m\u001b[38;2;255;70;137;48;2;39;40;34m=\u001b[0m\u001b[38;2;248;248;242;48;2;39;40;34m \u001b[0m\u001b[38;2;248;248;242;48;2;39;40;34mweb_search\u001b[0m\u001b[38;2;248;248;242;48;2;39;40;34m(\u001b[0m\u001b[38;2;248;248;242;48;2;39;40;34mquery\u001b[0m\u001b[38;2;248;248;242;48;2;39;40;34m)\u001b[0m\u001b[48;2;39;40;34m                                                                                     \u001b[0m  \n",
              "  \u001b[38;2;248;248;242;48;2;39;40;34mprint\u001b[0m\u001b[38;2;248;248;242;48;2;39;40;34m(\u001b[0m\u001b[38;2;248;248;242;48;2;39;40;34mresult\u001b[0m\u001b[38;2;248;248;242;48;2;39;40;34m)\u001b[0m\u001b[48;2;39;40;34m                                                                                                  \u001b[0m  \n",
              " ───────────────────────────────────────────────────────────────────────────────────────────────────────────────── \n"
            ],
            "text/html": [
              "<pre style=\"white-space:pre;overflow-x:auto;line-height:normal;font-family:Menlo,'DejaVu Sans Mono',consolas,'Courier New',monospace\"> ─ <span style=\"font-weight: bold\">Executing parsed code:</span> ──────────────────────────────────────────────────────────────────────────────────────── \n",
              "  <span style=\"color: #f8f8f2; text-decoration-color: #f8f8f2; background-color: #272822\">query </span><span style=\"color: #ff4689; text-decoration-color: #ff4689; background-color: #272822\">=</span><span style=\"color: #f8f8f2; text-decoration-color: #f8f8f2; background-color: #272822\"> </span><span style=\"color: #e6db74; text-decoration-color: #e6db74; background-color: #272822\">\"current bitcoin price\"</span><span style=\"background-color: #272822\">                                                                                </span>  \n",
              "  <span style=\"color: #f8f8f2; text-decoration-color: #f8f8f2; background-color: #272822\">result </span><span style=\"color: #ff4689; text-decoration-color: #ff4689; background-color: #272822\">=</span><span style=\"color: #f8f8f2; text-decoration-color: #f8f8f2; background-color: #272822\"> web_search(query)</span><span style=\"background-color: #272822\">                                                                                     </span>  \n",
              "  <span style=\"color: #f8f8f2; text-decoration-color: #f8f8f2; background-color: #272822\">print(result)</span><span style=\"background-color: #272822\">                                                                                                  </span>  \n",
              " ───────────────────────────────────────────────────────────────────────────────────────────────────────────────── \n",
              "</pre>\n"
            ]
          },
          "metadata": {}
        },
        {
          "output_type": "display_data",
          "data": {
            "text/plain": [
              "\u001b[1mExecution logs:\u001b[0m\n",
              "## Search Results\n",
              "\n",
              "[Bitcoin price today, BTC to USD live price, marketcap and chart \n",
              "...](https://coinmarketcap.com/currencies/bitcoin/)\n",
              "The live Bitcoin price today is $99,010.03 USD with a 24-hour trading volume of $66,852,801,068.87 USD. We update \n",
              "our BTC to USD price in real-time. Market Cap: ... Mining Bitcoins can be very profitable for miners, depending on \n",
              "the current hash rate and the price of Bitcoin.\n",
              "\n",
              "[Bitcoin (BTC) Price, Real-time Quote & News - Google Finance](https://www.google.com/finance/quote/BTC-usd)\n",
              "Get the latest Bitcoin (BTC / USD) real-time quote, historical performance, charts, and other cryptocurrency \n",
              "information to help you make more informed trading and investment decisions.\n",
              "\n",
              "[Bitcoin USD Price (BTC-USD) - Yahoo Finance](https://finance.yahoo.com/quote/BTC-USD/)\n",
              "Get the latest Bitcoin USD price, news, chart and historical data. See how Bitcoin has performed over the past \n",
              "year, month, week and day, and compare it with other cryptocurrencies.\n",
              "\n",
              "[Bitcoin (BTC) Price | BTC to USD Price and Live Chart - CoinDesk](https://www.coindesk.com/price/bitcoin)\n",
              "Live Bitcoin price movements from all markets and BTC market cap, use our charts and see when there is an \n",
              "opportunity to buy or sell. BTC $93,835.84-.50 % ETH $1,792.76-.58 % USDT\n",
              "\n",
              "[Bitcoin Price | BTC to USD Converter, Chart and News - Binance](https://www.binance.com/en/price/bitcoin)\n",
              "See the current price of Bitcoin in USD and other currencies, as well as historical data, market information, and \n",
              "price history. Learn about Bitcoin's features, halving, and how to buy BTC on Binance.\n",
              "\n",
              "[Bitcoin Price: BTC Live Price Chart, Market Cap & News Today - \n",
              "CoinGecko](https://www.coingecko.com/en/coins/bitcoin)\n",
              "Track the latest Bitcoin price, market cap, trading volume, news and more with CoinGecko's live BTC price chart and\n",
              "popular cryptocurrency price tracker. Coins: 16,987. Exchanges: 1,290. Market Cap: $3 ... Market Cap = Current \n",
              "Price x Circulating Supply\n",
              "\n",
              "[Bitcoin Price, BTC Price, Live Charts, and Marketcap: bitcoin price usd \n",
              "...](https://www.coinbase.com/price/bitcoin)\n",
              "The price of Bitcoin has decreased by 0.09% in the last hour and decreased by 1.60% in the past 24 hours. Bitcoin's\n",
              "price has also risen by 7.81% in the past week. The current price is $93,280.44 per BTC with a 24-hour trading \n",
              "volume of $18.28B. Currently, Bitcoin is valued at 14.44% below its all time high of $109,026.02.\n",
              "\n",
              "[Bitcoin Price Today | BTC to USD, Price Index & Live Chart](https://cryptomarketcap.com/coins/bitcoin)\n",
              "See the current Bitcoin price in USD, the 24-hour trading volume, the market cap and other metrics. Learn about \n",
              "Bitcoin's history, features, founders and how it works.\n",
              "\n",
              "[Bitcoin Price | BTC Price Index, Live Chart and GBP Converter - \n",
              "Binance](https://www.binance.com/en-GB/pri%63e/bitcoin)\n",
              "The live price of Bitcoin is $ 94,767.80 per (BTC / USD) with a current market cap of $ 1,881.82B USD. 24-hour \n",
              "trading volume is $ 20.79B USD. BTC to USD price is updated in real-time. Bitcoin is +0.61% in the last 24 hours \n",
              "with a circulating supply of 19.86M.\n",
              "\n",
              "[Bitcoin price: BTC to USD, chart & market stats - crypto.news](https://crypto.news/price/bitcoin/)\n",
              "Get the latest Bitcoin price in USD, currently at 94,897.00, live chart, 24h stats, market cap, trading volume, and\n",
              "real-time updates. ... Together, these five entities hold nearly 1.2 million BTC valued at about $36 billion at the\n",
              "current price. This is more than 5.6% of Bitcoin's total supply. Among the corporate holders, Grayscale has the ...\n",
              "\n",
              "Out: None\n"
            ],
            "text/html": [
              "<pre style=\"white-space:pre;overflow-x:auto;line-height:normal;font-family:Menlo,'DejaVu Sans Mono',consolas,'Courier New',monospace\"><span style=\"font-weight: bold\">Execution logs:</span>\n",
              "## Search Results\n",
              "\n",
              "[Bitcoin price today, BTC to USD live price, marketcap and chart \n",
              "...](https://coinmarketcap.com/currencies/bitcoin/)\n",
              "The live Bitcoin price today is $99,010.03 USD with a 24-hour trading volume of $66,852,801,068.87 USD. We update \n",
              "our BTC to USD price in real-time. Market Cap: ... Mining Bitcoins can be very profitable for miners, depending on \n",
              "the current hash rate and the price of Bitcoin.\n",
              "\n",
              "[Bitcoin (BTC) Price, Real-time Quote &amp; News - Google Finance](https://www.google.com/finance/quote/BTC-usd)\n",
              "Get the latest Bitcoin (BTC / USD) real-time quote, historical performance, charts, and other cryptocurrency \n",
              "information to help you make more informed trading and investment decisions.\n",
              "\n",
              "[Bitcoin USD Price (BTC-USD) - Yahoo Finance](https://finance.yahoo.com/quote/BTC-USD/)\n",
              "Get the latest Bitcoin USD price, news, chart and historical data. See how Bitcoin has performed over the past \n",
              "year, month, week and day, and compare it with other cryptocurrencies.\n",
              "\n",
              "[Bitcoin (BTC) Price | BTC to USD Price and Live Chart - CoinDesk](https://www.coindesk.com/price/bitcoin)\n",
              "Live Bitcoin price movements from all markets and BTC market cap, use our charts and see when there is an \n",
              "opportunity to buy or sell. BTC $93,835.84-.50 % ETH $1,792.76-.58 % USDT\n",
              "\n",
              "[Bitcoin Price | BTC to USD Converter, Chart and News - Binance](https://www.binance.com/en/price/bitcoin)\n",
              "See the current price of Bitcoin in USD and other currencies, as well as historical data, market information, and \n",
              "price history. Learn about Bitcoin's features, halving, and how to buy BTC on Binance.\n",
              "\n",
              "[Bitcoin Price: BTC Live Price Chart, Market Cap &amp; News Today - \n",
              "CoinGecko](https://www.coingecko.com/en/coins/bitcoin)\n",
              "Track the latest Bitcoin price, market cap, trading volume, news and more with CoinGecko's live BTC price chart and\n",
              "popular cryptocurrency price tracker. Coins: 16,987. Exchanges: 1,290. Market Cap: $3 ... Market Cap = Current \n",
              "Price x Circulating Supply\n",
              "\n",
              "[Bitcoin Price, BTC Price, Live Charts, and Marketcap: bitcoin price usd \n",
              "...](https://www.coinbase.com/price/bitcoin)\n",
              "The price of Bitcoin has decreased by 0.09% in the last hour and decreased by 1.60% in the past 24 hours. Bitcoin's\n",
              "price has also risen by 7.81% in the past week. The current price is $93,280.44 per BTC with a 24-hour trading \n",
              "volume of $18.28B. Currently, Bitcoin is valued at 14.44% below its all time high of $109,026.02.\n",
              "\n",
              "[Bitcoin Price Today | BTC to USD, Price Index &amp; Live Chart](https://cryptomarketcap.com/coins/bitcoin)\n",
              "See the current Bitcoin price in USD, the 24-hour trading volume, the market cap and other metrics. Learn about \n",
              "Bitcoin's history, features, founders and how it works.\n",
              "\n",
              "[Bitcoin Price | BTC Price Index, Live Chart and GBP Converter - \n",
              "Binance](https://www.binance.com/en-GB/pri%63e/bitcoin)\n",
              "The live price of Bitcoin is $ 94,767.80 per (BTC / USD) with a current market cap of $ 1,881.82B USD. 24-hour \n",
              "trading volume is $ 20.79B USD. BTC to USD price is updated in real-time. Bitcoin is +0.61% in the last 24 hours \n",
              "with a circulating supply of 19.86M.\n",
              "\n",
              "[Bitcoin price: BTC to USD, chart &amp; market stats - crypto.news](https://crypto.news/price/bitcoin/)\n",
              "Get the latest Bitcoin price in USD, currently at 94,897.00, live chart, 24h stats, market cap, trading volume, and\n",
              "real-time updates. ... Together, these five entities hold nearly 1.2 million BTC valued at about $36 billion at the\n",
              "current price. This is more than 5.6% of Bitcoin's total supply. Among the corporate holders, Grayscale has the ...\n",
              "\n",
              "Out: None\n",
              "</pre>\n"
            ]
          },
          "metadata": {}
        },
        {
          "output_type": "display_data",
          "data": {
            "text/plain": [
              "\u001b[2m[Step 3: Duration 7.23 seconds| Input tokens: 7,306 | Output tokens: 294]\u001b[0m\n"
            ],
            "text/html": [
              "<pre style=\"white-space:pre;overflow-x:auto;line-height:normal;font-family:Menlo,'DejaVu Sans Mono',consolas,'Courier New',monospace\"><span style=\"color: #7f7f7f; text-decoration-color: #7f7f7f\">[Step 3: Duration 7.23 seconds| Input tokens: 7,306 | Output tokens: 294]</span>\n",
              "</pre>\n"
            ]
          },
          "metadata": {}
        },
        {
          "output_type": "display_data",
          "data": {
            "text/plain": [
              "\u001b[38;2;212;183;2m━━━━━━━━━━━━━━━━━━━━━━━━━━━━━━━━━━━━━━━━━━━━━━━━━━━━━ \u001b[0m\u001b[1mStep \u001b[0m\u001b[1;36m4\u001b[0m\u001b[38;2;212;183;2m ━━━━━━━━━━━━━━━━━━━━━━━━━━━━━━━━━━━━━━━━━━━━━━━━━━━━━━\u001b[0m\n"
            ],
            "text/html": [
              "<pre style=\"white-space:pre;overflow-x:auto;line-height:normal;font-family:Menlo,'DejaVu Sans Mono',consolas,'Courier New',monospace\"><span style=\"color: #d4b702; text-decoration-color: #d4b702\">━━━━━━━━━━━━━━━━━━━━━━━━━━━━━━━━━━━━━━━━━━━━━━━━━━━━━ </span><span style=\"font-weight: bold\">Step </span><span style=\"color: #008080; text-decoration-color: #008080; font-weight: bold\">4</span><span style=\"color: #d4b702; text-decoration-color: #d4b702\"> ━━━━━━━━━━━━━━━━━━━━━━━━━━━━━━━━━━━━━━━━━━━━━━━━━━━━━━</span>\n",
              "</pre>\n"
            ]
          },
          "metadata": {}
        },
        {
          "output_type": "display_data",
          "data": {
            "text/plain": [
              " ─ \u001b[1mExecuting parsed code:\u001b[0m ──────────────────────────────────────────────────────────────────────────────────────── \n",
              "  \u001b[38;2;248;248;242;48;2;39;40;34mquery\u001b[0m\u001b[38;2;248;248;242;48;2;39;40;34m \u001b[0m\u001b[38;2;255;70;137;48;2;39;40;34m=\u001b[0m\u001b[38;2;248;248;242;48;2;39;40;34m \u001b[0m\u001b[38;2;230;219;116;48;2;39;40;34m\"\u001b[0m\u001b[38;2;230;219;116;48;2;39;40;34mbitcoin price history $940\u001b[0m\u001b[38;2;230;219;116;48;2;39;40;34m\"\u001b[0m\u001b[48;2;39;40;34m                                                                           \u001b[0m  \n",
              "  \u001b[38;2;248;248;242;48;2;39;40;34mresult\u001b[0m\u001b[38;2;248;248;242;48;2;39;40;34m \u001b[0m\u001b[38;2;255;70;137;48;2;39;40;34m=\u001b[0m\u001b[38;2;248;248;242;48;2;39;40;34m \u001b[0m\u001b[38;2;248;248;242;48;2;39;40;34mweb_search\u001b[0m\u001b[38;2;248;248;242;48;2;39;40;34m(\u001b[0m\u001b[38;2;248;248;242;48;2;39;40;34mquery\u001b[0m\u001b[38;2;248;248;242;48;2;39;40;34m)\u001b[0m\u001b[48;2;39;40;34m                                                                                     \u001b[0m  \n",
              "  \u001b[38;2;248;248;242;48;2;39;40;34mprint\u001b[0m\u001b[38;2;248;248;242;48;2;39;40;34m(\u001b[0m\u001b[38;2;248;248;242;48;2;39;40;34mresult\u001b[0m\u001b[38;2;248;248;242;48;2;39;40;34m)\u001b[0m\u001b[48;2;39;40;34m                                                                                                  \u001b[0m  \n",
              " ───────────────────────────────────────────────────────────────────────────────────────────────────────────────── \n"
            ],
            "text/html": [
              "<pre style=\"white-space:pre;overflow-x:auto;line-height:normal;font-family:Menlo,'DejaVu Sans Mono',consolas,'Courier New',monospace\"> ─ <span style=\"font-weight: bold\">Executing parsed code:</span> ──────────────────────────────────────────────────────────────────────────────────────── \n",
              "  <span style=\"color: #f8f8f2; text-decoration-color: #f8f8f2; background-color: #272822\">query </span><span style=\"color: #ff4689; text-decoration-color: #ff4689; background-color: #272822\">=</span><span style=\"color: #f8f8f2; text-decoration-color: #f8f8f2; background-color: #272822\"> </span><span style=\"color: #e6db74; text-decoration-color: #e6db74; background-color: #272822\">\"bitcoin price history $940\"</span><span style=\"background-color: #272822\">                                                                           </span>  \n",
              "  <span style=\"color: #f8f8f2; text-decoration-color: #f8f8f2; background-color: #272822\">result </span><span style=\"color: #ff4689; text-decoration-color: #ff4689; background-color: #272822\">=</span><span style=\"color: #f8f8f2; text-decoration-color: #f8f8f2; background-color: #272822\"> web_search(query)</span><span style=\"background-color: #272822\">                                                                                     </span>  \n",
              "  <span style=\"color: #f8f8f2; text-decoration-color: #f8f8f2; background-color: #272822\">print(result)</span><span style=\"background-color: #272822\">                                                                                                  </span>  \n",
              " ───────────────────────────────────────────────────────────────────────────────────────────────────────────────── \n",
              "</pre>\n"
            ]
          },
          "metadata": {}
        },
        {
          "output_type": "display_data",
          "data": {
            "text/plain": [
              "\u001b[1mExecution logs:\u001b[0m\n",
              "## Search Results\n",
              "\n",
              "[Convert 940 USD to BTC — US Dollar to Bitcoin Converter](https://coincodex.com/convert/usd/bitcoin/940/)\n",
              "Convert 940 USD to 0.01529946 BTC. Live 940 USD to BTC converter & historical US Dollar to Bitcoin price chart.\n",
              "\n",
              "[Bitcoin Price From 2010 To 2025 | StatMuse \n",
              "Money](https://www.statmuse.com/money/ask/bitcoin-price-from-2010-to-2025)\n",
              "The closing price for Bitcoin (BTC) between 2010 and 2025 is $94,978.75, yesterday. It is up 191,876,167.7% in that\n",
              "time. The latest price is $95,129.74.\n",
              "\n",
              "[Bitcoin (BTC) Price, Price Change History, Market Cap, ATH](https://coingolive.com/en/coins/bitcoin/)\n",
              "Price Bitcoin (BTC) today, cryptocurrency all time high ATH, see the price change history with percentage gain and \n",
              "loss, compare with the Bitcoin and Gold market cap\n",
              "\n",
              "[BTC to USD | Bitcoin to US Dollar - Investing.com](https://www.investing.com/crypto/bitcoin/btc-usd)\n",
              "Track live Bitcoin to Dollar exchange rates, monitor BTC to USD prices in real-time, and access the Bitcoin price \n",
              "history.\n",
              "\n",
              "[Bitcoin Historical Data - Investing.com PH](https://ph.investing.com/crypto/bitcoin/historical-data)\n",
              "Historical data for the Bitcoin prices - Bitcoin price history viewable in daily, weekly or monthly time intervals.\n",
              "\n",
              "[Bitcoin (BTC) Price | BTC to USD Price and Live Chart - CoinDesk](https://www.coindesk.com/price/bitcoin)\n",
              "Live Bitcoin price movements from all markets and BTC market cap, use our charts and see when there is an \n",
              "opportunity to buy or sell.\n",
              "\n",
              "[Who Got It Right? Bitcoin Price Predictions from \n",
              "2009-2013](https://coinspaidmedia.com/forecasts/bitcoin-price-predictions-from-2009-2013/)\n",
              "In the fall of 2012, the Bitcoin Foundation emerged and the cryptocurrency became increasingly well-known, but no \n",
              "prominent analyst made any predictions about its future. The situation changed in 2013 - the year during which the \n",
              "price of BTC rose from $20 to $940, and at its peak, the value of BTC was over $1200.\n",
              "\n",
              "[Bitcoin Price History In 2016 | StatMuse Money](https://www.statmuse.com/money/ask/bitcoin-price-history-in-2016)\n",
              "The closing price for Bitcoin (BTC) in 2016 was $963.74, on December 31, 2016. It was up 123.8% for the year. The \n",
              "latest price is $69,372.01.\n",
              "\n",
              "[So, what was the price of Bitcoin in 2016? - \n",
              "plasbit.com](https://plasbit.com/crypto-basic/what-was-the-price-of-bitcoin-in-2016)\n",
              "So, what was the price of Bitcoin in 2016? Bitcoin started the year at $430.72 on 1 January and closed at $963.74 \n",
              "on 31 December, achieving a remarkable 123.8% increase. The first half of the year saw low volatility and steady \n",
              "prices; however, in late May, the price began to rise, reaching $700 in mid-June.\n",
              "\n",
              "[What is Bitcoin Market Cap: Data-Driven Insights](https://bitcoin101.org/blog/what-is-bitcoin-market-cap)\n",
              "Historical data showcases Bitcoin's dramatic price surges, which significantly affected its market cap. In 2017, \n",
              "Bitcoin's price skyrocketed from under $1,000 to nearly $20,000 by December of that year, resulting in a massive \n",
              "20x price increase within 12 months.\n",
              "\n",
              "Out: None\n"
            ],
            "text/html": [
              "<pre style=\"white-space:pre;overflow-x:auto;line-height:normal;font-family:Menlo,'DejaVu Sans Mono',consolas,'Courier New',monospace\"><span style=\"font-weight: bold\">Execution logs:</span>\n",
              "## Search Results\n",
              "\n",
              "[Convert 940 USD to BTC — US Dollar to Bitcoin Converter](https://coincodex.com/convert/usd/bitcoin/940/)\n",
              "Convert 940 USD to 0.01529946 BTC. Live 940 USD to BTC converter &amp; historical US Dollar to Bitcoin price chart.\n",
              "\n",
              "[Bitcoin Price From 2010 To 2025 | StatMuse \n",
              "Money](https://www.statmuse.com/money/ask/bitcoin-price-from-2010-to-2025)\n",
              "The closing price for Bitcoin (BTC) between 2010 and 2025 is $94,978.75, yesterday. It is up 191,876,167.7% in that\n",
              "time. The latest price is $95,129.74.\n",
              "\n",
              "[Bitcoin (BTC) Price, Price Change History, Market Cap, ATH](https://coingolive.com/en/coins/bitcoin/)\n",
              "Price Bitcoin (BTC) today, cryptocurrency all time high ATH, see the price change history with percentage gain and \n",
              "loss, compare with the Bitcoin and Gold market cap\n",
              "\n",
              "[BTC to USD | Bitcoin to US Dollar - Investing.com](https://www.investing.com/crypto/bitcoin/btc-usd)\n",
              "Track live Bitcoin to Dollar exchange rates, monitor BTC to USD prices in real-time, and access the Bitcoin price \n",
              "history.\n",
              "\n",
              "[Bitcoin Historical Data - Investing.com PH](https://ph.investing.com/crypto/bitcoin/historical-data)\n",
              "Historical data for the Bitcoin prices - Bitcoin price history viewable in daily, weekly or monthly time intervals.\n",
              "\n",
              "[Bitcoin (BTC) Price | BTC to USD Price and Live Chart - CoinDesk](https://www.coindesk.com/price/bitcoin)\n",
              "Live Bitcoin price movements from all markets and BTC market cap, use our charts and see when there is an \n",
              "opportunity to buy or sell.\n",
              "\n",
              "[Who Got It Right? Bitcoin Price Predictions from \n",
              "2009-2013](https://coinspaidmedia.com/forecasts/bitcoin-price-predictions-from-2009-2013/)\n",
              "In the fall of 2012, the Bitcoin Foundation emerged and the cryptocurrency became increasingly well-known, but no \n",
              "prominent analyst made any predictions about its future. The situation changed in 2013 - the year during which the \n",
              "price of BTC rose from $20 to $940, and at its peak, the value of BTC was over $1200.\n",
              "\n",
              "[Bitcoin Price History In 2016 | StatMuse Money](https://www.statmuse.com/money/ask/bitcoin-price-history-in-2016)\n",
              "The closing price for Bitcoin (BTC) in 2016 was $963.74, on December 31, 2016. It was up 123.8% for the year. The \n",
              "latest price is $69,372.01.\n",
              "\n",
              "[So, what was the price of Bitcoin in 2016? - \n",
              "plasbit.com](https://plasbit.com/crypto-basic/what-was-the-price-of-bitcoin-in-2016)\n",
              "So, what was the price of Bitcoin in 2016? Bitcoin started the year at $430.72 on 1 January and closed at $963.74 \n",
              "on 31 December, achieving a remarkable 123.8% increase. The first half of the year saw low volatility and steady \n",
              "prices; however, in late May, the price began to rise, reaching $700 in mid-June.\n",
              "\n",
              "[What is Bitcoin Market Cap: Data-Driven Insights](https://bitcoin101.org/blog/what-is-bitcoin-market-cap)\n",
              "Historical data showcases Bitcoin's dramatic price surges, which significantly affected its market cap. In 2017, \n",
              "Bitcoin's price skyrocketed from under $1,000 to nearly $20,000 by December of that year, resulting in a massive \n",
              "20x price increase within 12 months.\n",
              "\n",
              "Out: None\n",
              "</pre>\n"
            ]
          },
          "metadata": {}
        },
        {
          "output_type": "display_data",
          "data": {
            "text/plain": [
              "\u001b[2m[Step 4: Duration 5.27 seconds| Input tokens: 11,376 | Output tokens: 390]\u001b[0m\n"
            ],
            "text/html": [
              "<pre style=\"white-space:pre;overflow-x:auto;line-height:normal;font-family:Menlo,'DejaVu Sans Mono',consolas,'Courier New',monospace\"><span style=\"color: #7f7f7f; text-decoration-color: #7f7f7f\">[Step 4: Duration 5.27 seconds| Input tokens: 11,376 | Output tokens: 390]</span>\n",
              "</pre>\n"
            ]
          },
          "metadata": {}
        },
        {
          "output_type": "display_data",
          "data": {
            "text/plain": [
              "\u001b[38;2;212;183;2m━━━━━━━━━━━━━━━━━━━━━━━━━━━━━━━━━━━━━━━━━━━━━━━━━━━━━ \u001b[0m\u001b[1mStep \u001b[0m\u001b[1;36m5\u001b[0m\u001b[38;2;212;183;2m ━━━━━━━━━━━━━━━━━━━━━━━━━━━━━━━━━━━━━━━━━━━━━━━━━━━━━━\u001b[0m\n"
            ],
            "text/html": [
              "<pre style=\"white-space:pre;overflow-x:auto;line-height:normal;font-family:Menlo,'DejaVu Sans Mono',consolas,'Courier New',monospace\"><span style=\"color: #d4b702; text-decoration-color: #d4b702\">━━━━━━━━━━━━━━━━━━━━━━━━━━━━━━━━━━━━━━━━━━━━━━━━━━━━━ </span><span style=\"font-weight: bold\">Step </span><span style=\"color: #008080; text-decoration-color: #008080; font-weight: bold\">5</span><span style=\"color: #d4b702; text-decoration-color: #d4b702\"> ━━━━━━━━━━━━━━━━━━━━━━━━━━━━━━━━━━━━━━━━━━━━━━━━━━━━━━</span>\n",
              "</pre>\n"
            ]
          },
          "metadata": {}
        },
        {
          "output_type": "display_data",
          "data": {
            "text/plain": [
              " ─ \u001b[1mExecuting parsed code:\u001b[0m ──────────────────────────────────────────────────────────────────────────────────────── \n",
              "  \u001b[38;2;248;248;242;48;2;39;40;34myear\u001b[0m\u001b[38;2;248;248;242;48;2;39;40;34m \u001b[0m\u001b[38;2;255;70;137;48;2;39;40;34m=\u001b[0m\u001b[38;2;248;248;242;48;2;39;40;34m \u001b[0m\u001b[38;2;174;129;255;48;2;39;40;34m2013\u001b[0m\u001b[48;2;39;40;34m                                                                                                    \u001b[0m  \n",
              "  \u001b[38;2;248;248;242;48;2;39;40;34mfinal_answer\u001b[0m\u001b[38;2;248;248;242;48;2;39;40;34m(\u001b[0m\u001b[38;2;248;248;242;48;2;39;40;34myear\u001b[0m\u001b[38;2;248;248;242;48;2;39;40;34m)\u001b[0m\u001b[48;2;39;40;34m                                                                                             \u001b[0m  \n",
              " ───────────────────────────────────────────────────────────────────────────────────────────────────────────────── \n"
            ],
            "text/html": [
              "<pre style=\"white-space:pre;overflow-x:auto;line-height:normal;font-family:Menlo,'DejaVu Sans Mono',consolas,'Courier New',monospace\"> ─ <span style=\"font-weight: bold\">Executing parsed code:</span> ──────────────────────────────────────────────────────────────────────────────────────── \n",
              "  <span style=\"color: #f8f8f2; text-decoration-color: #f8f8f2; background-color: #272822\">year </span><span style=\"color: #ff4689; text-decoration-color: #ff4689; background-color: #272822\">=</span><span style=\"color: #f8f8f2; text-decoration-color: #f8f8f2; background-color: #272822\"> </span><span style=\"color: #ae81ff; text-decoration-color: #ae81ff; background-color: #272822\">2013</span><span style=\"background-color: #272822\">                                                                                                    </span>  \n",
              "  <span style=\"color: #f8f8f2; text-decoration-color: #f8f8f2; background-color: #272822\">final_answer(year)</span><span style=\"background-color: #272822\">                                                                                             </span>  \n",
              " ───────────────────────────────────────────────────────────────────────────────────────────────────────────────── \n",
              "</pre>\n"
            ]
          },
          "metadata": {}
        },
        {
          "output_type": "display_data",
          "data": {
            "text/plain": [
              "\u001b[1;38;2;212;183;2mOut - Final answer: 2013\u001b[0m\n"
            ],
            "text/html": [
              "<pre style=\"white-space:pre;overflow-x:auto;line-height:normal;font-family:Menlo,'DejaVu Sans Mono',consolas,'Courier New',monospace\"><span style=\"color: #d4b702; text-decoration-color: #d4b702; font-weight: bold\">Out - Final answer: 2013</span>\n",
              "</pre>\n"
            ]
          },
          "metadata": {}
        },
        {
          "output_type": "display_data",
          "data": {
            "text/plain": [
              "\u001b[2m[Step 5: Duration 4.71 seconds| Input tokens: 16,396 | Output tokens: 492]\u001b[0m\n"
            ],
            "text/html": [
              "<pre style=\"white-space:pre;overflow-x:auto;line-height:normal;font-family:Menlo,'DejaVu Sans Mono',consolas,'Courier New',monospace\"><span style=\"color: #7f7f7f; text-decoration-color: #7f7f7f\">[Step 5: Duration 4.71 seconds| Input tokens: 16,396 | Output tokens: 492]</span>\n",
              "</pre>\n"
            ]
          },
          "metadata": {}
        },
        {
          "output_type": "execute_result",
          "data": {
            "text/plain": [
              "2013"
            ]
          },
          "metadata": {},
          "execution_count": 20
        }
      ]
    }
  ]
}