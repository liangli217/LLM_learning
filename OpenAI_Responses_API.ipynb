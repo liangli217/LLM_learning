{
  "nbformat": 4,
  "nbformat_minor": 0,
  "metadata": {
    "colab": {
      "provenance": [],
      "authorship_tag": "ABX9TyOBaxrn2n+BYqukZUX5suQ7",
      "include_colab_link": true
    },
    "kernelspec": {
      "name": "python3",
      "display_name": "Python 3"
    },
    "language_info": {
      "name": "python"
    }
  },
  "cells": [
    {
      "cell_type": "markdown",
      "metadata": {
        "id": "view-in-github",
        "colab_type": "text"
      },
      "source": [
        "<a href=\"https://colab.research.google.com/github/liangli217/LLM_learning/blob/main/OpenAI_Responses_API.ipynb\" target=\"_parent\"><img src=\"https://colab.research.google.com/assets/colab-badge.svg\" alt=\"Open In Colab\"/></a>"
      ]
    },
    {
      "cell_type": "code",
      "execution_count": 1,
      "metadata": {
        "id": "SdzTxv-oVzyv"
      },
      "outputs": [],
      "source": [
        "from openai import OpenAI"
      ]
    },
    {
      "cell_type": "code",
      "source": [
        "from google.colab import userdata\n",
        "openai_key = userdata.get('OPENAI_API_KEY')\n",
        "\n",
        "# Initialize the OpenAI client\n",
        "client = OpenAI(api_key=openai_key)"
      ],
      "metadata": {
        "id": "oxpa7m0dV_2c"
      },
      "execution_count": 4,
      "outputs": []
    },
    {
      "cell_type": "code",
      "source": [
        "response = client.responses.create(\n",
        "    model = \"gpt-4o\",\n",
        "    input = \"write a one sentence poetry\"\n",
        "\n",
        ")"
      ],
      "metadata": {
        "id": "xKAxfMOcWK-P"
      },
      "execution_count": 5,
      "outputs": []
    },
    {
      "cell_type": "code",
      "source": [
        "# Inputs can now be a single string or a list of messages"
      ],
      "metadata": {
        "id": "urBlw_0yW_M9"
      },
      "execution_count": 7,
      "outputs": []
    },
    {
      "cell_type": "code",
      "source": [
        "print(response.output_text )"
      ],
      "metadata": {
        "colab": {
          "base_uri": "https://localhost:8080/"
        },
        "id": "El5CmEFSWgDz",
        "outputId": "fd5e5a03-e345-4805-97a8-c0bf5d1c9389"
      },
      "execution_count": 6,
      "outputs": [
        {
          "output_type": "stream",
          "name": "stdout",
          "text": [
            "In the quiet dance of shadows, whispers of the moon embrace the night's tender heart.\n"
          ]
        }
      ]
    },
    {
      "cell_type": "markdown",
      "source": [
        "The list of roles can be:\n",
        "- system\n",
        "- developer\n",
        "- user\n",
        "- assistant\n"
      ],
      "metadata": {
        "id": "vmkCXX0rXeIs"
      }
    },
    {
      "cell_type": "code",
      "source": [
        "response = client.responses.create(\n",
        "    model = \"gpt-4o\",\n",
        "    input = [\n",
        "       {\"role\":\"developer\", \"content\": \"talk like a pirate\"},\n",
        "        {\"role\":\"user\", \"content\": \"write a one sentence poetry\"}\n",
        "    ],\n",
        "    temperature  = 1\n",
        "\n",
        ")"
      ],
      "metadata": {
        "id": "-tkdmtFMX8uI"
      },
      "execution_count": 52,
      "outputs": []
    },
    {
      "cell_type": "code",
      "source": [
        "print(response.output_text)"
      ],
      "metadata": {
        "colab": {
          "base_uri": "https://localhost:8080/"
        },
        "id": "wdI-WogvYbk9",
        "outputId": "a13569b2-977f-4051-d986-838ad40777f5"
      },
      "execution_count": 53,
      "outputs": [
        {
          "output_type": "stream",
          "name": "stdout",
          "text": [
            "Beneath the silver moon's embrace, the sea whispers secrets to the night.\n"
          ]
        }
      ]
    },
    {
      "cell_type": "markdown",
      "source": [
        "💡 **Token Usage**"
      ],
      "metadata": {
        "id": "S4AFvxarmnyf"
      }
    },
    {
      "cell_type": "code",
      "source": [
        "print(f\"Input tokens: {response.usage.input_tokens}\")\n",
        "print(f\"Output tokens: {response.usage.output_tokens}\")"
      ],
      "metadata": {
        "colab": {
          "base_uri": "https://localhost:8080/"
        },
        "id": "Rv2WI4FRc-3G",
        "outputId": "bac82e8c-f2ba-42af-a383-d53d192a5ff7"
      },
      "execution_count": 29,
      "outputs": [
        {
          "output_type": "stream",
          "name": "stdout",
          "text": [
            "Input tokens: 20\n",
            "Output tokens: 17\n"
          ]
        }
      ]
    },
    {
      "cell_type": "code",
      "source": [],
      "metadata": {
        "id": "PAlr9z-_pJc_"
      },
      "execution_count": null,
      "outputs": []
    }
  ]
}