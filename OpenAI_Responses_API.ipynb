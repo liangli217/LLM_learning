{
  "nbformat": 4,
  "nbformat_minor": 0,
  "metadata": {
    "colab": {
      "provenance": [],
      "authorship_tag": "ABX9TyMeKH8XL85bf2mMKENYZzSI",
      "include_colab_link": true
    },
    "kernelspec": {
      "name": "python3",
      "display_name": "Python 3"
    },
    "language_info": {
      "name": "python"
    }
  },
  "cells": [
    {
      "cell_type": "markdown",
      "metadata": {
        "id": "view-in-github",
        "colab_type": "text"
      },
      "source": [
        "<a href=\"https://colab.research.google.com/github/liangli217/LLM_learning/blob/main/OpenAI_Responses_API.ipynb\" target=\"_parent\"><img src=\"https://colab.research.google.com/assets/colab-badge.svg\" alt=\"Open In Colab\"/></a>"
      ]
    },
    {
      "cell_type": "code",
      "execution_count": 1,
      "metadata": {
        "id": "SdzTxv-oVzyv"
      },
      "outputs": [],
      "source": [
        "from openai import OpenAI"
      ]
    },
    {
      "cell_type": "code",
      "source": [
        "from google.colab import userdata\n",
        "openai_key = userdata.get('OPENAI_API_KEY')\n",
        "\n",
        "# Initialize the OpenAI client\n",
        "client = OpenAI(api_key=openai_key)"
      ],
      "metadata": {
        "id": "oxpa7m0dV_2c"
      },
      "execution_count": 4,
      "outputs": []
    },
    {
      "cell_type": "code",
      "source": [
        "response = client.responses.create(\n",
        "    model = \"gpt-4o\",\n",
        "    input = \"write a one sentence poetry\"\n",
        "\n",
        ")"
      ],
      "metadata": {
        "id": "xKAxfMOcWK-P"
      },
      "execution_count": 5,
      "outputs": []
    },
    {
      "cell_type": "code",
      "source": [
        "# Inputs can now be a single string or a list of messages"
      ],
      "metadata": {
        "id": "urBlw_0yW_M9"
      },
      "execution_count": 7,
      "outputs": []
    },
    {
      "cell_type": "code",
      "source": [
        "print(response.output_text )"
      ],
      "metadata": {
        "colab": {
          "base_uri": "https://localhost:8080/"
        },
        "id": "El5CmEFSWgDz",
        "outputId": "fd5e5a03-e345-4805-97a8-c0bf5d1c9389"
      },
      "execution_count": 6,
      "outputs": [
        {
          "output_type": "stream",
          "name": "stdout",
          "text": [
            "In the quiet dance of shadows, whispers of the moon embrace the night's tender heart.\n"
          ]
        }
      ]
    },
    {
      "cell_type": "markdown",
      "source": [
        "The list of roles can be:\n",
        "- system\n",
        "- developer\n",
        "- user\n",
        "- assistant\n"
      ],
      "metadata": {
        "id": "vmkCXX0rXeIs"
      }
    },
    {
      "cell_type": "code",
      "source": [
        "response = client.responses.create(\n",
        "    model = \"gpt-4o\",\n",
        "    input = [\n",
        "       {\"role\":\"developer\", \"content\": \"talk like a pirate\"},\n",
        "        {\"role\":\"user\", \"content\": \"write a one sentence poetry\"}\n",
        "    ],\n",
        "    temperature  = 1\n",
        "\n",
        ")"
      ],
      "metadata": {
        "id": "-tkdmtFMX8uI"
      },
      "execution_count": 52,
      "outputs": []
    },
    {
      "cell_type": "code",
      "source": [
        "print(response.output_text)"
      ],
      "metadata": {
        "colab": {
          "base_uri": "https://localhost:8080/"
        },
        "id": "wdI-WogvYbk9",
        "outputId": "a13569b2-977f-4051-d986-838ad40777f5"
      },
      "execution_count": 53,
      "outputs": [
        {
          "output_type": "stream",
          "name": "stdout",
          "text": [
            "Beneath the silver moon's embrace, the sea whispers secrets to the night.\n"
          ]
        }
      ]
    },
    {
      "cell_type": "markdown",
      "source": [
        "💡 **Token Usage**"
      ],
      "metadata": {
        "id": "S4AFvxarmnyf"
      }
    },
    {
      "cell_type": "code",
      "source": [
        "print(f\"Input tokens: {response.usage.input_tokens}\")\n",
        "print(f\"Output tokens: {response.usage.output_tokens}\")"
      ],
      "metadata": {
        "colab": {
          "base_uri": "https://localhost:8080/"
        },
        "id": "Rv2WI4FRc-3G",
        "outputId": "bac82e8c-f2ba-42af-a383-d53d192a5ff7"
      },
      "execution_count": 29,
      "outputs": [
        {
          "output_type": "stream",
          "name": "stdout",
          "text": [
            "Input tokens: 20\n",
            "Output tokens: 17\n"
          ]
        }
      ]
    },
    {
      "cell_type": "markdown",
      "source": [
        "**💡 Function Calling (Tools)**"
      ],
      "metadata": {
        "id": "HPhP5eSyuM2F"
      }
    },
    {
      "cell_type": "code",
      "source": [
        "tools = [\n",
        "    {\n",
        "        \"type\":\"function\",\n",
        "\n",
        "        \"name\": \"get_cheese_pairing\",\n",
        "        \"description\": \"Get wine pairing recommendations for a specific cheese\",\n",
        "        \"parameters\": {\n",
        "            \"type\": \"object\",\n",
        "            \"properties\":{\n",
        "                \"cheese_type\":{\n",
        "                    \"type\": \"string\",\n",
        "                    \"description\": \"The type of cheese (e.g., cheddar, brie, gouda)\"\n",
        "                },\n",
        "                \"intensity\":{\n",
        "                    \"type\": \"string\",\n",
        "                    \"enum\"\n",
        "                    \"description\": \"The flavor intensity of the cheese\"\n",
        "                }\n",
        "                },\n",
        "                \"required\": [\"cheese_type\"]\n",
        "                }\n",
        "        }\n",
        "\n",
        "]"
      ],
      "metadata": {
        "id": "9t9Dpkz8uPmj"
      },
      "execution_count": 76,
      "outputs": []
    },
    {
      "cell_type": "code",
      "source": [
        "# Make a request that should trigger function calling\n",
        "response = client.responses.create(\n",
        "    model=\"gpt-4o-mini\",\n",
        "    input=[\n",
        "        {\"role\": \"user\", \"content\": \"What wine should I pair with aged cheddar?\"}\n",
        "    ],\n",
        "    tools=tools,\n",
        "\n",
        ")"
      ],
      "metadata": {
        "id": "RWBn6ANOvxWW"
      },
      "execution_count": 80,
      "outputs": []
    },
    {
      "cell_type": "code",
      "source": [
        "response"
      ],
      "metadata": {
        "colab": {
          "base_uri": "https://localhost:8080/"
        },
        "id": "WktubxGqvynA",
        "outputId": "23010926-d261-421d-9738-fdca5ce03c45"
      },
      "execution_count": 84,
      "outputs": [
        {
          "output_type": "execute_result",
          "data": {
            "text/plain": [
              "Response(id='resp_0e9a9970c7f2632c0068df2ca19768819099e162fc8037f9e2', created_at=1759456417.0, error=None, incomplete_details=None, instructions=None, metadata={}, model='gpt-4o-mini-2024-07-18', object='response', output=[ResponseFunctionToolCall(arguments='{\"cheese_type\":\"aged cheddar\",\"intensity\":\"strong\"}', call_id='call_Hr8FKiOo7UkzI5zEg8QClUkv', name='get_cheese_pairing', type='function_call', id='fc_0e9a9970c7f2632c0068df2ca2abb08190af29415ef725c2d8', status='completed')], parallel_tool_calls=True, temperature=1.0, tool_choice='auto', tools=[FunctionTool(name='get_cheese_pairing', parameters={'type': 'object', 'properties': {'cheese_type': {'type': 'string', 'description': 'The type of cheese (e.g., cheddar, brie, gouda)'}, 'intensity': {'type': 'string', 'enumdescription': 'The flavor intensity of the cheese'}}, 'required': ['cheese_type', 'intensity'], 'additionalProperties': False}, strict=True, type='function', description='Get wine pairing recommendations for a specific cheese')], top_p=1.0, background=False, conversation=None, max_output_tokens=None, max_tool_calls=None, previous_response_id=None, prompt=None, prompt_cache_key=None, reasoning=Reasoning(effort=None, generate_summary=None, summary=None), safety_identifier=None, service_tier='default', status='completed', text=ResponseTextConfig(format=ResponseFormatText(type='text'), verbosity='medium'), top_logprobs=0, truncation='disabled', usage=ResponseUsage(input_tokens=76, input_tokens_details=InputTokensDetails(cached_tokens=0), output_tokens=26, output_tokens_details=OutputTokensDetails(reasoning_tokens=0), total_tokens=102), user=None, billing={'payer': 'developer'}, store=True)"
            ]
          },
          "metadata": {},
          "execution_count": 84
        }
      ]
    },
    {
      "cell_type": "markdown",
      "source": [
        "**💡 Vision API**"
      ],
      "metadata": {
        "id": "vUIDc7xj4JP6"
      }
    },
    {
      "cell_type": "code",
      "source": [
        "response = client.responses.create(\n",
        "    model=\"gpt-4o-mini\",\n",
        "    input=[\n",
        "        {\"role\": \"user\", \"content\": [\n",
        "            {\"type\": \"input_text\",\n",
        "             \"text\": \"What type of cheese do you see in this image\"},\n",
        "\n",
        "                {\"type\": \"input_image\",\n",
        "                \"image_url\":  \"https://upload.wikimedia.org/wikipedia/commons/5/52/Swiss_Cheese.jpg\"}]\n",
        "            }\n",
        "        ]\n",
        "    ,\n",
        "\n",
        ")"
      ],
      "metadata": {
        "id": "S8uuNogx4LcU"
      },
      "execution_count": 93,
      "outputs": []
    },
    {
      "cell_type": "code",
      "source": [
        "response.output_text"
      ],
      "metadata": {
        "colab": {
          "base_uri": "https://localhost:8080/",
          "height": 53
        },
        "id": "WhqRb0lb5eVz",
        "outputId": "fb463e7e-db9c-461f-ef92-b27065fd4c46"
      },
      "execution_count": 92,
      "outputs": [
        {
          "output_type": "execute_result",
          "data": {
            "text/plain": [
              "'The cheeses in the image are labeled as \"Swiss Fribourg\" and \"Swiss Gruyère.\" Both are types of Swiss cheese, with Gruyère being known for its smooth texture and Nutty flavor, while Fribourg is made from raw cow\\'s milk.'"
            ],
            "application/vnd.google.colaboratory.intrinsic+json": {
              "type": "string"
            }
          },
          "metadata": {},
          "execution_count": 92
        }
      ]
    }
  ]
}