{
  "nbformat": 4,
  "nbformat_minor": 0,
  "metadata": {
    "colab": {
      "provenance": [],
      "authorship_tag": "ABX9TyMIair6mwpGJrkD2BlE25eT",
      "include_colab_link": true
    },
    "kernelspec": {
      "name": "python3",
      "display_name": "Python 3"
    },
    "language_info": {
      "name": "python"
    }
  },
  "cells": [
    {
      "cell_type": "markdown",
      "metadata": {
        "id": "view-in-github",
        "colab_type": "text"
      },
      "source": [
        "<a href=\"https://colab.research.google.com/github/liangli217/LLM_learning/blob/main/Docker.ipynb\" target=\"_parent\"><img src=\"https://colab.research.google.com/assets/colab-badge.svg\" alt=\"Open In Colab\"/></a>"
      ]
    },
    {
      "cell_type": "code",
      "execution_count": null,
      "metadata": {
        "id": "cat0z20ICVQJ"
      },
      "outputs": [],
      "source": []
    },
    {
      "cell_type": "markdown",
      "source": [
        "**From Dockerfile to Container**:\n",
        "\n",
        "\n",
        "*  We use *Dockerfile* to build the Docker Image\n",
        "*  We run the Docker Image to get Docker Container\n",
        "\n",
        "\n",
        "What is the difference between an image and container?\n",
        "**Docker Image** is a template aka a blueprint to creat a running docker container. Docker uses the information available in the **image** to create(run) a **container**.\n"
      ],
      "metadata": {
        "id": "p4CMT2iLCa0D"
      }
    }
  ]
}