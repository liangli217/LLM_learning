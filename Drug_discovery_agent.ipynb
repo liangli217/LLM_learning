{
  "nbformat": 4,
  "nbformat_minor": 0,
  "metadata": {
    "colab": {
      "provenance": [],
      "authorship_tag": "ABX9TyP2xjKPHJ4C8GOdyjaQNNKR",
      "include_colab_link": true
    },
    "kernelspec": {
      "name": "python3",
      "display_name": "Python 3"
    },
    "language_info": {
      "name": "python"
    }
  },
  "cells": [
    {
      "cell_type": "markdown",
      "metadata": {
        "id": "view-in-github",
        "colab_type": "text"
      },
      "source": [
        "<a href=\"https://colab.research.google.com/github/liangli217/LLM_learning/blob/main/Drug_discovery_agent.ipynb\" target=\"_parent\"><img src=\"https://colab.research.google.com/assets/colab-badge.svg\" alt=\"Open In Colab\"/></a>"
      ]
    },
    {
      "cell_type": "code",
      "execution_count": 1,
      "metadata": {
        "id": "Ib7a906jTzHo"
      },
      "outputs": [],
      "source": [
        "from langchain.agents import initialize_agent, Tool"
      ]
    },
    {
      "cell_type": "code",
      "source": [
        "from langchain_openai import ChatOpenAI"
      ],
      "metadata": {
        "id": "az6_T1p3UT0_"
      },
      "execution_count": 6,
      "outputs": []
    },
    {
      "cell_type": "code",
      "source": [
        "import requests"
      ],
      "metadata": {
        "id": "egnJbZn4UmhA"
      },
      "execution_count": 7,
      "outputs": []
    },
    {
      "cell_type": "code",
      "source": [
        "def smiles_to_cid(smiles: str) -> str:\n",
        "    \"\"\"Convert SMILES to PubChem CID.\"\"\"\n",
        "    url = f\"https://pubchem.ncbi.nlm.nih.gov/rest/pug/compound/smiles/{smiles}/cids/JSON\"\n",
        "    r = requests.get(url).json()\n",
        "    # Add error handling for when CID is not found\n",
        "    if 'IdentifierList' not in r or not r['IdentifierList']['CID']:\n",
        "        raise ValueError(f\"Could not find CID for SMILES: {smiles}\")\n",
        "    return str(r['IdentifierList']['CID'][0])\n",
        "\n",
        "\n",
        "def cid_to_info(cid: str) -> dict:\n",
        "    \"\"\"Fetch compound information from PubChem (robust version).\"\"\"\n",
        "    # Try description endpoint first\n",
        "    url_desc = f\"https://pubchem.ncbi.nlm.nih.gov/rest/pug/compound/cid/{cid}/description/JSON\"\n",
        "    r = requests.get(url_desc).json()\n",
        "\n",
        "    if \"InformationList\" in r and \"Information\" in r[\"InformationList\"]:\n",
        "        info = r[\"InformationList\"][\"Information\"][0]\n",
        "        return {\n",
        "            \"cid\": cid,\n",
        "            \"name\": info.get(\"Title\", \"Unknown\"),\n",
        "            \"description\": info.get(\"Description\", \"\"),\n",
        "            \"pubchem_link\": f\"https://pubchem.ncbi.nlm.nih.gov/compound/{cid}\"\n",
        "        }\n",
        "\n",
        "    # Fallback: use property endpoint if no description\n",
        "    url_prop = f\"https://pubchem.ncbi.nlm.nih.gov/rest/pug/compound/cid/{cid}/property/IUPACName,MolecularFormula/JSON\"\n",
        "    r2 = requests.get(url_prop).json()\n",
        "    if \"PropertyTable\" in r2 and \"Properties\" in r2[\"PropertyTable\"]:\n",
        "        props = r2[\"PropertyTable\"][\"Properties\"][0]\n",
        "        return {\n",
        "            \"cid\": cid,\n",
        "            \"name\": props.get(\"IUPACName\", \"Unknown\"),\n",
        "            \"description\": f\"Formula: {props.get('MolecularFormula', 'N/A')}\",\n",
        "            \"pubchem_link\": f\"https://pubchem.ncbi.nlm.nih.gov/compound/{cid}\"\n",
        "        }\n",
        "\n",
        "    # If all fails\n",
        "    return {\n",
        "        \"cid\": cid,\n",
        "        \"name\": \"Unknown\",\n",
        "        \"description\": \"No description or properties available.\",\n",
        "        \"pubchem_link\": f\"https://pubchem.ncbi.nlm.nih.gov/compound/{cid}\"\n",
        "    }\n",
        "\n",
        "def check_anticancer(cid: str) -> bool:\n",
        "    \"\"\"Check if PubChem classification mentions anticancer activity.\"\"\"\n",
        "    url = f\"https://pubchem.ncbi.nlm.nih.gov/rest/pug/compound/cid/{cid}/classification/JSON\"\n",
        "    r = requests.get(url).json()\n",
        "    text = str(r)\n",
        "    return (\"antineoplastic\" in text.lower()) or (\"cancer\" in text.lower())\n",
        "\n",
        "def anticancer_agent_check(smiles: str) -> str:\n",
        "    \"\"\"Given SMILES, return anti-cancer status and known targets.\"\"\"\n",
        "    try:\n",
        "        cid = smiles_to_cid(smiles)\n",
        "        info = cid_to_info(cid)\n",
        "        is_anticancer = check_anticancer(cid)\n",
        "        targets = fetch_targets(cid)\n",
        "\n",
        "        result = f\"Compound: {info['name']} (CID {cid})\\n\"\n",
        "        result += f\"Description: {info['description']}\\n\"\n",
        "        result += f\"PubChem: {info['pubchem_link']}\\n\"\n",
        "        result += f\"Anti-cancer activity: {'YES' if is_anticancer else 'NO evidence found'}\\n\"\n",
        "\n",
        "        if targets:\n",
        "            result += \"\\nKnown Targets:\\n\"\n",
        "            for t in targets[:5]:  # just show first 5 to avoid overload\n",
        "                result += f\"- {t.get('target_name','?')} (GeneID: {t.get('gene_id','?')}) → {t.get('outcome','')}\\n\"\n",
        "        else:\n",
        "            result += \"\\nNo known PubChem targets found.\"\n",
        "\n",
        "        return result\n",
        "    except ValueError as e:\n",
        "        return f\"Error: {e}\"\n",
        "    except Exception as e:\n",
        "        return f\"An unexpected error occurred: {e}\""
      ],
      "metadata": {
        "id": "4-ofgyvMUzwu"
      },
      "execution_count": 30,
      "outputs": []
    },
    {
      "cell_type": "code",
      "source": [
        "def fetch_targets(cid: str) -> list:\n",
        "    \"\"\"Fetch known targets for a compound from PubChem BioAssay summary.\"\"\"\n",
        "    url = f\"https://pubchem.ncbi.nlm.nih.gov/rest/pug/compound/cid/{cid}/assaysummary/JSON\"\n",
        "    r = requests.get(url).json()\n",
        "    targets = []\n",
        "\n",
        "    try:\n",
        "        # Add checks for nested keys\n",
        "        assays = r.get(\"Table\", {}).get(\"Row\", [])\n",
        "        for assay in assays:\n",
        "            target_info = {}\n",
        "            # Add checks for nested keys\n",
        "            for cell in assay.get(\"Cell\", []):\n",
        "                if cell.get(\"ColumnName\") == \"Target Name\":\n",
        "                    target_info[\"target_name\"] = cell.get(\"CellValue\")\n",
        "                elif cell.get(\"ColumnName\") == \"Target GeneID\":\n",
        "                    target_info[\"gene_id\"] = cell.get(\"CellValue\")\n",
        "                elif cell.get(\"ColumnName\") == \"Activity Outcome\":\n",
        "                    target_info[\"outcome\"] = cell.get(\"CellValue\")\n",
        "            if target_info:\n",
        "                targets.append(target_info)\n",
        "    except Exception:\n",
        "        # Catch any other potential errors during processing\n",
        "        pass\n",
        "\n",
        "    return targets"
      ],
      "metadata": {
        "id": "EkIMSvgFYjZy"
      },
      "execution_count": 31,
      "outputs": []
    },
    {
      "cell_type": "code",
      "source": [
        "from google.colab import userdata\n",
        "import os\n",
        "\n",
        "# Set the OpenAI API key from Colab secrets\n",
        "os.environ[\"OPENAI_API_KEY\"] = userdata.get(\"OPENAI_API_KEY\")\n",
        "\n",
        "llm = ChatOpenAI(model=\"gpt-4o-mini\") # Changed model to a valid one"
      ],
      "metadata": {
        "id": "zyOPr-t5U3-g"
      },
      "execution_count": 32,
      "outputs": []
    },
    {
      "cell_type": "code",
      "source": [
        "tools = [\n",
        "    Tool(\n",
        "        name=\"SMILES_to_AntiCancer_Checker\",\n",
        "        func=anticancer_agent_check,\n",
        "        description=\"Check if a SMILES string corresponds to a known anti-cancer agent and return PubChem info including known molecular targets\"\n",
        "    )\n",
        "]\n",
        "\n",
        "agent = initialize_agent(\n",
        "    tools,\n",
        "    llm,\n",
        "    agent=\"zero-shot-react-description\",\n",
        "    verbose=True\n",
        ")"
      ],
      "metadata": {
        "id": "YVUyhczgVfmm"
      },
      "execution_count": 33,
      "outputs": []
    },
    {
      "cell_type": "code",
      "source": [
        "query = \"Is CC(=O)OC1=CC=CC=C1C(=O)O an anti-cancer agent?\"\n",
        "print(agent.run(query))"
      ],
      "metadata": {
        "colab": {
          "base_uri": "https://localhost:8080/"
        },
        "id": "BDGH-JUVVmjc",
        "outputId": "c7713a40-8ae6-429a-82c6-c049d2b61f4d"
      },
      "execution_count": 34,
      "outputs": [
        {
          "output_type": "stream",
          "name": "stdout",
          "text": [
            "\n",
            "\n",
            "\u001b[1m> Entering new AgentExecutor chain...\u001b[0m\n",
            "\u001b[32;1m\u001b[1;3mTo determine if the provided SMILES string (CC(=O)OC1=CC=CC=C1C(=O)O) corresponds to a known anti-cancer agent, I will use the SMILES_to_AntiCancer_Checker function. \n",
            "\n",
            "Action: SMILES_to_AntiCancer_Checker  \n",
            "Action Input: CC(=O)OC1=CC=CC=C1C(=O)O  \u001b[0m\n",
            "Observation: \u001b[36;1m\u001b[1;3mCompound: Aspirin (CID 2244)\n",
            "Description: \n",
            "PubChem: https://pubchem.ncbi.nlm.nih.gov/compound/2244\n",
            "Anti-cancer activity: YES\n",
            "\n",
            "No known PubChem targets found.\u001b[0m\n",
            "Thought:\u001b[32;1m\u001b[1;3mI have confirmed that the SMILES string CC(=O)OC1=CC=CC=C1C(=O)O corresponds to Aspirin, which is recognized as an anti-cancer agent. However, there were no known PubChem targets found for this compound.\n",
            "\n",
            "Final Answer: Yes, CC(=O)OC1=CC=CC=C1C(=O)O is an anti-cancer agent, corresponding to Aspirin.\u001b[0m\n",
            "\n",
            "\u001b[1m> Finished chain.\u001b[0m\n",
            "Yes, CC(=O)OC1=CC=CC=C1C(=O)O is an anti-cancer agent, corresponding to Aspirin.\n"
          ]
        }
      ]
    },
    {
      "cell_type": "code",
      "source": [
        "query = \"Check if CC(=O)OC1=CC=CC=C1C(=O)O is an anti-cancer agent and list known targets.\"\n",
        "print(agent.run(query))"
      ],
      "metadata": {
        "colab": {
          "base_uri": "https://localhost:8080/"
        },
        "id": "bP97HLGqZNpo",
        "outputId": "19b2536d-22d5-4032-e2f8-f968bcca2b3a"
      },
      "execution_count": 24,
      "outputs": [
        {
          "output_type": "stream",
          "name": "stdout",
          "text": [
            "\n",
            "\n",
            "\u001b[1m> Entering new AgentExecutor chain...\u001b[0m\n",
            "\u001b[32;1m\u001b[1;3mI will check if the SMILES string CC(=O)OC1=CC=CC=C1C(=O)O corresponds to a known anti-cancer agent and retrieve the relevant information. \n",
            "Action: SMILES_to_AntiCancer_Checker \n",
            "Action Input: CC(=O)OC1=CC=CC=C1C(=O)O \u001b[0m\n",
            "Observation: \u001b[36;1m\u001b[1;3mCompound: Aspirin (CID 2244)\n",
            "Description: \n",
            "PubChem: https://pubchem.ncbi.nlm.nih.gov/compound/2244\n",
            "Anti-cancer activity: YES\n",
            "\n",
            "No known PubChem targets found.\u001b[0m\n",
            "Thought:\u001b[32;1m\u001b[1;3mI have confirmed that the compound represented by the SMILES string CC(=O)OC1=CC=CC=C1C(=O)O is indeed an anti-cancer agent, specifically Aspirin. However, there are no known molecular targets listed in PubChem for this compound. \n",
            "\n",
            "Final Answer: CC(=O)OC1=CC=CC=C1C(=O)O is an anti-cancer agent (Aspirin, CID 2244), but there are no known targets associated with it.\u001b[0m\n",
            "\n",
            "\u001b[1m> Finished chain.\u001b[0m\n",
            "CC(=O)OC1=CC=CC=C1C(=O)O is an anti-cancer agent (Aspirin, CID 2244), but there are no known targets associated with it.\n"
          ]
        }
      ]
    },
    {
      "cell_type": "code",
      "source": [
        "query = \"Check if C1CC1C(=O)NC2=CC=CC(=C2)NC3=NC=NC(=C3)NC4=CC=CC(=C4)C(F)(F)F is an anti-cancer agent and list known targets.\"\n",
        "print(agent.run(query))"
      ],
      "metadata": {
        "colab": {
          "base_uri": "https://localhost:8080/"
        },
        "id": "15s0Y3oEaHNo",
        "outputId": "a3f803a5-0bb0-4302-c6cb-57dfc0ffd6be"
      },
      "execution_count": 36,
      "outputs": [
        {
          "output_type": "stream",
          "name": "stdout",
          "text": [
            "\n",
            "\n",
            "\u001b[1m> Entering new AgentExecutor chain...\u001b[0m\n",
            "\u001b[32;1m\u001b[1;3mI need to check the given SMILES string to see if it corresponds to a known anti-cancer agent and retrieve any associated information about molecular targets. \n",
            "Action: SMILES_to_AntiCancer_Checker \n",
            "Action Input: C1CC1C(=O)NC2=CC=CC(=C2)NC3=NC=NC(=C3)NC4=CC=CC(=C4)C(F)(F)F \u001b[0m\n",
            "Observation: \u001b[36;1m\u001b[1;3mCompound: EGFR inhibitor (CID 9549299)\n",
            "Description: \n",
            "PubChem: https://pubchem.ncbi.nlm.nih.gov/compound/9549299\n",
            "Anti-cancer activity: YES\n",
            "\n",
            "No known PubChem targets found.\u001b[0m\n",
            "Thought:\u001b[32;1m\u001b[1;3mI have confirmed that the SMILES string corresponds to a known anti-cancer agent, specifically an EGFR inhibitor. However, there are no known molecular targets listed for this compound in the provided data. \n",
            "\n",
            "Final Answer: The compound represented by the SMILES string C1CC1C(=O)NC2=CC=CC(=C2)NC3=NC=NC(=C3)NC4=CC=CC(=C4)C(F)(F)F is an anti-cancer agent (EGFR inhibitor), but there are no known targets. For more information, you can refer to its PubChem entry [here](https://pubchem.ncbi.nlm.nih.gov/compound/9549299).\u001b[0m\n",
            "\n",
            "\u001b[1m> Finished chain.\u001b[0m\n",
            "The compound represented by the SMILES string C1CC1C(=O)NC2=CC=CC(=C2)NC3=NC=NC(=C3)NC4=CC=CC(=C4)C(F)(F)F is an anti-cancer agent (EGFR inhibitor), but there are no known targets. For more information, you can refer to its PubChem entry [here](https://pubchem.ncbi.nlm.nih.gov/compound/9549299).\n"
          ]
        }
      ]
    },
    {
      "cell_type": "code",
      "source": [
        "from langchain.agents import initialize_agent, Tool\n",
        "from langchain_openai import ChatOpenAI\n",
        "import requests\n",
        "\n",
        "# -----------------------------\n",
        "# PubChem Helpers\n",
        "# -----------------------------\n",
        "def smiles_to_cid(smiles: str) -> str:\n",
        "    url = f\"https://pubchem.ncbi.nlm.nih.gov/rest/pug/compound/smiles/{smiles}/cids/JSON\"\n",
        "    r = requests.get(url).json()\n",
        "    return str(r['IdentifierList']['CID'][0])\n",
        "\n",
        "def cid_to_info(cid: str) -> dict:\n",
        "    \"\"\"Fetch compound info (robust fallback).\"\"\"\n",
        "    url_desc = f\"https://pubchem.ncbi.nlm.nih.gov/rest/pug/compound/cid/{cid}/description/JSON\"\n",
        "    r = requests.get(url_desc).json()\n",
        "\n",
        "    if \"InformationList\" in r and \"Information\" in r[\"InformationList\"]:\n",
        "        info = r[\"InformationList\"][\"Information\"][0]\n",
        "        return {\n",
        "            \"cid\": cid,\n",
        "            \"name\": info.get(\"Title\", \"Unknown\"),\n",
        "            \"description\": info.get(\"Description\", \"\"),\n",
        "            \"pubchem_link\": f\"https://pubchem.ncbi.nlm.nih.gov/compound/{cid}\"\n",
        "        }\n",
        "\n",
        "    # fallback: basic properties\n",
        "    url_prop = f\"https://pubchem.ncbi.nlm.nih.gov/rest/pug/compound/cid/{cid}/property/IUPACName,MolecularFormula/JSON\"\n",
        "    r2 = requests.get(url_prop).json()\n",
        "    if \"PropertyTable\" in r2:\n",
        "        props = r2[\"PropertyTable\"][\"Properties\"][0]\n",
        "        return {\n",
        "            \"cid\": cid,\n",
        "            \"name\": props.get(\"IUPACName\", \"Unknown\"),\n",
        "            \"description\": f\"Formula: {props.get('MolecularFormula', 'N/A')}\",\n",
        "            \"pubchem_link\": f\"https://pubchem.ncbi.nlm.nih.gov/compound/{cid}\"\n",
        "        }\n",
        "\n",
        "    return {\"cid\": cid, \"name\": \"Unknown\", \"description\": \"\", \"pubchem_link\": f\"https://pubchem.ncbi.nlm.nih.gov/compound/{cid}\"}\n",
        "\n",
        "def check_anticancer(cid: str) -> bool:\n",
        "    url = f\"https://pubchem.ncbi.nlm.nih.gov/rest/pug/compound/cid/{cid}/classification/JSON\"\n",
        "    r = requests.get(url).json()\n",
        "    return \"cancer\" in str(r).lower() or \"antineoplastic\" in str(r).lower()\n",
        "\n",
        "def fetch_targets(cid: str) -> list:\n",
        "    url = f\"https://pubchem.ncbi.nlm.nih.gov/rest/pug/compound/cid/{cid}/assaysummary/JSON\"\n",
        "    r = requests.get(url).json()\n",
        "    targets = []\n",
        "    try:\n",
        "        for assay in r[\"Table\"][\"Row\"]:\n",
        "            target_info = {}\n",
        "            for cell in assay[\"Cell\"]:\n",
        "                if cell[\"ColumnName\"] == \"Target Name\":\n",
        "                    target_info[\"target_name\"] = cell[\"CellValue\"]\n",
        "                elif cell[\"ColumnName\"] == \"Target GeneID\":\n",
        "                    target_info[\"gene_id\"] = cell[\"CellValue\"]\n",
        "                elif cell[\"ColumnName\"] == \"Activity Outcome\":\n",
        "                    target_info[\"outcome\"] = cell[\"CellValue\"]\n",
        "            if target_info:\n",
        "                targets.append(target_info)\n",
        "    except Exception:\n",
        "        pass\n",
        "    return targets\n",
        "\n",
        "# -----------------------------\n",
        "# PubMed Helper\n",
        "# -----------------------------\n",
        "def pubmed_search(query: str, max_results: int = 5):\n",
        "    url = \"https://eutils.ncbi.nlm.nih.gov/entrez/eutils/esearch.fcgi\"\n",
        "    params = {\"db\": \"pubmed\", \"term\": query, \"retmode\": \"json\", \"retmax\": max_results}\n",
        "    r = requests.get(url, params=params).json()\n",
        "    ids = r.get(\"esearchresult\", {}).get(\"idlist\", [])\n",
        "    summaries = []\n",
        "\n",
        "    if ids:\n",
        "        fetch_url = \"https://eutils.ncbi.nlm.nih.gov/entrez/eutils/esummary.fcgi\"\n",
        "        fetch_params = {\"db\": \"pubmed\", \"id\": \",\".join(ids), \"retmode\": \"json\"}\n",
        "        r2 = requests.get(fetch_url, params=fetch_params).json()\n",
        "        for pid in ids:\n",
        "            info = r2.get(\"result\", {}).get(pid, {})\n",
        "            if info:\n",
        "                summaries.append({\n",
        "                    \"pmid\": pid,\n",
        "                    \"title\": info.get(\"title\", \"N/A\"),\n",
        "                    \"journal\": info.get(\"fulljournalname\", \"N/A\"),\n",
        "                    \"pubdate\": info.get(\"pubdate\", \"N/A\")\n",
        "                })\n",
        "    return summaries\n",
        "\n",
        "\n",
        "def fetch_mechanism_of_action(cid: str) -> str:\n",
        "    \"\"\"Get mechanism of action / targets from PubChem PUG View.\"\"\"\n",
        "    url = f\"https://pubchem.ncbi.nlm.nih.gov/rest/pug_view/data/compound/{cid}/JSON\"\n",
        "    r = requests.get(url).json()\n",
        "\n",
        "    moa = []\n",
        "\n",
        "    def parse_section(section):\n",
        "        # If section has text, capture it\n",
        "        if \"Information\" in section:\n",
        "            for info in section[\"Information\"]:\n",
        "                if \"StringValue\" in info:\n",
        "                    text = info[\"StringValue\"]\n",
        "                    # Heuristic: only keep mechanism/target-related strings\n",
        "                    if any(kw in text.lower() for kw in [\"inhibitor\", \"target\", \"mechanism\", \"kinase\"]):\n",
        "                        moa.append(text)\n",
        "        # Recursively parse subsections\n",
        "        if \"Section\" in section:\n",
        "            for subsection in section[\"Section\"]:\n",
        "                parse_section(subsection)\n",
        "\n",
        "    try:\n",
        "        for section in r[\"Record\"][\"Section\"]:\n",
        "            parse_section(section)\n",
        "    except Exception:\n",
        "        pass\n",
        "\n",
        "    return \" | \".join(set(moa)) if moa else \"No mechanism of action found\"\n",
        "\n",
        "\n",
        "# -----------------------------\n",
        "# Main Agent Tool\n",
        "# -----------------------------\n",
        "def anticancer_agent_check(smiles: str) -> str:\n",
        "    cid = smiles_to_cid(smiles)\n",
        "    info = cid_to_info(cid)\n",
        "    is_anticancer = check_anticancer(cid)\n",
        "    targets = fetch_targets(cid)\n",
        "    moa = fetch_mechanism_of_action(cid)   # <---- NEW\n",
        "    pubmed_hits = pubmed_search(f\"{info['name']} cancer target\", max_results=5)\n",
        "\n",
        "    result = f\"🔬 Compound: {info['name']} (CID {cid})\\n\"\n",
        "    result += f\"📖 Description: {info['description']}\\n\"\n",
        "    result += f\"🔗 PubChem: {info['pubchem_link']}\\n\"\n",
        "    result += f\"🎯 Anti-cancer activity (PubChem): {'YES' if is_anticancer else 'No evidence found'}\\n\"\n",
        "    result += f\"⚙️ Mechanism of Action: {moa}\\n\"\n",
        "\n",
        "    if targets:\n",
        "        result += \"\\n📌 Known PubChem BioAssay Targets:\\n\"\n",
        "        for t in targets[:5]:\n",
        "            result += f\"- {t.get('target_name','?')} (GeneID {t.get('gene_id','?')}) → {t.get('outcome','')}\\n\"\n",
        "    else:\n",
        "        result += \"\\n📌 No known PubChem BioAssay targets found.\\n\"\n",
        "\n",
        "    if pubmed_hits:\n",
        "        result += \"\\n📚 PubMed Evidence (top hits):\\n\"\n",
        "        for h in pubmed_hits:\n",
        "            result += f\"- {h['title']} ({h['journal']}, {h['pubdate']}) PMID:{h['pmid']}\\n\"\n",
        "    else:\n",
        "        result += \"\\n📚 No PubMed cancer-target articles found.\"\n",
        "\n",
        "    return result\n",
        "\n",
        "\n",
        "# -----------------------------\n",
        "# LangChain Agent\n",
        "# -----------------------------\n",
        "llm = ChatOpenAI(model=\"gpt-4o-mini\")  # swap with gpt-5 if you want\n",
        "\n",
        "tools = [\n",
        "    Tool(\n",
        "        name=\"SMILES_to_AntiCancer_Checker\",\n",
        "        func=anticancer_agent_check,\n",
        "        description=\"Check if a SMILES corresponds to a known anti-cancer agent; includes PubChem info, targets, and PubMed cancer-target articles.\"\n",
        "    )\n",
        "]\n",
        "\n",
        "agent = initialize_agent(\n",
        "    tools,\n",
        "    llm,\n",
        "    agent=\"zero-shot-react-description\",\n",
        "    verbose=True\n",
        ")\n",
        "\n",
        "# -----------------------------\n",
        "# Example run\n",
        "# -----------------------------\n",
        "query = \"Check if  C1CC1C(=O)NC2=CC=CC(=C2)NC3=NC=NC(=C3)NC4=CC=CC(=C4)C(F)(F)F is an anti-cancer agent and list known targets.\"\n",
        "print(agent.run(query))\n"
      ],
      "metadata": {
        "colab": {
          "base_uri": "https://localhost:8080/"
        },
        "id": "aypWZ5c0dCGe",
        "outputId": "afe2a705-5d09-4daf-b9a2-685a81143832"
      },
      "execution_count": 45,
      "outputs": [
        {
          "output_type": "stream",
          "name": "stdout",
          "text": [
            "\n",
            "\n",
            "\u001b[1m> Entering new AgentExecutor chain...\u001b[0m\n",
            "\u001b[32;1m\u001b[1;3mI need to check if the given SMILES corresponds to a known anti-cancer agent, and if so, identify its targets. \n",
            "Action: SMILES_to_AntiCancer_Checker\n",
            "Action Input: C1CC1C(=O)NC2=CC=CC(=C2)NC3=NC=NC(=C3)NC4=CC=CC(=C4)C(F)(F)F\u001b[0m\n",
            "Observation: \u001b[36;1m\u001b[1;3m🔬 Compound: EGFR inhibitor (CID 9549299)\n",
            "📖 Description: \n",
            "🔗 PubChem: https://pubchem.ncbi.nlm.nih.gov/compound/9549299\n",
            "🎯 Anti-cancer activity (PubChem): YES\n",
            "⚙️ Mechanism of Action: No mechanism of action found\n",
            "\n",
            "📌 No known PubChem BioAssay targets found.\n",
            "\n",
            "📚 PubMed Evidence (top hits):\n",
            "- Current indications for surgery in patients with lung cancer after neoadjuvant targeted therapy: a systematic review. (Updates in surgery, 2025 Sep 25) PMID:40996635\n",
            "- Exploring the potential toxic mechanisms of bisphenol F exposure in acute myeloid leukemia: Insights from network toxicology, molecular docking and experimental validation. (International immunopharmacology, 2025 Sep 23) PMID:40991994\n",
            "- Phase II single-arm study of palbociclib and cetuximab in anti-EGFR naïve patients with KRAS/NRAS/BRAF wild-type, metastatic colorectal cancer. (The oncologist, 2025 Sep 24) PMID:40990835\n",
            "- Downregulated of CTGF reveals mechanism, remodels immune microenvironment, modulates drug sensitivity in bladder cancer. (Future science OA, 2025 Dec) PMID:40990254\n",
            "- Research progress and challenges in the treatment of oncogene-addicted non-small cell lung cancer. (Cancer biology & medicine, 2025 Sep 23) PMID:40988453\n",
            "\u001b[0m\n",
            "Thought:\u001b[32;1m\u001b[1;3mI now know that the given SMILES corresponds to a known anti-cancer agent, specifically an EGFR inhibitor, but no detailed mechanism of action or PubChem BioAssay targets were identified.\n",
            "\n",
            "Final Answer: The compound with SMILES C1CC1C(=O)NC2=CC=CC(=C2)NC3=NC=NC(=C3)NC4=CC=CC(=C4)C(F)(F)F is an anti-cancer agent, classified as an EGFR inhibitor. However, there are no known PubChem BioAssay targets available, and no specific mechanism of action was found.\u001b[0m\n",
            "\n",
            "\u001b[1m> Finished chain.\u001b[0m\n",
            "The compound with SMILES C1CC1C(=O)NC2=CC=CC(=C2)NC3=NC=NC(=C3)NC4=CC=CC(=C4)C(F)(F)F is an anti-cancer agent, classified as an EGFR inhibitor. However, there are no known PubChem BioAssay targets available, and no specific mechanism of action was found.\n"
          ]
        }
      ]
    },
    {
      "cell_type": "code",
      "source": [
        "query = \"Check if  CCCS(=O)(=O)NC1=C(C(=C(C=C1)F)C(=O)C2=CNC3=C2C=C(C=N3)C4=CC=C(C=C4)Cl)F is an anti-cancer agent and list known targets.\"\n",
        "print(agent.run(query))"
      ],
      "metadata": {
        "colab": {
          "base_uri": "https://localhost:8080/"
        },
        "id": "jcV2jSohd-Np",
        "outputId": "e4015ad7-d84d-44b6-b408-03b11cf48236"
      },
      "execution_count": 46,
      "outputs": [
        {
          "output_type": "stream",
          "name": "stdout",
          "text": [
            "\n",
            "\n",
            "\u001b[1m> Entering new AgentExecutor chain...\u001b[0m\n",
            "\u001b[32;1m\u001b[1;3mI need to check if the provided SMILES corresponds to a known anti-cancer agent and gather associated targets. I'll use the SMILES_to_AntiCancer_Checker function for this purpose. \n",
            "\n",
            "Action: SMILES_to_AntiCancer_Checker  \n",
            "Action Input: CCCS(=O)(=O)NC1=C(C(=C(C=C1)F)C(=O)C2=CNC3=C2C=C(C=N3)C4=CC=C(C=C4)Cl)F  \u001b[0m\n",
            "Observation: \u001b[36;1m\u001b[1;3m🔬 Compound: Vemurafenib (CID 42611257)\n",
            "📖 Description: \n",
            "🔗 PubChem: https://pubchem.ncbi.nlm.nih.gov/compound/42611257\n",
            "🎯 Anti-cancer activity (PubChem): YES\n",
            "⚙️ Mechanism of Action: No mechanism of action found\n",
            "\n",
            "📌 No known PubChem BioAssay targets found.\n",
            "\n",
            "📚 PubMed Evidence (top hits):\n",
            "- Thyroid cancer: From molecular insights to therapy (Review). (Oncology letters, 2025 Nov) PMID:40980146\n",
            "- Combining Molecular Dynamics and Machine Learning to Predict Drug Resistance Causing Variants of BRAF in Colorectal Cancer. (Molecules (Basel, Switzerland), 2025 Aug 30) PMID:40942081\n",
            "- Targeting melanoma resistance: Novel oxindole and non-oxindole-based benzimidazole derivatives as potent dual inhibitors of BRAF(V600E) and ABL2 kinases. (European journal of medicinal chemistry, 2025 Aug 26) PMID:40911967\n",
            "- PRDM14 promoted NSCLC cell proliferation, migration and invasion via modulating H3K27me3-mediated PEBP1/Raf-1/MEK/ERK MAPK signaling. (Genes & genomics, 2025 Aug 26) PMID:40856954\n",
            "- Targeted therapy combinations with ipatasertib in multi-cell type 3D tumor spheroid models. (Academia oncology, 2025) PMID:40761343\n",
            "\u001b[0m\n",
            "Thought:\u001b[32;1m\u001b[1;3mI now know the final answer.  \n",
            "Final Answer: The compound CCCS(=O)(=O)NC1=C(C(=C(C=C1)F)C(=O)C2=CNC3=C2C=C(C=N3)C4=CC=C(C=C4)Cl)F corresponds to Vemurafenib (CID 42611257), which is a known anti-cancer agent. However, no specific PubChem BioAssay targets were found. The relevant PubMed articles provide evidence related to its use in thyroid cancer and colorectal cancer, among other studies.\u001b[0m\n",
            "\n",
            "\u001b[1m> Finished chain.\u001b[0m\n",
            "The compound CCCS(=O)(=O)NC1=C(C(=C(C=C1)F)C(=O)C2=CNC3=C2C=C(C=N3)C4=CC=C(C=C4)Cl)F corresponds to Vemurafenib (CID 42611257), which is a known anti-cancer agent. However, no specific PubChem BioAssay targets were found. The relevant PubMed articles provide evidence related to its use in thyroid cancer and colorectal cancer, among other studies.\n"
          ]
        }
      ]
    },
    {
      "cell_type": "code",
      "source": [],
      "metadata": {
        "id": "VT2ahKZ8d_PS"
      },
      "execution_count": null,
      "outputs": []
    }
  ]
}